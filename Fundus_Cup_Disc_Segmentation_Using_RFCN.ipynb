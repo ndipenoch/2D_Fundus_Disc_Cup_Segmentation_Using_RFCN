{
  "nbformat": 4,
  "nbformat_minor": 0,
  "metadata": {
    "colab": {
      "name": "Fundus_Cup_Disc_Segmentation_Using_RFCN.ipynb",
      "provenance": [],
      "collapsed_sections": [],
      "machine_shape": "hm"
    },
    "kernelspec": {
      "name": "python3",
      "display_name": "Python 3"
    },
    "language_info": {
      "name": "python"
    },
    "accelerator": "GPU"
  },
  "cells": [
    {
      "cell_type": "code",
      "metadata": {
        "colab": {
          "base_uri": "https://localhost:8080/"
        },
        "id": "sXr_N8wyZnj3",
        "outputId": "394942a8-539e-4219-e84a-8a05e224ff2a"
      },
      "source": [
        "pip install tensorboardX"
      ],
      "execution_count": 3,
      "outputs": [
        {
          "output_type": "stream",
          "name": "stdout",
          "text": [
            "Collecting tensorboardX\n",
            "  Downloading tensorboardX-2.4-py2.py3-none-any.whl (124 kB)\n",
            "\u001b[?25l\r\u001b[K     |██▋                             | 10 kB 37.5 MB/s eta 0:00:01\r\u001b[K     |█████▎                          | 20 kB 26.6 MB/s eta 0:00:01\r\u001b[K     |████████                        | 30 kB 18.6 MB/s eta 0:00:01\r\u001b[K     |██████████▌                     | 40 kB 15.8 MB/s eta 0:00:01\r\u001b[K     |█████████████▏                  | 51 kB 8.8 MB/s eta 0:00:01\r\u001b[K     |███████████████▉                | 61 kB 8.6 MB/s eta 0:00:01\r\u001b[K     |██████████████████▍             | 71 kB 8.3 MB/s eta 0:00:01\r\u001b[K     |█████████████████████           | 81 kB 9.3 MB/s eta 0:00:01\r\u001b[K     |███████████████████████▊        | 92 kB 9.4 MB/s eta 0:00:01\r\u001b[K     |██████████████████████████▎     | 102 kB 8.4 MB/s eta 0:00:01\r\u001b[K     |█████████████████████████████   | 112 kB 8.4 MB/s eta 0:00:01\r\u001b[K     |███████████████████████████████▋| 122 kB 8.4 MB/s eta 0:00:01\r\u001b[K     |████████████████████████████████| 124 kB 8.4 MB/s \n",
            "\u001b[?25hRequirement already satisfied: protobuf>=3.8.0 in /usr/local/lib/python3.7/dist-packages (from tensorboardX) (3.17.3)\n",
            "Requirement already satisfied: numpy in /usr/local/lib/python3.7/dist-packages (from tensorboardX) (1.19.5)\n",
            "Requirement already satisfied: six>=1.9 in /usr/local/lib/python3.7/dist-packages (from protobuf>=3.8.0->tensorboardX) (1.15.0)\n",
            "Installing collected packages: tensorboardX\n",
            "Successfully installed tensorboardX-2.4\n"
          ]
        }
      ]
    },
    {
      "cell_type": "code",
      "metadata": {
        "colab": {
          "base_uri": "https://localhost:8080/"
        },
        "id": "aO2cOW81TuSM",
        "outputId": "ce7c3ba3-20d0-459b-8a5d-149f5c44f3d9"
      },
      "source": [
        "from google.colab import drive\n",
        "drive.mount('/content/drive')"
      ],
      "execution_count": 1,
      "outputs": [
        {
          "output_type": "stream",
          "name": "stdout",
          "text": [
            "Mounted at /content/drive\n"
          ]
        }
      ]
    },
    {
      "cell_type": "markdown",
      "metadata": {
        "id": "QEGk3u_0Ury6"
      },
      "source": [
        "<h3><center>Imports</center></h3>"
      ]
    },
    {
      "cell_type": "code",
      "metadata": {
        "id": "i8TKA1W8Uy2m"
      },
      "source": [
        "import torch\n",
        "import torch.nn.functional as F\n",
        "import torch.nn as nn\n",
        "import os\n",
        "import scipy\n",
        "import numpy as np\n",
        "from skimage.measure import label, regionprops\n",
        "import cv2\n",
        "import math\n",
        "import torch\n",
        "import random\n",
        "from PIL import Image\n",
        "from torch.utils.data import Dataset\n",
        "from torchvision.transforms import functional as TF\n",
        "from skimage.transform import rotate, resize\n",
        "import argparse\n",
        "from tqdm import tqdm\n",
        "import torch.optim as optim\n",
        "from torch.autograd import Variable\n",
        "import torch.backends.cudnn as cudnn\n",
        "from tensorboardX import SummaryWriter\n",
        "from torch.utils.data import DataLoader"
      ],
      "execution_count": 4,
      "outputs": []
    },
    {
      "cell_type": "markdown",
      "metadata": {
        "id": "YBMKEULRVO9v"
      },
      "source": [
        "<h3><center>RFCN Model</center></h3>"
      ]
    },
    {
      "cell_type": "code",
      "metadata": {
        "id": "ZdefsJNCVXv2"
      },
      "source": [
        "__all__ = ['RFCN']\n",
        "\n",
        "def conv3x3(in_channels, out_channels, stride=1):\n",
        "         return nn.Conv2d(in_channels, out_channels, kernel_size=3, \n",
        "                     stride=stride, padding=1, bias=False)\n",
        "\n",
        "class BasicBlock(nn.Module):\n",
        "    def __init__(self, in_planes, planes, recurrent_n=2, active_func=nn.ReLU(inplace=True)):\n",
        "        super(BasicBlock, self).__init__()\n",
        "        self.block = nn.Sequential(\n",
        "            conv3x3(in_planes, planes),\n",
        "            nn.BatchNorm2d(planes),\n",
        "            active_func,\n",
        "            conv3x3(planes, planes),\n",
        "            nn.BatchNorm2d(planes),\n",
        "            active_func\n",
        "        )\n",
        "\n",
        "    def forward(self, x):\n",
        "        return self.block(x)\n",
        "\n",
        "\n",
        "class RecurrentBlock(nn.Module):\n",
        "    def __init__(self, in_planes, planes, recurrent_n=2, active_func=nn.ReLU(inplace=True)):\n",
        "        super(RecurrentBlock, self).__init__()\n",
        "        self.recurrent_n = recurrent_n\n",
        "        self.conv1 = conv3x3(in_planes, planes)\n",
        "        self.bn1 = nn.BatchNorm2d(planes)\n",
        "        self.active_func = active_func\n",
        "\n",
        "        self.RCL = conv3x3(planes, planes)\n",
        "        self.bn2 = nn.ModuleList()\n",
        "        for n in range(recurrent_n):\n",
        "            self.bn2.append(nn.BatchNorm2d(planes))\n",
        "\n",
        "    def forward(self, x):\n",
        "        conv1 = self.bn1(self.conv1(x))\n",
        "        active = self.active_func(conv1)\n",
        "        for n in range(self.recurrent_n):\n",
        "            conv2 = self.bn2[n](self.RCL(active))\n",
        "            active = self.active_func(conv1 + conv2)\n",
        "\n",
        "        return active\n",
        "\n",
        "\n",
        "class RecurrentBlock2(nn.Module):\n",
        "    def __init__(self, in_planes, planes, recurrent_n=2, active_func=nn.ReLU(inplace=True)):\n",
        "        super(RecurrentBlock2, self).__init__()\n",
        "        self.recurrent_basic_block1 = RecurrentBlock(in_planes, planes, recurrent_n=recurrent_n, active_func=active_func)\n",
        "        self.recurrent_basic_block2 = RecurrentBlock(planes, planes, recurrent_n=recurrent_n, active_func=active_func)\n",
        "\n",
        "    def forward(self, x):\n",
        "        out = self.recurrent_basic_block1(x)\n",
        "        out = self.recurrent_basic_block2(out)\n",
        "        return out\n",
        "\n",
        "\n",
        "class RecurrentBasicBlock(nn.Module):\n",
        "    def __init__(self, in_planes, planes, stride=1, recurrent_n=2, active_func=nn.ReLU(inplace=True)):\n",
        "        super(RecurrentBasicBlock, self).__init__()\n",
        "        self.recurrent_n = recurrent_n\n",
        "        self.recurrent_basic_block_1 = BasicBlock(in_planes, planes, recurrent_n=recurrent_n, active_func=active_func)\n",
        "        self.recurrent_basic_block_2 = BasicBlock(planes, planes, recurrent_n=recurrent_n, active_func=active_func)\n",
        "\n",
        "    def forward(self, x):\n",
        "        out = self.recurrent_basic_block_1(x)\n",
        "\n",
        "        out_2 = out\n",
        "        for n in range(self.recurrent_n):\n",
        "            out_2 = self.recurrent_basic_block_2(out_2) + out\n",
        "\n",
        "        return out_2\n",
        "\n",
        "\n",
        "class RecurrentBasicBlock2(nn.Module):\n",
        "    def __init__(self, in_planes, planes, stride=1, recurrent_n=2, active_func=nn.ReLU(inplace=True)):\n",
        "        super(RecurrentBasicBlock2, self).__init__()\n",
        "        self.recurrent_n = recurrent_n\n",
        "        self.recurrent_basic_block_1 = RecurrentBasicBlock(in_planes, planes, recurrent_n=recurrent_n, active_func=active_func)\n",
        "        self.recurrent_basic_block_2 = RecurrentBasicBlock(planes, planes, recurrent_n=recurrent_n, active_func=active_func)\n",
        "\n",
        "    def forward(self, x):\n",
        "        out = self.recurrent_basic_block_1(x)\n",
        "        out = self.recurrent_basic_block_2(out)\n",
        "        return out\n",
        "\n",
        "\n",
        "class BasicNet(nn.Module):\n",
        "\n",
        "    def __init__(self, filters, block, recurrent_n=2, layers=4, kernel=3, inplanes=3, num_classes=2, active_func=None):\n",
        "        super().__init__()\n",
        "        self.filters = filters\n",
        "        self.layers = layers\n",
        "        self.kernel = kernel\n",
        "        self.inplanes = inplanes\n",
        "        self.active_func = active_func\n",
        "\n",
        "        self.leakyRelu = nn.LeakyReLU(negative_slope=0.2, inplace=True)\n",
        "        self.relu = nn.ReLU(inplace=True)\n",
        "\n",
        "        self.down_conv_list = nn.ModuleList()\n",
        "        self.down_conv_2_list = nn.ModuleList()\n",
        "        self.down_scale_conv_list = nn.ModuleList()\n",
        "        for i in range(layers):\n",
        "            self.down_conv_list.append(block(inplanes if i == 0 else filters * 2 ** i, filters * 2 ** i,\n",
        "                                             recurrent_n=recurrent_n, active_func=self.leakyRelu))\n",
        "            self.down_conv_2_list.append(nn.Sequential(\n",
        "                conv3x3(filters * 2 ** i, filters * 2 ** (i + 1), 2),\n",
        "                nn.BatchNorm2d(filters * 2 ** (i + 1))\n",
        "            ))\n",
        "            if i != layers - 1:\n",
        "                self.down_scale_conv_list.append(nn.Sequential(\n",
        "                    conv3x3(inplanes, filters * 2 ** (i + 1)),\n",
        "                    nn.BatchNorm2d(filters * 2 ** (i + 1))\n",
        "                ))\n",
        "\n",
        "        self.bottom = block(filters * 2 ** layers, filters * 2 ** layers, recurrent_n=recurrent_n, active_func=self.leakyRelu)\n",
        "\n",
        "        self.up_convtrans_list = nn.ModuleList()\n",
        "        self.up_conv_list = nn.ModuleList()\n",
        "        self.out_conv = nn.ModuleList()\n",
        "        for i in range(0, layers):\n",
        "            self.up_convtrans_list.append(nn.Sequential(\n",
        "                nn.ConvTranspose2d(in_channels=filters * 2 ** (layers - i), out_channels=filters * 2 ** max(0, layers - i - 1),\n",
        "                                   kernel_size=3, stride=2, padding=1, output_padding=1, bias=True),\n",
        "                nn.BatchNorm2d(filters * 2 ** max(0, layers - i - 1))\n",
        "            ))\n",
        "            self.up_conv_list.append(block(filters * 2 ** max(0, layers - i - 1), filters * 2 ** max(0, layers - i - 1),\n",
        "                                           recurrent_n=recurrent_n, active_func=self.relu))\n",
        "\n",
        "            self.out_conv.append(conv3x3(filters * 2 ** (self.layers - i - 1), num_classes))\n",
        "\n",
        "    def forward(self, x):\n",
        "        x_down = down_out = x\n",
        "        down_outs = []\n",
        "        for i in range(0, self.layers):\n",
        "            down_out = self.down_conv_list[i](down_out)\n",
        "            down_outs.append(down_out)\n",
        "            down_out = self.down_conv_2_list[i](down_out)\n",
        "            if i != self.layers - 1:\n",
        "                x_down = F.avg_pool2d(x_down, 2)\n",
        "                down_out = self.leakyRelu(down_out + self.down_scale_conv_list[i](x_down))\n",
        "            else:\n",
        "                down_out = self.leakyRelu(down_out)\n",
        "\n",
        "        # bottom branch\n",
        "        up_out = self.bottom(down_out)\n",
        "\n",
        "        outs = []\n",
        "        out_final = None\n",
        "        for j in range(self.layers):\n",
        "            up_out = self.relu(down_outs[self.layers - j - 1] + self.up_convtrans_list[j](up_out))\n",
        "            up_out = self.up_conv_list[j](up_out)\n",
        "\n",
        "            out = F.interpolate(up_out, size=(up_out.shape[2] * 2 ** (self.layers - j - 1), up_out.shape[3] * 2 ** (self.layers - j - 1)))\n",
        "            out = self.out_conv[j](out)\n",
        "            if self.active_func is not None:\n",
        "                out = self.active_func(out, dim=1)\n",
        "            outs.append(out)\n",
        "            out_final = out if out_final is None else out_final + out\n",
        "\n",
        "        out_final /= self.layers\n",
        "        outs.append(out_final)\n",
        "        return outs\n",
        "\n",
        "\n",
        "def RFCN(filters, layers=4, kernel=3, inplanes=3, num_classes=2, active_func=None, recurrent_n=2):\n",
        "    return BasicNet(filters=filters, block=RecurrentBasicBlock2, layers=layers, kernel=kernel, inplanes=inplanes, num_classes=num_classes,\n",
        "                    active_func=active_func, recurrent_n=recurrent_n)"
      ],
      "execution_count": 5,
      "outputs": []
    },
    {
      "cell_type": "markdown",
      "metadata": {
        "id": "Puu-k-bOV95z"
      },
      "source": [
        "<h3><center>Utils Functions</center></h3>"
      ]
    },
    {
      "cell_type": "code",
      "metadata": {
        "id": "oDWyB9zpWEGA"
      },
      "source": [
        "def mkdir_p(path):\n",
        "    try:\n",
        "        os.makedirs(path)\n",
        "        return path\n",
        "    except OSError as exc:  # Python >2.5\n",
        "        import errno\n",
        "        if exc.errno == errno.EEXIST and os.path.isdir(path):\n",
        "            pass\n",
        "        else:\n",
        "            raise\n",
        "\n",
        "\n",
        "def get_lr(optimizer):\n",
        "    for param_group in optimizer.param_groups:\n",
        "        return param_group['lr']\n",
        "\n",
        "\n",
        "def BW_img(input, thresholding):\n",
        "    if input.max() > thresholding:\n",
        "        binary = input > thresholding\n",
        "    else:\n",
        "        binary = input > input.max() / 2.0\n",
        "    label_image = label(binary)\n",
        "    regions = regionprops(label_image)\n",
        "    area_list = []\n",
        "    for region in regions:\n",
        "        area_list.append(region.area)\n",
        "    if area_list:\n",
        "        idx_max = np.argmax(area_list)\n",
        "        binary[label_image != idx_max + 1] = 0\n",
        "    return scipy.ndimage.binary_fill_holes(np.asarray(binary).astype(int))\n",
        "\n",
        "\n",
        "def disc_crop(org_img, DiscROI_size, C_x, C_y):\n",
        "    tmp_size = int(DiscROI_size / 2)\n",
        "    disc_region = np.zeros((DiscROI_size, DiscROI_size, 3), dtype=org_img.dtype)  # (400, 400, 3)\n",
        "    crop_coord = np.array([C_x - tmp_size, C_x + tmp_size, C_y - tmp_size, C_y + tmp_size], dtype=int)  # [787, 1187, 146, 546]\n",
        "    err_coord = [0, DiscROI_size, 0, DiscROI_size]  # [0, 400, 0, 400]\n",
        "\n",
        "    if crop_coord[0] < 0:\n",
        "        err_coord[0] = abs(crop_coord[0])\n",
        "        crop_coord[0] = 0\n",
        "\n",
        "    if crop_coord[2] < 0:\n",
        "        err_coord[2] = abs(crop_coord[2])\n",
        "        crop_coord[2] = 0\n",
        "\n",
        "    if crop_coord[1] > org_img.shape[0]:\n",
        "        err_coord[1] = err_coord[1] - (crop_coord[1] - org_img.shape[0])\n",
        "        crop_coord[1] = org_img.shape[0]\n",
        "\n",
        "    if crop_coord[3] > org_img.shape[1]:\n",
        "        err_coord[3] = err_coord[3] - (crop_coord[3] - org_img.shape[1])\n",
        "        crop_coord[3] = org_img.shape[1]\n",
        "\n",
        "    disc_region[err_coord[0]:err_coord[1], err_coord[2]:err_coord[3], ] = org_img[crop_coord[0]:crop_coord[1], crop_coord[2]:crop_coord[3], ]\n",
        "\n",
        "    return disc_region, err_coord, crop_coord\n",
        "\n",
        "\n",
        "def return_list(data_path, data_type):\n",
        "    file_list = [file for file in os.listdir(data_path) if file.lower().endswith(data_type)]\n",
        "    return file_list\n",
        "\n",
        "\n",
        "def calc_dice(img_result, gt):\n",
        "    test_od = img_result[1]\n",
        "    test_cup = img_result[2]\n",
        "    od_gt = gt[1, :, :] // 255\n",
        "    cup_gt = gt[2, :, :] // 255\n",
        "    od_difference = np.where(test_od != od_gt, 1, 0)\n",
        "    cup_difference = np.where(test_cup != cup_gt, 1, 0)\n",
        "    od_dice = 1 - (np.sum(od_difference)) / (np.sum(test_od) + np.sum(od_gt))\n",
        "    cup_dice = 1 - (np.sum(cup_difference)) / (np.sum(test_cup) + np.sum(cup_gt))\n",
        "    return od_dice, cup_dice"
      ],
      "execution_count": 6,
      "outputs": []
    },
    {
      "cell_type": "markdown",
      "metadata": {
        "id": "_RasMUfGWtuV"
      },
      "source": [
        "<h3><center>Training Dataset Functions</center></h3>"
      ]
    },
    {
      "cell_type": "code",
      "metadata": {
        "id": "FZaH_MHuWLt8"
      },
      "source": [
        "def return_list(data_path, data_type):\n",
        "    file_list = [file for file in os.listdir(data_path) if file.lower().endswith(data_type)]\n",
        "    return file_list\n",
        "\n",
        "\n",
        "class trainDataset(Dataset):\n",
        "    def __init__(self, imgs_path, gts_path, crop_size, input_size, data_augmentation=False, data_polar=False):\n",
        "        self.imgs_path = imgs_path\n",
        "        self.gts_path = gts_path\n",
        "        self.crop_size = crop_size\n",
        "        self.input_size = input_size\n",
        "        self.data_augmentation = data_augmentation\n",
        "        self.data_polar = data_polar\n",
        "        self.imgs, self.gts = self.get_dataset()\n",
        "        self.p = 0.5\n",
        "\n",
        "    def __len__(self):\n",
        "        return self.imgs.shape[0]\n",
        "\n",
        "    def disc_crop(self, org_img, crop_size, C_x, C_y):\n",
        "        tmp_size = int(crop_size / 2)\n",
        "        disc_region = np.zeros((crop_size, crop_size, org_img.shape[2]), dtype=org_img.dtype)\n",
        "        gt_point = np.array([C_x - tmp_size, C_x + tmp_size, C_y - tmp_size, C_y + tmp_size], dtype=int)\n",
        "        crop_point = [0, crop_size, 0, crop_size]\n",
        "\n",
        "        if gt_point[0] < 0:\n",
        "            crop_point[0] = abs(gt_point[0])\n",
        "            gt_point[0] = 0\n",
        "\n",
        "        if gt_point[2] < 0:\n",
        "            crop_point[2] = abs(gt_point[2])\n",
        "            gt_point[2] = 0\n",
        "\n",
        "        if gt_point[1] > org_img.shape[0]:\n",
        "            crop_point[1] = crop_point[1] - (gt_point[1] - org_img.shape[0])\n",
        "            gt_point[1] = org_img.shape[0]\n",
        "\n",
        "        if gt_point[3] > org_img.shape[1]:\n",
        "            crop_point[3] = crop_point[3] - (gt_point[3] - org_img.shape[1])\n",
        "            gt_point[3] = org_img.shape[1]\n",
        "\n",
        "        disc_region[crop_point[0]:crop_point[1], crop_point[2]:crop_point[3], :] = org_img[gt_point[0]:gt_point[1], gt_point[2]:gt_point[3], :]\n",
        "\n",
        "        return disc_region, crop_point, gt_point\n",
        "\n",
        "    def get_dataset(self):\n",
        "        file_imgs_list = return_list(self.imgs_path, '.png')\n",
        "\n",
        "        imgs = []\n",
        "        gts = []\n",
        "        for file_img in file_imgs_list:\n",
        "            image = cv2.imread(os.path.join(self.imgs_path, file_img[:-4] + '.png'))\n",
        "            image = cv2.cvtColor(image, cv2.COLOR_BGR2RGB)\n",
        "            gt = np.zeros(np.shape(image), dtype=np.uint8)\n",
        "            org_OD = cv2.imread(os.path.join(self.gts_path, file_img[:-4], 'SoftMap', file_img[:-4] + '_ODsegSoftmap.png'))\n",
        "            org_OD = cv2.cvtColor(org_OD, cv2.COLOR_BGR2RGB)[:, :, 0]\n",
        "            org_cup = cv2.imread(os.path.join(self.gts_path, file_img[:-4], 'SoftMap', file_img[:-4] + '_cupsegSoftmap.png'))\n",
        "            org_cup = cv2.cvtColor(org_cup, cv2.COLOR_BGR2RGB)[:, :, 0]\n",
        "            gt[org_OD > np.mean(np.unique(org_OD)), 1] = 255\n",
        "            gt[org_cup > np.mean(np.unique(org_cup)), 2] = 255\n",
        "\n",
        "            with open(os.path.join(self.gts_path, file_img[:-4], 'AvgBoundary', file_img[:-4] + '_diskCenter.txt')) as f:\n",
        "                disk_center = np.array([int(i) for i in f.read().split(' ')])\n",
        "\n",
        "            for crop_size in self.crop_size:\n",
        "                crop_img, crop_point, gt_point = self.disc_crop(image, crop_size, disk_center[0], disk_center[1])\n",
        "                crop_gt, _, _ = self.disc_crop(gt, crop_size, disk_center[0], disk_center[1])\n",
        "\n",
        "                if self.data_polar is True:\n",
        "                    crop_img = rotate(cv2.linearPolar(crop_img, (crop_size / 2, crop_size / 2), crop_size / 2,\n",
        "                                                      cv2.INTER_NEAREST + cv2.WARP_FILL_OUTLIERS), -90)\n",
        "                    crop_gt = rotate(cv2.linearPolar(crop_gt, (crop_size / 2, crop_size / 2), crop_size / 2,\n",
        "                                                     cv2.INTER_NEAREST + cv2.WARP_FILL_OUTLIERS), -90)\n",
        "                    crop_img = (crop_img * 255).astype(np.uint8)\n",
        "                    crop_gt = (crop_gt * 255).astype(np.uint8)\n",
        "\n",
        "                imgs.append((resize(crop_img, (self.input_size, self.input_size, 3), mode='constant') * 255).astype(np.uint8))\n",
        "                gts.append((resize(crop_gt, (self.input_size, self.input_size, 3), mode='constant') * 255).astype(np.uint8))\n",
        "\n",
        "        imgs = np.asarray(imgs)\n",
        "        gts = np.asarray(gts)\n",
        "        print('Train imgs shape: ' + str(imgs.shape))\n",
        "        print('Train gts shape: ' + str(gts.shape))\n",
        "        return imgs, gts\n",
        "\n",
        "    @staticmethod\n",
        "    def get_params(img, output_size):\n",
        "        \"\"\"Get parameters for ``crop`` for a random crop.\n",
        "        Args:\n",
        "            img (PIL Image): Image to be cropped.\n",
        "            output_size (tuple): Expected output size of the crop.\n",
        "        Returns:\n",
        "            tuple: params (i, j, h, w) to be passed to ``crop`` for random crop.\n",
        "        \"\"\"\n",
        "        w, h = img.size\n",
        "        th, tw = output_size\n",
        "        if w == tw and h == th:\n",
        "            return 0, 0, h, w\n",
        "\n",
        "        i = random.randint(0, h - th)\n",
        "        j = random.randint(0, w - tw)\n",
        "        return i, j, th, tw\n",
        "\n",
        "    def __getitem__(self, idx):\n",
        "        img = self.imgs[idx]\n",
        "        gt = self.gts[idx]\n",
        "        h, w = img.shape[0], img.shape[1]\n",
        "        img = Image.fromarray(img)\n",
        "        gt = Image.fromarray(gt)\n",
        "\n",
        "        if self.data_augmentation is True and random.random() < 0.6:\n",
        "            if random.random() > self.p:\n",
        "                img = img.transpose(Image.FLIP_LEFT_RIGHT)\n",
        "                gt = gt.transpose(Image.FLIP_LEFT_RIGHT)\n",
        "            if random.random() > self.p:\n",
        "                img = img.transpose(Image.FLIP_TOP_BOTTOM)\n",
        "                gt = gt.transpose(Image.FLIP_TOP_BOTTOM)\n",
        "            if random.random() > self.p:\n",
        "                img = img.transpose(Image.ROTATE_90)\n",
        "                gt = gt.transpose(Image.ROTATE_90)\n",
        "            if random.random() > self.p:\n",
        "                img = img.transpose(Image.ROTATE_180)\n",
        "                gt = gt.transpose(Image.ROTATE_180)\n",
        "            if random.random() > self.p:\n",
        "                img = img.transpose(Image.ROTATE_270)\n",
        "                gt = gt.transpose(Image.ROTATE_270)\n",
        "            img = TF.pad(img, int(math.ceil(h * 1 / 8)))\n",
        "            gt = TF.pad(gt, int(math.ceil(h * 1 / 8)))\n",
        "            i, j, h, w = self.get_params(img, (h, w))\n",
        "            img = img.crop((j, i, j + w, i + h))\n",
        "            gt = gt.crop((j, i, j + w, i + h))\n",
        "\n",
        "        return TF.to_tensor(img), TF.to_tensor(np.array(gt))\n"
      ],
      "execution_count": 7,
      "outputs": []
    },
    {
      "cell_type": "markdown",
      "metadata": {
        "id": "XoOWXOgaYtfx"
      },
      "source": [
        "<h3><center>Test Dataset Functions</center></h3>"
      ]
    },
    {
      "cell_type": "code",
      "metadata": {
        "id": "RUKR6cqaYvhf"
      },
      "source": [
        "def return_list(data_path, data_type):\n",
        "    file_list = [file for file in os.listdir(data_path) if file.lower().endswith(data_type)]\n",
        "    return file_list\n",
        "\n",
        "\n",
        "class testDataset(Dataset):\n",
        "    def __init__(self, imgs_path, gts_path, crop_size, input_size, data_polar=False):\n",
        "        self.imgs_path = imgs_path\n",
        "        self.gts_path = gts_path\n",
        "        self.crop_size = crop_size\n",
        "        self.input_size = input_size\n",
        "        self.data_polar = data_polar\n",
        "        self.img_h = 0\n",
        "        self.img_w = 0\n",
        "        self.imgs, self.gts, self.disk_centers, self.crop_points, self.gt_points = self.get_dataset()\n",
        "        self.p = 0.5\n",
        "\n",
        "    def __len__(self):\n",
        "        return self.imgs.shape[0]\n",
        "\n",
        "    def disc_crop(self, org_img, crop_size, C_x, C_y):\n",
        "        tmp_size = int(crop_size / 2)\n",
        "        disc_region = np.zeros((crop_size, crop_size, org_img.shape[2]), dtype=org_img.dtype)  # (400, 400, 3)\n",
        "        gt_point = np.array([C_x - tmp_size, C_x + tmp_size, C_y - tmp_size, C_y + tmp_size], dtype=int)  # [787, 1187, 146, 546]\n",
        "        crop_point = [0, crop_size, 0, crop_size]  # [0, 400, 0, 400]\n",
        "\n",
        "        if gt_point[0] < 0:\n",
        "            crop_point[0] = abs(gt_point[0])\n",
        "            gt_point[0] = 0\n",
        "\n",
        "        if gt_point[2] < 0:\n",
        "            crop_point[2] = abs(gt_point[2])\n",
        "            gt_point[2] = 0\n",
        "\n",
        "        if gt_point[1] > org_img.shape[0]:\n",
        "            crop_point[1] = crop_point[1] - (gt_point[1] - org_img.shape[0])\n",
        "            gt_point[1] = org_img.shape[0]\n",
        "\n",
        "        if gt_point[3] > org_img.shape[1]:\n",
        "            crop_point[3] = crop_point[3] - (gt_point[3] - org_img.shape[1])\n",
        "            gt_point[3] = org_img.shape[1]\n",
        "\n",
        "        disc_region[crop_point[0]:crop_point[1], crop_point[2]:crop_point[3], :] = org_img[gt_point[0]:gt_point[1], gt_point[2]:gt_point[3], :]\n",
        "\n",
        "        return disc_region, crop_point, gt_point\n",
        "\n",
        "    def get_dataset(self):\n",
        "        file_imgs_list = return_list(self.imgs_path, '.png')\n",
        "\n",
        "        imgs = []\n",
        "        gts = []\n",
        "        disk_centers = []\n",
        "        crop_points = []\n",
        "        gt_points = []\n",
        "        for file_img in file_imgs_list:\n",
        "            image = cv2.imread(os.path.join(self.imgs_path, file_img[:-4] + '.png'))\n",
        "            image = cv2.cvtColor(image, cv2.COLOR_BGR2RGB)\n",
        "            # print(image.shape)\n",
        "            if self.img_h == 0 or self.img_w == 0:\n",
        "                self.img_h, self.img_w = image.shape[0], image.shape[1]\n",
        "\n",
        "            gt = np.zeros(np.shape(image), dtype=np.uint8)\n",
        "            org_OD = cv2.imread(os.path.join(self.gts_path, file_img[:-4], 'SoftMap', file_img[:-4] + '_ODsegSoftmap.png'))\n",
        "            org_OD = cv2.cvtColor(org_OD, cv2.COLOR_BGR2RGB)[:, :, 0]\n",
        "            org_cup = cv2.imread(os.path.join(self.gts_path, file_img[:-4], 'SoftMap', file_img[:-4] + '_cupsegSoftmap.png'))\n",
        "            org_cup = cv2.cvtColor(org_cup, cv2.COLOR_BGR2RGB)[:, :, 0]\n",
        "            gt[org_OD > np.mean(np.unique(org_OD)), 1] = 255\n",
        "            gt[org_cup > np.mean(np.unique(org_cup)), 2] = 255\n",
        "            # print(gt.shape)\n",
        "            gts.append(gt.astype(np.uint8))\n",
        "\n",
        "            with open(os.path.join(self.gts_path, file_img[:-4], 'AvgBoundary', file_img[:-4] + '_diskCenter.txt')) as f:\n",
        "                disk_centers.append(np.array([int(i) for i in f.read().split(' ')]))\n",
        "\n",
        "            for crop_size in self.crop_size:\n",
        "                crop_img, crop_point, gt_point = self.disc_crop(image, crop_size, disk_centers[-1][0], disk_centers[-1][1])\n",
        "\n",
        "                if self.data_polar is True:\n",
        "                    crop_img = rotate(cv2.linearPolar(crop_img, (crop_size / 2, crop_size / 2), crop_size / 2,\n",
        "                                                      cv2.INTER_NEAREST + cv2.WARP_FILL_OUTLIERS), -90)\n",
        "                    crop_img = (crop_img * 255).astype(np.uint8)\n",
        "\n",
        "                imgs.append((resize(crop_img, (self.input_size, self.input_size, 3), mode='constant') * 255).astype(np.uint8))\n",
        "                crop_points.append(crop_point)\n",
        "                gt_points.append(gt_point)\n",
        "\n",
        "        imgs = np.asarray(imgs)\n",
        "        gts = np.asarray(gts)\n",
        "        # print('Test imgs shape: ' + str(imgs.shape))\n",
        "        # print('Test gts shape: ' + str(gts.shape) + '\n",
        "        return imgs, gts, np.asarray(disk_centers), np.asarray(crop_points), np.asarray(gt_points)\n",
        "\n",
        "    def __getitem__(self, idx):\n",
        "        img = self.imgs[idx]\n",
        "        gt = self.gts[idx]\n",
        "        disk_center = self.disk_centers[idx]\n",
        "        crop_point = self.crop_points[idx]\n",
        "        gt_point = self.gt_points[idx]\n",
        "        img = Image.fromarray(img)\n",
        "        gt = Image.fromarray(gt)\n",
        "\n",
        "        img = TF.to_tensor(img)\n",
        "        gt = np.transpose(np.array(gt), (2, 0, 1))\n",
        "        return img, gt, disk_center, crop_point, gt_point"
      ],
      "execution_count": 8,
      "outputs": []
    },
    {
      "cell_type": "markdown",
      "metadata": {
        "id": "V-K1aiu7Y3S1"
      },
      "source": [
        "<h3><center>Training Functions</center></h3>"
      ]
    },
    {
      "cell_type": "code",
      "metadata": {
        "colab": {
          "base_uri": "https://localhost:8080/"
        },
        "id": "riIfjxcoZA5g",
        "outputId": "375918ed-7de5-45c5-eec0-657371f4a6a2"
      },
      "source": [
        "torch.cuda.memory_summary(device=None, abbreviated=False)\n",
        "\n",
        "\n",
        "model_names = [\"CNN\",\"RFCN\"]\n",
        "\n",
        "parser = argparse.ArgumentParser(description='CNN')\n",
        "parser.add_argument('--device', type=str, default='0', help='GPU device (default: 0)')\n",
        "parser.add_argument('--dataset', default='Drishti', choices=['Drishti'])\n",
        "parser.add_argument('--data_path', type=str, default='datasets/', help='data path')\n",
        "\n",
        "parser.add_argument('--model', type=str, default='RFCN', choices=model_names,\n",
        "                    help='model architecture: ' + ' | '.join(model_names) + ' (default: RFCN)')\n",
        "parser.add_argument('--recurrent_n', type=int, default=2, help='recurrent num (default: 2)')\n",
        "parser.add_argument('--layers', type=int, default=4, help='net layers (default: 4)')\n",
        "\n",
        "parser.add_argument('--loss_weights', type=str, default='0.1,0.1,0.1,0.1,0.6', help='loss_weights')\n",
        "parser.add_argument('--optimizer', default='SGD', choices=['SGD', 'Adam'])\n",
        "parser.add_argument('--batch_size', type=int, default=4, help='input batch size for training (default: 128)')\n",
        "parser.add_argument('--epochs', type=int, default=400, help='number of epochs to train (default: 400)')\n",
        "\n",
        "parser.add_argument('--lr', type=float, default=0.0001, help='learning rate')\n",
        "\n",
        "parser.add_argument('--data_augmentation', action='store_true', default=False, help='data augmentation')\n",
        "parser.add_argument('--data_polar', action='store_true', default=False, help='data polar')\n",
        "parser.add_argument('--input_size', type=int, default=400, help='input imgs size (default: 400)')\n",
        "parser.add_argument('--train_crop_size', type=str, default='400,500,550,600,650,700,750,800,850,900', help='input image size')\n",
        "parser.add_argument('--test_crop_size', type=int, default=700, help='test image size (default: 700)')\n",
        "\n",
        "parser.add_argument('--threshold_confusion', default=0.4, type=float, help='threshold_confusion')\n",
        "parser.add_argument('--seed', type=int, default=1234, help='random seed (default: 1234)')\n",
        "\n",
        "# use last save model\n",
        "parser.add_argument('--load_last', action='store_true', default=False, help='load last model')\n",
        "parser.add_argument('--load_path', type=str, default='logs/', help='load model path')\n",
        "parser.add_argument('--logs_path', type=str, default='logs/', help='load model path')\n",
        "\n",
        "\n",
        "parser.add_argument('-f')\n",
        "args = vars(parser.parse_args())\n",
        "os.environ['CUDA_VISIBLE_DEVICES'] = args['device']\n",
        "cudnn.benchmark = True\n",
        "torch.cuda.is_available()\n",
        "torch.manual_seed(args['seed'])\n",
        "torch.cuda.manual_seed(args['seed'])\n",
        "\n",
        "threshold_confusion = args['threshold_confusion']\n",
        "\n",
        "if str(args['logs_path']).endswith('/') is False:\n",
        "    args['logs_path'] += '/'\n",
        "\n",
        "if args['load_path'] is not None and str(args['load_path']).endswith('/') is False:\n",
        "    args['load_path'] += '/'\n",
        "\n",
        "if args['load_last'] is False:\n",
        "    mkdir_p(args['logs_path'] + args['dataset'] + '/' + args['model'] + '/')\n",
        "    index = np.sort(np.array(os.listdir(args['logs_path'] + args['dataset'] + '/' + args['model'] + '/'), dtype=int))\n",
        "    index = index.max() + 1 if len(index) > 0 else 1\n",
        "    basic_path = args['logs_path'] + args['dataset'] + '/' + args['model'] + '/' + str(index) + '/'\n",
        "    mkdir_p(basic_path)\n",
        "    args['load_path'] = basic_path\n",
        "    max_OD_Dice, max_OD_Dice_cup_Dice, max_cup_Dice, max_cup_Dice_OD_Dice = 0., 0., 0., 0.\n",
        "    cur_epoch = 0\n",
        "    logs = [['epoch', 'OD_Dice', 'max_OD_Dice', 'max_OD_Dice_cup_Dice', 'cup_Dice', 'max_cup_Dice', 'max_cup_Dice_OD_Dice']]\n",
        "else:\n",
        "    basic_path = args['load_path']\n",
        "    assert os.path.exists(basic_path), 'Error: Folder not exists'\n",
        "    assert os.path.isfile(basic_path + 'checkpoints/last.pt'), 'Error: no checkpoint file found!'\n",
        "    checkpoint = torch.load(basic_path + 'checkpoints/last.pt')\n",
        "    checkpoint['args']['load_last'] = args['load_last']\n",
        "    checkpoint['args']['load_path'] = args['load_path']\n",
        "    args = checkpoint['args']\n",
        "    max_OD_Dice = checkpoint['max_OD_Dice']\n",
        "    max_OD_Dice_cup_Dice = checkpoint['max_OD_Dice_cup_Dice']\n",
        "    max_cup_Dice = checkpoint['max_cup_Dice']\n",
        "    max_cup_Dice_OD_Dice = checkpoint['max_cup_Dice_OD_Dice']\n",
        "    cur_epoch = checkpoint['epoch'] + 1\n",
        "    logs = checkpoint['logs']\n",
        "    assert cur_epoch < args['epochs'], 'Done，cur_epoch: {}，epochs: {}'.format(cur_epoch, args['epochs'])\n",
        "\n",
        "print('Current Folder： ' + basic_path)\n",
        "mkdir_p(basic_path + 'checkpoints/periods/')\n",
        "mkdir_p(basic_path + 'tensorboard/')\n",
        "with open(basic_path + 'args.txt', 'w+') as f:\n",
        "    for arg in args:\n",
        "        print(str(arg) + ': ' + str(args[arg]))\n",
        "        f.write(str(arg) + ': ' + str(args[arg]) + '\\n')\n",
        "\n",
        "\n",
        "net = RFCN(num_classes=3, layers=args['layers'], filters=32, inplanes=3, recurrent_n=args['recurrent_n'])\n",
        "\n",
        "criterions = []\n",
        "for i in range(args['layers'] + 1):\n",
        "    criterions.append(nn.CrossEntropyLoss().cuda())\n",
        "\n",
        "loss_weights = [float(loss_weight) for loss_weight in args['loss_weights'].split(',')]\n",
        "\n",
        "net.cuda()\n",
        "if args['optimizer'] == 'Adam':\n",
        "    optimizer = optim.Adam(net.parameters(), lr=args['lr'])\n",
        "elif args['optimizer'] == 'SGD':\n",
        "    optimizer = optim.SGD(net.parameters(), lr=args['lr'], momentum=0.9, weight_decay=5e-4)\n",
        "\n",
        "if args['load_last'] is True and cur_epoch > 0:\n",
        "    net.load_state_dict(checkpoint['net'], strict=False)\n",
        "    print('load path: ' + basic_path + 'checkpoints/last.pt')\n",
        "\n",
        "if args['dataset'] == 'Drishti':\n",
        "    train_set = trainDataset(imgs_path='/content/drive/MyDrive/Datasets/Drishti-GS1_files/Training/Images',\n",
        "                             gts_path='/content/drive/MyDrive/Datasets/Drishti-GS1_files/Training/GT',\n",
        "                             crop_size=[int(train_crop_size) for train_crop_size in args['train_crop_size'].split(',')],\n",
        "                             input_size=args['input_size'],\n",
        "                             data_augmentation=args['data_augmentation'],\n",
        "                             data_polar=args['data_polar'])\n",
        "    test_set = testDataset(imgs_path='/content/drive/MyDrive/Datasets/Drishti-GS1_files/Test/Images',\n",
        "                           gts_path='/content/drive/MyDrive/Datasets/Drishti-GS1_files/Test/Test_GT',\n",
        "                           crop_size=[args['test_crop_size']],\n",
        "                           input_size=args['input_size'],\n",
        "                           data_polar=args['data_polar'])\n",
        "    \n",
        "\n",
        "train_loader = DataLoader(train_set, batch_size=4, shuffle=True, num_workers=0)\n",
        "test_loader = DataLoader(test_set, batch_size=1, shuffle=False, num_workers=0)\n",
        "\n",
        "ts_writer = SummaryWriter(log_dir=basic_path + 'tensorboard/', comment=args['model'])\n",
        "args_str = ''\n",
        "for arg in args:\n",
        "    args_str += str(arg) + ': ' + str(args[arg]) + '<br />'\n",
        "ts_writer.add_text('args', args_str, cur_epoch)\n",
        "\n",
        "\n",
        "def train():\n",
        "    global max_OD_Dice, max_OD_Dice_cup_Dice, max_cup_Dice, max_cup_Dice_OD_Dice\n",
        "    for epoch in range(cur_epoch, args['epochs']):\n",
        "        # train network\n",
        "        net.train()\n",
        "        train_loss = 0\n",
        "        progress_bar = tqdm(train_loader)\n",
        "        for batch_idx, (inputs, targets) in enumerate(progress_bar):\n",
        "            progress_bar.set_description('Epoch {}/{}'.format(epoch + 1, args['epochs']))\n",
        "\n",
        "            inputs = Variable(inputs.cuda().detach())\n",
        "            targets = Variable(targets.long().cuda().detach())\n",
        "\n",
        "            optimizer.zero_grad()\n",
        "            outputs = net(inputs)\n",
        "\n",
        "            loss_ = []\n",
        "            for criterion, output, loss_weight in zip(criterions, outputs, loss_weights):\n",
        "                loss_od = criterion(output[:, (0, 1), :, :], targets[:, 1, :, :].reshape(targets.shape[0], targets.shape[2], targets.shape[3]))\n",
        "                loss_cup = criterion(output[:, (0, 2), :, :], targets[:, 2, :, :].reshape(targets.shape[0], targets.shape[2], targets.shape[3]))\n",
        "                loss_.append(loss_weight * (0.5 * loss_od + 0.5 * loss_cup))\n",
        "\n",
        "            loss = sum(loss_)\n",
        "            loss.backward()\n",
        "            optimizer.step()\n",
        "\n",
        "            train_loss += loss.item()\n",
        "            progress_bar.set_postfix(loss='%.3f' % (train_loss / (batch_idx + 1)))\n",
        "\n",
        "        net.eval()\n",
        "        with torch.no_grad():\n",
        "            OD_Dices = []\n",
        "            cup_Dices = []\n",
        "            for batch_idx, (test_input, test_target, test_disk_center, test_crop_point, test_gt_point) in enumerate(test_loader):\n",
        "                test_input = test_input.detach().cuda()\n",
        "                test_outputs = net(test_input)\n",
        "                disc_predict = torch.nn.functional.softmax(test_outputs[-1][:, (0, 1), :, :], dim=1).cpu().data.numpy()[0]\n",
        "                disc_map = (resize(disc_predict[1, :, :], (args['test_crop_size'], args['test_crop_size']), mode='constant') * 255).astype(np.uint8)\n",
        "                cup_predict = torch.nn.functional.softmax(test_outputs[-1][:, (0, 2), :, :], dim=1).cpu().data.numpy()[0]\n",
        "                cup_map = (resize(cup_predict[1, :, :], (args['test_crop_size'], args['test_crop_size']), mode='constant') * 255).astype(np.uint8)\n",
        "                if args['data_polar'] is True:\n",
        "                    disc_map[-round(args['test_crop_size'] / 3):, :] = 0\n",
        "                    cup_map[-round(args['test_crop_size'] / 2):, :] = 0\n",
        "                    disc_map = cv2.linearPolar(rotate(disc_map, 90), (args['test_crop_size'] / 2, args['test_crop_size'] / 2),\n",
        "                                               args['test_crop_size'] / 2, cv2.WARP_FILL_OUTLIERS + cv2.WARP_INVERSE_MAP)\n",
        "                    cup_map = cv2.linearPolar(rotate(cup_map, 90), (args['test_crop_size'] / 2, args['test_crop_size'] / 2),\n",
        "                                              args['test_crop_size'] / 2, cv2.WARP_FILL_OUTLIERS + cv2.WARP_INVERSE_MAP)\n",
        "\n",
        "                disc_map = np.array(BW_img(disc_map, threshold_confusion), dtype=int)\n",
        "                cup_map = np.array(BW_img(cup_map, threshold_confusion), dtype=int)\n",
        "                test_target = test_target[0].data.numpy()\n",
        "                img_result = np.zeros(test_target.shape, dtype=np.int8)\n",
        "                img_result[1, test_gt_point[0][0]:test_gt_point[0][1], test_gt_point[0][2]:test_gt_point[0][3]] = \\\n",
        "                    disc_map[test_crop_point[0][0]:test_crop_point[0][1], test_crop_point[0][2]:test_crop_point[0][3]]\n",
        "                img_result[2, test_gt_point[0][0]:test_gt_point[0][1], test_gt_point[0][2]:test_gt_point[0][3]] = \\\n",
        "                    cup_map[test_crop_point[0][0]:test_crop_point[0][1], test_crop_point[0][2]:test_crop_point[0][3]]\n",
        "\n",
        "                OD_Dice, cup_Dice = calc_dice(img_result, test_target)\n",
        "                OD_Dices.append(OD_Dice)\n",
        "                cup_Dices.append(cup_Dice)\n",
        "\n",
        "            OD_Dice = np.mean(OD_Dices)\n",
        "            cup_Dice = np.mean(cup_Dices)\n",
        "\n",
        "            if max_OD_Dice < OD_Dice:\n",
        "                max_OD_Dice = OD_Dice\n",
        "                max_OD_Dice_cup_Dice = cup_Dice\n",
        "            if max_cup_Dice < cup_Dice:\n",
        "                max_cup_Dice_OD_Dice = OD_Dice\n",
        "                max_cup_Dice = cup_Dice\n",
        "\n",
        "            logs.append([epoch, OD_Dice, max_OD_Dice, max_OD_Dice_cup_Dice, cup_Dice, max_cup_Dice, max_cup_Dice_OD_Dice])\n",
        "            state = {\n",
        "                'net': net.state_dict(),\n",
        "                'max_OD_Dice': max_OD_Dice,\n",
        "                'max_OD_Dice_cup_Dice': max_OD_Dice_cup_Dice,\n",
        "                'max_cup_Dice': max_cup_Dice,\n",
        "                'max_cup_Dice_OD_Dice': max_cup_Dice_OD_Dice,\n",
        "                'epoch': epoch,\n",
        "                'logs': logs,\n",
        "                'args': args\n",
        "            }\n",
        "\n",
        "            torch.save(state, basic_path + 'checkpoints/periods/{}.pt'.format(epoch))\n",
        "            torch.save(state, basic_path + 'checkpoints/last.pt')\n",
        "\n",
        "            lr = get_lr(optimizer)\n",
        "            ts_writer.add_scalar('train/loss', train_loss / len(train_loader), epoch)\n",
        "            ts_writer.add_scalar('train/lr', lr, epoch)\n",
        "            ts_writer.add_scalar('test/OD_Dice', OD_Dice, epoch)\n",
        "            ts_writer.add_scalar('test/cup_Dice', cup_Dice, epoch)\n",
        "            tqdm.write('     OD_Dice: {:.4f},     cup_Dice: {:.4f}'.format(OD_Dice, cup_Dice))\n",
        "            tqdm.write(' max_OD_Dice: {:.4f},     cup_Dice: {:.4f}'.format(max_OD_Dice, max_OD_Dice_cup_Dice))\n",
        "            tqdm.write('     OD_Dice: {:.4f}, max_cup_Dice: {:.4f}'.format(max_cup_Dice_OD_Dice, max_cup_Dice))\n",
        "            tqdm.write('learning rate: {:.4f}'.format(lr))\n",
        "\n",
        "\n",
        "if __name__ == '__main__':\n",
        "    train()\n",
        "    ts_writer.close()"
      ],
      "execution_count": 10,
      "outputs": [
        {
          "output_type": "stream",
          "name": "stdout",
          "text": [
            "Current Folder： logs/Drishti/RFCN/16/\n",
            "device: 0\n",
            "dataset: Drishti\n",
            "data_path: datasets/\n",
            "model: RFCN\n",
            "recurrent_n: 2\n",
            "layers: 4\n",
            "loss_weights: 0.1,0.1,0.1,0.1,0.6\n",
            "optimizer: SGD\n",
            "batch_size: 4\n",
            "epochs: 400\n",
            "lr: 0.0001\n",
            "data_augmentation: False\n",
            "data_polar: False\n",
            "input_size: 400\n",
            "train_crop_size: 400,500,550,600,650,700,750,800,850,900\n",
            "test_crop_size: 700\n",
            "threshold_confusion: 0.4\n",
            "seed: 1234\n",
            "load_last: False\n",
            "load_path: logs/Drishti/RFCN/16/\n",
            "logs_path: logs/\n",
            "f: /root/.local/share/jupyter/runtime/kernel-3ac45318-c9e3-40ff-aa15-8fb2a5491699.json\n",
            "Train imgs shape: (500, 400, 400, 3)\n",
            "Train gts shape: (500, 400, 400, 3)\n"
          ]
        },
        {
          "output_type": "stream",
          "name": "stderr",
          "text": [
            "/usr/local/lib/python3.7/dist-packages/numpy/core/_asarray.py:83: VisibleDeprecationWarning: Creating an ndarray from ragged nested sequences (which is a list-or-tuple of lists-or-tuples-or ndarrays with different lengths or shapes) is deprecated. If you meant to do this, you must specify 'dtype=object' when creating the ndarray\n",
            "  return array(a, dtype, copy=False, order=order)\n",
            "Epoch 1/400: 100%|██████████| 125/125 [01:30<00:00,  1.38it/s, loss=0.524]\n"
          ]
        },
        {
          "output_type": "stream",
          "name": "stdout",
          "text": [
            "     OD_Dice: 0.3805,     cup_Dice: 0.2292\n",
            " max_OD_Dice: 0.3805,     cup_Dice: 0.2292\n",
            "     OD_Dice: 0.3805, max_cup_Dice: 0.2292\n",
            "learning rate: 0.0001\n"
          ]
        },
        {
          "output_type": "stream",
          "name": "stderr",
          "text": [
            "Epoch 2/400: 100%|██████████| 125/125 [01:27<00:00,  1.43it/s, loss=0.370]\n"
          ]
        },
        {
          "output_type": "stream",
          "name": "stdout",
          "text": [
            "     OD_Dice: 0.3805,     cup_Dice: 0.2292\n",
            " max_OD_Dice: 0.3805,     cup_Dice: 0.2292\n",
            "     OD_Dice: 0.3805, max_cup_Dice: 0.2292\n",
            "learning rate: 0.0001\n"
          ]
        },
        {
          "output_type": "stream",
          "name": "stderr",
          "text": [
            "Epoch 3/400: 100%|██████████| 125/125 [01:27<00:00,  1.43it/s, loss=0.322]\n"
          ]
        },
        {
          "output_type": "stream",
          "name": "stdout",
          "text": [
            "     OD_Dice: 0.3805,     cup_Dice: 0.2292\n",
            " max_OD_Dice: 0.3805,     cup_Dice: 0.2292\n",
            "     OD_Dice: 0.3805, max_cup_Dice: 0.2292\n",
            "learning rate: 0.0001\n"
          ]
        },
        {
          "output_type": "stream",
          "name": "stderr",
          "text": [
            "Epoch 4/400: 100%|██████████| 125/125 [01:27<00:00,  1.43it/s, loss=0.303]\n"
          ]
        },
        {
          "output_type": "stream",
          "name": "stdout",
          "text": [
            "     OD_Dice: 0.3805,     cup_Dice: 0.2292\n",
            " max_OD_Dice: 0.3805,     cup_Dice: 0.2292\n",
            "     OD_Dice: 0.3805, max_cup_Dice: 0.2292\n",
            "learning rate: 0.0001\n"
          ]
        },
        {
          "output_type": "stream",
          "name": "stderr",
          "text": [
            "Epoch 5/400: 100%|██████████| 125/125 [01:27<00:00,  1.43it/s, loss=0.277]\n"
          ]
        },
        {
          "output_type": "stream",
          "name": "stdout",
          "text": [
            "     OD_Dice: 0.3805,     cup_Dice: 0.2292\n",
            " max_OD_Dice: 0.3805,     cup_Dice: 0.2292\n",
            "     OD_Dice: 0.3805, max_cup_Dice: 0.2292\n",
            "learning rate: 0.0001\n"
          ]
        },
        {
          "output_type": "stream",
          "name": "stderr",
          "text": [
            "Epoch 6/400: 100%|██████████| 125/125 [01:27<00:00,  1.43it/s, loss=0.271]\n"
          ]
        },
        {
          "output_type": "stream",
          "name": "stdout",
          "text": [
            "     OD_Dice: 0.3805,     cup_Dice: 0.2292\n",
            " max_OD_Dice: 0.3805,     cup_Dice: 0.2292\n",
            "     OD_Dice: 0.3805, max_cup_Dice: 0.2292\n",
            "learning rate: 0.0001\n"
          ]
        },
        {
          "output_type": "stream",
          "name": "stderr",
          "text": [
            "Epoch 7/400: 100%|██████████| 125/125 [01:27<00:00,  1.43it/s, loss=0.258]\n"
          ]
        },
        {
          "output_type": "stream",
          "name": "stdout",
          "text": [
            "     OD_Dice: 0.3805,     cup_Dice: 0.2292\n",
            " max_OD_Dice: 0.3805,     cup_Dice: 0.2292\n",
            "     OD_Dice: 0.3805, max_cup_Dice: 0.2292\n",
            "learning rate: 0.0001\n"
          ]
        },
        {
          "output_type": "stream",
          "name": "stderr",
          "text": [
            "Epoch 8/400: 100%|██████████| 125/125 [01:27<00:00,  1.43it/s, loss=0.242]\n"
          ]
        },
        {
          "output_type": "stream",
          "name": "stdout",
          "text": [
            "     OD_Dice: 0.3805,     cup_Dice: 0.2292\n",
            " max_OD_Dice: 0.3805,     cup_Dice: 0.2292\n",
            "     OD_Dice: 0.3805, max_cup_Dice: 0.2292\n",
            "learning rate: 0.0001\n"
          ]
        },
        {
          "output_type": "stream",
          "name": "stderr",
          "text": [
            "Epoch 9/400: 100%|██████████| 125/125 [01:27<00:00,  1.43it/s, loss=0.236]\n"
          ]
        },
        {
          "output_type": "stream",
          "name": "stdout",
          "text": [
            "     OD_Dice: 0.3805,     cup_Dice: 0.2292\n",
            " max_OD_Dice: 0.3805,     cup_Dice: 0.2292\n",
            "     OD_Dice: 0.3805, max_cup_Dice: 0.2292\n",
            "learning rate: 0.0001\n"
          ]
        },
        {
          "output_type": "stream",
          "name": "stderr",
          "text": [
            "Epoch 10/400: 100%|██████████| 125/125 [01:27<00:00,  1.43it/s, loss=0.218]\n"
          ]
        },
        {
          "output_type": "stream",
          "name": "stdout",
          "text": [
            "     OD_Dice: 0.3805,     cup_Dice: 0.2292\n",
            " max_OD_Dice: 0.3805,     cup_Dice: 0.2292\n",
            "     OD_Dice: 0.3805, max_cup_Dice: 0.2292\n",
            "learning rate: 0.0001\n"
          ]
        },
        {
          "output_type": "stream",
          "name": "stderr",
          "text": [
            "Epoch 11/400: 100%|██████████| 125/125 [01:27<00:00,  1.43it/s, loss=0.211]\n"
          ]
        },
        {
          "output_type": "stream",
          "name": "stdout",
          "text": [
            "     OD_Dice: 0.3805,     cup_Dice: 0.2292\n",
            " max_OD_Dice: 0.3805,     cup_Dice: 0.2292\n",
            "     OD_Dice: 0.3805, max_cup_Dice: 0.2292\n",
            "learning rate: 0.0001\n"
          ]
        },
        {
          "output_type": "stream",
          "name": "stderr",
          "text": [
            "Epoch 12/400: 100%|██████████| 125/125 [01:27<00:00,  1.43it/s, loss=0.208]\n"
          ]
        },
        {
          "output_type": "stream",
          "name": "stdout",
          "text": [
            "     OD_Dice: 0.3805,     cup_Dice: 0.2292\n",
            " max_OD_Dice: 0.3805,     cup_Dice: 0.2292\n",
            "     OD_Dice: 0.3805, max_cup_Dice: 0.2292\n",
            "learning rate: 0.0001\n"
          ]
        },
        {
          "output_type": "stream",
          "name": "stderr",
          "text": [
            "Epoch 13/400: 100%|██████████| 125/125 [01:27<00:00,  1.43it/s, loss=0.190]\n"
          ]
        },
        {
          "output_type": "stream",
          "name": "stdout",
          "text": [
            "     OD_Dice: 0.3805,     cup_Dice: 0.2292\n",
            " max_OD_Dice: 0.3805,     cup_Dice: 0.2292\n",
            "     OD_Dice: 0.3805, max_cup_Dice: 0.2292\n",
            "learning rate: 0.0001\n"
          ]
        },
        {
          "output_type": "stream",
          "name": "stderr",
          "text": [
            "Epoch 14/400: 100%|██████████| 125/125 [01:27<00:00,  1.43it/s, loss=0.196]\n"
          ]
        },
        {
          "output_type": "stream",
          "name": "stdout",
          "text": [
            "     OD_Dice: 0.3805,     cup_Dice: 0.2292\n",
            " max_OD_Dice: 0.3805,     cup_Dice: 0.2292\n",
            "     OD_Dice: 0.3805, max_cup_Dice: 0.2292\n",
            "learning rate: 0.0001\n"
          ]
        },
        {
          "output_type": "stream",
          "name": "stderr",
          "text": [
            "Epoch 15/400: 100%|██████████| 125/125 [01:27<00:00,  1.43it/s, loss=0.191]\n"
          ]
        },
        {
          "output_type": "stream",
          "name": "stdout",
          "text": [
            "     OD_Dice: 0.3805,     cup_Dice: 0.2292\n",
            " max_OD_Dice: 0.3805,     cup_Dice: 0.2292\n",
            "     OD_Dice: 0.3805, max_cup_Dice: 0.2292\n",
            "learning rate: 0.0001\n"
          ]
        },
        {
          "output_type": "stream",
          "name": "stderr",
          "text": [
            "Epoch 16/400: 100%|██████████| 125/125 [01:27<00:00,  1.43it/s, loss=0.185]\n"
          ]
        },
        {
          "output_type": "stream",
          "name": "stdout",
          "text": [
            "     OD_Dice: 0.3805,     cup_Dice: 0.2389\n",
            " max_OD_Dice: 0.3805,     cup_Dice: 0.2292\n",
            "     OD_Dice: 0.3805, max_cup_Dice: 0.2389\n",
            "learning rate: 0.0001\n"
          ]
        },
        {
          "output_type": "stream",
          "name": "stderr",
          "text": [
            "Epoch 17/400: 100%|██████████| 125/125 [01:27<00:00,  1.43it/s, loss=0.187]\n"
          ]
        },
        {
          "output_type": "stream",
          "name": "stdout",
          "text": [
            "     OD_Dice: 0.3805,     cup_Dice: 0.2404\n",
            " max_OD_Dice: 0.3805,     cup_Dice: 0.2292\n",
            "     OD_Dice: 0.3805, max_cup_Dice: 0.2404\n",
            "learning rate: 0.0001\n"
          ]
        },
        {
          "output_type": "stream",
          "name": "stderr",
          "text": [
            "Epoch 18/400: 100%|██████████| 125/125 [01:27<00:00,  1.43it/s, loss=0.170]\n"
          ]
        },
        {
          "output_type": "stream",
          "name": "stdout",
          "text": [
            "     OD_Dice: 0.3805,     cup_Dice: 0.2575\n",
            " max_OD_Dice: 0.3805,     cup_Dice: 0.2292\n",
            "     OD_Dice: 0.3805, max_cup_Dice: 0.2575\n",
            "learning rate: 0.0001\n"
          ]
        },
        {
          "output_type": "stream",
          "name": "stderr",
          "text": [
            "Epoch 19/400: 100%|██████████| 125/125 [01:27<00:00,  1.43it/s, loss=0.169]\n"
          ]
        },
        {
          "output_type": "stream",
          "name": "stdout",
          "text": [
            "     OD_Dice: 0.3805,     cup_Dice: 0.2765\n",
            " max_OD_Dice: 0.3805,     cup_Dice: 0.2292\n",
            "     OD_Dice: 0.3805, max_cup_Dice: 0.2765\n",
            "learning rate: 0.0001\n"
          ]
        },
        {
          "output_type": "stream",
          "name": "stderr",
          "text": [
            "Epoch 20/400: 100%|██████████| 125/125 [01:27<00:00,  1.43it/s, loss=0.169]\n"
          ]
        },
        {
          "output_type": "stream",
          "name": "stdout",
          "text": [
            "     OD_Dice: 0.3805,     cup_Dice: 0.2888\n",
            " max_OD_Dice: 0.3805,     cup_Dice: 0.2292\n",
            "     OD_Dice: 0.3805, max_cup_Dice: 0.2888\n",
            "learning rate: 0.0001\n"
          ]
        },
        {
          "output_type": "stream",
          "name": "stderr",
          "text": [
            "Epoch 21/400: 100%|██████████| 125/125 [01:27<00:00,  1.43it/s, loss=0.165]\n"
          ]
        },
        {
          "output_type": "stream",
          "name": "stdout",
          "text": [
            "     OD_Dice: 0.3805,     cup_Dice: 0.2794\n",
            " max_OD_Dice: 0.3805,     cup_Dice: 0.2292\n",
            "     OD_Dice: 0.3805, max_cup_Dice: 0.2888\n",
            "learning rate: 0.0001\n"
          ]
        },
        {
          "output_type": "stream",
          "name": "stderr",
          "text": [
            "Epoch 22/400: 100%|██████████| 125/125 [01:27<00:00,  1.43it/s, loss=0.161]\n"
          ]
        },
        {
          "output_type": "stream",
          "name": "stdout",
          "text": [
            "     OD_Dice: 0.3805,     cup_Dice: 0.2674\n",
            " max_OD_Dice: 0.3805,     cup_Dice: 0.2292\n",
            "     OD_Dice: 0.3805, max_cup_Dice: 0.2888\n",
            "learning rate: 0.0001\n"
          ]
        },
        {
          "output_type": "stream",
          "name": "stderr",
          "text": [
            "Epoch 23/400: 100%|██████████| 125/125 [01:27<00:00,  1.43it/s, loss=0.163]\n"
          ]
        },
        {
          "output_type": "stream",
          "name": "stdout",
          "text": [
            "     OD_Dice: 0.3805,     cup_Dice: 0.3321\n",
            " max_OD_Dice: 0.3805,     cup_Dice: 0.2292\n",
            "     OD_Dice: 0.3805, max_cup_Dice: 0.3321\n",
            "learning rate: 0.0001\n"
          ]
        },
        {
          "output_type": "stream",
          "name": "stderr",
          "text": [
            "Epoch 24/400: 100%|██████████| 125/125 [01:27<00:00,  1.43it/s, loss=0.157]\n"
          ]
        },
        {
          "output_type": "stream",
          "name": "stdout",
          "text": [
            "     OD_Dice: 0.3805,     cup_Dice: 0.2699\n",
            " max_OD_Dice: 0.3805,     cup_Dice: 0.2292\n",
            "     OD_Dice: 0.3805, max_cup_Dice: 0.3321\n",
            "learning rate: 0.0001\n"
          ]
        },
        {
          "output_type": "stream",
          "name": "stderr",
          "text": [
            "Epoch 25/400: 100%|██████████| 125/125 [01:27<00:00,  1.43it/s, loss=0.155]\n"
          ]
        },
        {
          "output_type": "stream",
          "name": "stdout",
          "text": [
            "     OD_Dice: 0.3805,     cup_Dice: 0.2929\n",
            " max_OD_Dice: 0.3805,     cup_Dice: 0.2292\n",
            "     OD_Dice: 0.3805, max_cup_Dice: 0.3321\n",
            "learning rate: 0.0001\n"
          ]
        },
        {
          "output_type": "stream",
          "name": "stderr",
          "text": [
            "Epoch 26/400: 100%|██████████| 125/125 [01:27<00:00,  1.43it/s, loss=0.147]\n"
          ]
        },
        {
          "output_type": "stream",
          "name": "stdout",
          "text": [
            "     OD_Dice: 0.3805,     cup_Dice: 0.3212\n",
            " max_OD_Dice: 0.3805,     cup_Dice: 0.2292\n",
            "     OD_Dice: 0.3805, max_cup_Dice: 0.3321\n",
            "learning rate: 0.0001\n"
          ]
        },
        {
          "output_type": "stream",
          "name": "stderr",
          "text": [
            "Epoch 27/400: 100%|██████████| 125/125 [01:27<00:00,  1.43it/s, loss=0.143]\n"
          ]
        },
        {
          "output_type": "stream",
          "name": "stdout",
          "text": [
            "     OD_Dice: 0.3805,     cup_Dice: 0.2612\n",
            " max_OD_Dice: 0.3805,     cup_Dice: 0.2292\n",
            "     OD_Dice: 0.3805, max_cup_Dice: 0.3321\n",
            "learning rate: 0.0001\n"
          ]
        },
        {
          "output_type": "stream",
          "name": "stderr",
          "text": [
            "Epoch 28/400: 100%|██████████| 125/125 [01:27<00:00,  1.43it/s, loss=0.141]\n"
          ]
        },
        {
          "output_type": "stream",
          "name": "stdout",
          "text": [
            "     OD_Dice: 0.3805,     cup_Dice: 0.3073\n",
            " max_OD_Dice: 0.3805,     cup_Dice: 0.2292\n",
            "     OD_Dice: 0.3805, max_cup_Dice: 0.3321\n",
            "learning rate: 0.0001\n"
          ]
        },
        {
          "output_type": "stream",
          "name": "stderr",
          "text": [
            "Epoch 29/400: 100%|██████████| 125/125 [01:27<00:00,  1.43it/s, loss=0.139]\n"
          ]
        },
        {
          "output_type": "stream",
          "name": "stdout",
          "text": [
            "     OD_Dice: 0.3805,     cup_Dice: 0.2978\n",
            " max_OD_Dice: 0.3805,     cup_Dice: 0.2292\n",
            "     OD_Dice: 0.3805, max_cup_Dice: 0.3321\n",
            "learning rate: 0.0001\n"
          ]
        },
        {
          "output_type": "stream",
          "name": "stderr",
          "text": [
            "Epoch 30/400: 100%|██████████| 125/125 [01:27<00:00,  1.43it/s, loss=0.129]\n"
          ]
        },
        {
          "output_type": "stream",
          "name": "stdout",
          "text": [
            "     OD_Dice: 0.3805,     cup_Dice: 0.2890\n",
            " max_OD_Dice: 0.3805,     cup_Dice: 0.2292\n",
            "     OD_Dice: 0.3805, max_cup_Dice: 0.3321\n",
            "learning rate: 0.0001\n"
          ]
        },
        {
          "output_type": "stream",
          "name": "stderr",
          "text": [
            "Epoch 31/400: 100%|██████████| 125/125 [01:27<00:00,  1.43it/s, loss=0.133]\n"
          ]
        },
        {
          "output_type": "stream",
          "name": "stdout",
          "text": [
            "     OD_Dice: 0.3805,     cup_Dice: 0.3783\n",
            " max_OD_Dice: 0.3805,     cup_Dice: 0.2292\n",
            "     OD_Dice: 0.3805, max_cup_Dice: 0.3783\n",
            "learning rate: 0.0001\n"
          ]
        },
        {
          "output_type": "stream",
          "name": "stderr",
          "text": [
            "Epoch 32/400: 100%|██████████| 125/125 [01:27<00:00,  1.43it/s, loss=0.128]\n"
          ]
        },
        {
          "output_type": "stream",
          "name": "stdout",
          "text": [
            "     OD_Dice: 0.3805,     cup_Dice: 0.4094\n",
            " max_OD_Dice: 0.3805,     cup_Dice: 0.2292\n",
            "     OD_Dice: 0.3805, max_cup_Dice: 0.4094\n",
            "learning rate: 0.0001\n"
          ]
        },
        {
          "output_type": "stream",
          "name": "stderr",
          "text": [
            "Epoch 33/400: 100%|██████████| 125/125 [01:27<00:00,  1.43it/s, loss=0.126]\n"
          ]
        },
        {
          "output_type": "stream",
          "name": "stdout",
          "text": [
            "     OD_Dice: 0.3805,     cup_Dice: 0.3308\n",
            " max_OD_Dice: 0.3805,     cup_Dice: 0.2292\n",
            "     OD_Dice: 0.3805, max_cup_Dice: 0.4094\n",
            "learning rate: 0.0001\n"
          ]
        },
        {
          "output_type": "stream",
          "name": "stderr",
          "text": [
            "Epoch 34/400: 100%|██████████| 125/125 [01:27<00:00,  1.43it/s, loss=0.125]\n"
          ]
        },
        {
          "output_type": "stream",
          "name": "stdout",
          "text": [
            "     OD_Dice: 0.3805,     cup_Dice: 0.3732\n",
            " max_OD_Dice: 0.3805,     cup_Dice: 0.2292\n",
            "     OD_Dice: 0.3805, max_cup_Dice: 0.4094\n",
            "learning rate: 0.0001\n"
          ]
        },
        {
          "output_type": "stream",
          "name": "stderr",
          "text": [
            "Epoch 35/400: 100%|██████████| 125/125 [01:27<00:00,  1.43it/s, loss=0.123]\n"
          ]
        },
        {
          "output_type": "stream",
          "name": "stdout",
          "text": [
            "     OD_Dice: 0.3805,     cup_Dice: 0.4185\n",
            " max_OD_Dice: 0.3805,     cup_Dice: 0.2292\n",
            "     OD_Dice: 0.3805, max_cup_Dice: 0.4185\n",
            "learning rate: 0.0001\n"
          ]
        },
        {
          "output_type": "stream",
          "name": "stderr",
          "text": [
            "Epoch 36/400: 100%|██████████| 125/125 [01:27<00:00,  1.43it/s, loss=0.122]\n"
          ]
        },
        {
          "output_type": "stream",
          "name": "stdout",
          "text": [
            "     OD_Dice: 0.3805,     cup_Dice: 0.3663\n",
            " max_OD_Dice: 0.3805,     cup_Dice: 0.2292\n",
            "     OD_Dice: 0.3805, max_cup_Dice: 0.4185\n",
            "learning rate: 0.0001\n"
          ]
        },
        {
          "output_type": "stream",
          "name": "stderr",
          "text": [
            "Epoch 37/400: 100%|██████████| 125/125 [01:27<00:00,  1.43it/s, loss=0.112]\n"
          ]
        },
        {
          "output_type": "stream",
          "name": "stdout",
          "text": [
            "     OD_Dice: 0.3805,     cup_Dice: 0.3975\n",
            " max_OD_Dice: 0.3805,     cup_Dice: 0.2292\n",
            "     OD_Dice: 0.3805, max_cup_Dice: 0.4185\n",
            "learning rate: 0.0001\n"
          ]
        },
        {
          "output_type": "stream",
          "name": "stderr",
          "text": [
            "Epoch 38/400: 100%|██████████| 125/125 [01:27<00:00,  1.43it/s, loss=0.114]\n"
          ]
        },
        {
          "output_type": "stream",
          "name": "stdout",
          "text": [
            "     OD_Dice: 0.3805,     cup_Dice: 0.3586\n",
            " max_OD_Dice: 0.3805,     cup_Dice: 0.2292\n",
            "     OD_Dice: 0.3805, max_cup_Dice: 0.4185\n",
            "learning rate: 0.0001\n"
          ]
        },
        {
          "output_type": "stream",
          "name": "stderr",
          "text": [
            "Epoch 39/400: 100%|██████████| 125/125 [01:27<00:00,  1.43it/s, loss=0.114]\n"
          ]
        },
        {
          "output_type": "stream",
          "name": "stdout",
          "text": [
            "     OD_Dice: 0.3805,     cup_Dice: 0.4119\n",
            " max_OD_Dice: 0.3805,     cup_Dice: 0.2292\n",
            "     OD_Dice: 0.3805, max_cup_Dice: 0.4185\n",
            "learning rate: 0.0001\n"
          ]
        },
        {
          "output_type": "stream",
          "name": "stderr",
          "text": [
            "Epoch 40/400: 100%|██████████| 125/125 [01:27<00:00,  1.43it/s, loss=0.108]\n"
          ]
        },
        {
          "output_type": "stream",
          "name": "stdout",
          "text": [
            "     OD_Dice: 0.3805,     cup_Dice: 0.4743\n",
            " max_OD_Dice: 0.3805,     cup_Dice: 0.2292\n",
            "     OD_Dice: 0.3805, max_cup_Dice: 0.4743\n",
            "learning rate: 0.0001\n"
          ]
        },
        {
          "output_type": "stream",
          "name": "stderr",
          "text": [
            "Epoch 41/400: 100%|██████████| 125/125 [01:27<00:00,  1.43it/s, loss=0.105]\n"
          ]
        },
        {
          "output_type": "stream",
          "name": "stdout",
          "text": [
            "     OD_Dice: 0.3805,     cup_Dice: 0.3720\n",
            " max_OD_Dice: 0.3805,     cup_Dice: 0.2292\n",
            "     OD_Dice: 0.3805, max_cup_Dice: 0.4743\n",
            "learning rate: 0.0001\n"
          ]
        },
        {
          "output_type": "stream",
          "name": "stderr",
          "text": [
            "Epoch 42/400: 100%|██████████| 125/125 [01:27<00:00,  1.43it/s, loss=0.106]\n"
          ]
        },
        {
          "output_type": "stream",
          "name": "stdout",
          "text": [
            "     OD_Dice: 0.3805,     cup_Dice: 0.3056\n",
            " max_OD_Dice: 0.3805,     cup_Dice: 0.2292\n",
            "     OD_Dice: 0.3805, max_cup_Dice: 0.4743\n",
            "learning rate: 0.0001\n"
          ]
        },
        {
          "output_type": "stream",
          "name": "stderr",
          "text": [
            "Epoch 43/400: 100%|██████████| 125/125 [01:27<00:00,  1.43it/s, loss=0.103]\n"
          ]
        },
        {
          "output_type": "stream",
          "name": "stdout",
          "text": [
            "     OD_Dice: 0.3805,     cup_Dice: 0.3806\n",
            " max_OD_Dice: 0.3805,     cup_Dice: 0.2292\n",
            "     OD_Dice: 0.3805, max_cup_Dice: 0.4743\n",
            "learning rate: 0.0001\n"
          ]
        },
        {
          "output_type": "stream",
          "name": "stderr",
          "text": [
            "Epoch 44/400: 100%|██████████| 125/125 [01:27<00:00,  1.43it/s, loss=0.099]\n"
          ]
        },
        {
          "output_type": "stream",
          "name": "stdout",
          "text": [
            "     OD_Dice: 0.3805,     cup_Dice: 0.3456\n",
            " max_OD_Dice: 0.3805,     cup_Dice: 0.2292\n",
            "     OD_Dice: 0.3805, max_cup_Dice: 0.4743\n",
            "learning rate: 0.0001\n"
          ]
        },
        {
          "output_type": "stream",
          "name": "stderr",
          "text": [
            "Epoch 45/400: 100%|██████████| 125/125 [01:27<00:00,  1.43it/s, loss=0.100]\n"
          ]
        },
        {
          "output_type": "stream",
          "name": "stdout",
          "text": [
            "     OD_Dice: 0.3882,     cup_Dice: 0.4342\n",
            " max_OD_Dice: 0.3882,     cup_Dice: 0.4342\n",
            "     OD_Dice: 0.3805, max_cup_Dice: 0.4743\n",
            "learning rate: 0.0001\n"
          ]
        },
        {
          "output_type": "stream",
          "name": "stderr",
          "text": [
            "Epoch 46/400: 100%|██████████| 125/125 [01:27<00:00,  1.43it/s, loss=0.101]\n"
          ]
        },
        {
          "output_type": "stream",
          "name": "stdout",
          "text": [
            "     OD_Dice: 0.3805,     cup_Dice: 0.4157\n",
            " max_OD_Dice: 0.3882,     cup_Dice: 0.4342\n",
            "     OD_Dice: 0.3805, max_cup_Dice: 0.4743\n",
            "learning rate: 0.0001\n"
          ]
        },
        {
          "output_type": "stream",
          "name": "stderr",
          "text": [
            "Epoch 47/400: 100%|██████████| 125/125 [01:27<00:00,  1.43it/s, loss=0.100]\n"
          ]
        },
        {
          "output_type": "stream",
          "name": "stdout",
          "text": [
            "     OD_Dice: 0.3805,     cup_Dice: 0.4371\n",
            " max_OD_Dice: 0.3882,     cup_Dice: 0.4342\n",
            "     OD_Dice: 0.3805, max_cup_Dice: 0.4743\n",
            "learning rate: 0.0001\n"
          ]
        },
        {
          "output_type": "stream",
          "name": "stderr",
          "text": [
            "Epoch 48/400: 100%|██████████| 125/125 [01:27<00:00,  1.43it/s, loss=0.100]\n"
          ]
        },
        {
          "output_type": "stream",
          "name": "stdout",
          "text": [
            "     OD_Dice: 0.3805,     cup_Dice: 0.4712\n",
            " max_OD_Dice: 0.3882,     cup_Dice: 0.4342\n",
            "     OD_Dice: 0.3805, max_cup_Dice: 0.4743\n",
            "learning rate: 0.0001\n"
          ]
        },
        {
          "output_type": "stream",
          "name": "stderr",
          "text": [
            "Epoch 49/400: 100%|██████████| 125/125 [01:27<00:00,  1.43it/s, loss=0.093]\n"
          ]
        },
        {
          "output_type": "stream",
          "name": "stdout",
          "text": [
            "     OD_Dice: 0.3805,     cup_Dice: 0.4366\n",
            " max_OD_Dice: 0.3882,     cup_Dice: 0.4342\n",
            "     OD_Dice: 0.3805, max_cup_Dice: 0.4743\n",
            "learning rate: 0.0001\n"
          ]
        },
        {
          "output_type": "stream",
          "name": "stderr",
          "text": [
            "Epoch 50/400: 100%|██████████| 125/125 [01:27<00:00,  1.43it/s, loss=0.098]\n"
          ]
        },
        {
          "output_type": "stream",
          "name": "stdout",
          "text": [
            "     OD_Dice: 0.3805,     cup_Dice: 0.4814\n",
            " max_OD_Dice: 0.3882,     cup_Dice: 0.4342\n",
            "     OD_Dice: 0.3805, max_cup_Dice: 0.4814\n",
            "learning rate: 0.0001\n"
          ]
        },
        {
          "output_type": "stream",
          "name": "stderr",
          "text": [
            "Epoch 51/400: 100%|██████████| 125/125 [01:27<00:00,  1.43it/s, loss=0.093]\n"
          ]
        },
        {
          "output_type": "stream",
          "name": "stdout",
          "text": [
            "     OD_Dice: 0.3805,     cup_Dice: 0.4195\n",
            " max_OD_Dice: 0.3882,     cup_Dice: 0.4342\n",
            "     OD_Dice: 0.3805, max_cup_Dice: 0.4814\n",
            "learning rate: 0.0001\n"
          ]
        },
        {
          "output_type": "stream",
          "name": "stderr",
          "text": [
            "Epoch 52/400: 100%|██████████| 125/125 [01:27<00:00,  1.43it/s, loss=0.090]\n"
          ]
        },
        {
          "output_type": "stream",
          "name": "stdout",
          "text": [
            "     OD_Dice: 0.3888,     cup_Dice: 0.4826\n",
            " max_OD_Dice: 0.3888,     cup_Dice: 0.4826\n",
            "     OD_Dice: 0.3888, max_cup_Dice: 0.4826\n",
            "learning rate: 0.0001\n"
          ]
        },
        {
          "output_type": "stream",
          "name": "stderr",
          "text": [
            "Epoch 53/400: 100%|██████████| 125/125 [01:27<00:00,  1.43it/s, loss=0.095]\n"
          ]
        },
        {
          "output_type": "stream",
          "name": "stdout",
          "text": [
            "     OD_Dice: 0.3847,     cup_Dice: 0.4021\n",
            " max_OD_Dice: 0.3888,     cup_Dice: 0.4826\n",
            "     OD_Dice: 0.3888, max_cup_Dice: 0.4826\n",
            "learning rate: 0.0001\n"
          ]
        },
        {
          "output_type": "stream",
          "name": "stderr",
          "text": [
            "Epoch 54/400: 100%|██████████| 125/125 [01:27<00:00,  1.43it/s, loss=0.085]\n"
          ]
        },
        {
          "output_type": "stream",
          "name": "stdout",
          "text": [
            "     OD_Dice: 0.3844,     cup_Dice: 0.4606\n",
            " max_OD_Dice: 0.3888,     cup_Dice: 0.4826\n",
            "     OD_Dice: 0.3888, max_cup_Dice: 0.4826\n",
            "learning rate: 0.0001\n"
          ]
        },
        {
          "output_type": "stream",
          "name": "stderr",
          "text": [
            "Epoch 55/400: 100%|██████████| 125/125 [01:27<00:00,  1.43it/s, loss=0.084]\n"
          ]
        },
        {
          "output_type": "stream",
          "name": "stdout",
          "text": [
            "     OD_Dice: 0.3931,     cup_Dice: 0.5062\n",
            " max_OD_Dice: 0.3931,     cup_Dice: 0.5062\n",
            "     OD_Dice: 0.3931, max_cup_Dice: 0.5062\n",
            "learning rate: 0.0001\n"
          ]
        },
        {
          "output_type": "stream",
          "name": "stderr",
          "text": [
            "Epoch 56/400: 100%|██████████| 125/125 [01:27<00:00,  1.43it/s, loss=0.079]\n"
          ]
        },
        {
          "output_type": "stream",
          "name": "stdout",
          "text": [
            "     OD_Dice: 0.3876,     cup_Dice: 0.4608\n",
            " max_OD_Dice: 0.3931,     cup_Dice: 0.5062\n",
            "     OD_Dice: 0.3931, max_cup_Dice: 0.5062\n",
            "learning rate: 0.0001\n"
          ]
        },
        {
          "output_type": "stream",
          "name": "stderr",
          "text": [
            "Epoch 57/400: 100%|██████████| 125/125 [01:27<00:00,  1.43it/s, loss=0.077]\n"
          ]
        },
        {
          "output_type": "stream",
          "name": "stdout",
          "text": [
            "     OD_Dice: 0.3805,     cup_Dice: 0.4894\n",
            " max_OD_Dice: 0.3931,     cup_Dice: 0.5062\n",
            "     OD_Dice: 0.3931, max_cup_Dice: 0.5062\n",
            "learning rate: 0.0001\n"
          ]
        },
        {
          "output_type": "stream",
          "name": "stderr",
          "text": [
            "Epoch 58/400: 100%|██████████| 125/125 [01:27<00:00,  1.43it/s, loss=0.083]\n"
          ]
        },
        {
          "output_type": "stream",
          "name": "stdout",
          "text": [
            "     OD_Dice: 0.4676,     cup_Dice: 0.5536\n",
            " max_OD_Dice: 0.4676,     cup_Dice: 0.5536\n",
            "     OD_Dice: 0.4676, max_cup_Dice: 0.5536\n",
            "learning rate: 0.0001\n"
          ]
        },
        {
          "output_type": "stream",
          "name": "stderr",
          "text": [
            "Epoch 59/400: 100%|██████████| 125/125 [01:27<00:00,  1.43it/s, loss=0.077]\n"
          ]
        },
        {
          "output_type": "stream",
          "name": "stdout",
          "text": [
            "     OD_Dice: 0.3988,     cup_Dice: 0.4861\n",
            " max_OD_Dice: 0.4676,     cup_Dice: 0.5536\n",
            "     OD_Dice: 0.4676, max_cup_Dice: 0.5536\n",
            "learning rate: 0.0001\n"
          ]
        },
        {
          "output_type": "stream",
          "name": "stderr",
          "text": [
            "Epoch 60/400: 100%|██████████| 125/125 [01:27<00:00,  1.43it/s, loss=0.081]\n"
          ]
        },
        {
          "output_type": "stream",
          "name": "stdout",
          "text": [
            "     OD_Dice: 0.4105,     cup_Dice: 0.5217\n",
            " max_OD_Dice: 0.4676,     cup_Dice: 0.5536\n",
            "     OD_Dice: 0.4676, max_cup_Dice: 0.5536\n",
            "learning rate: 0.0001\n"
          ]
        },
        {
          "output_type": "stream",
          "name": "stderr",
          "text": [
            "Epoch 61/400: 100%|██████████| 125/125 [01:27<00:00,  1.43it/s, loss=0.075]\n"
          ]
        },
        {
          "output_type": "stream",
          "name": "stdout",
          "text": [
            "     OD_Dice: 0.4371,     cup_Dice: 0.5560\n",
            " max_OD_Dice: 0.4676,     cup_Dice: 0.5536\n",
            "     OD_Dice: 0.4371, max_cup_Dice: 0.5560\n",
            "learning rate: 0.0001\n"
          ]
        },
        {
          "output_type": "stream",
          "name": "stderr",
          "text": [
            "Epoch 62/400: 100%|██████████| 125/125 [01:27<00:00,  1.43it/s, loss=0.071]\n"
          ]
        },
        {
          "output_type": "stream",
          "name": "stdout",
          "text": [
            "     OD_Dice: 0.4357,     cup_Dice: 0.5640\n",
            " max_OD_Dice: 0.4676,     cup_Dice: 0.5536\n",
            "     OD_Dice: 0.4357, max_cup_Dice: 0.5640\n",
            "learning rate: 0.0001\n"
          ]
        },
        {
          "output_type": "stream",
          "name": "stderr",
          "text": [
            "Epoch 63/400: 100%|██████████| 125/125 [01:27<00:00,  1.43it/s, loss=0.075]\n"
          ]
        },
        {
          "output_type": "stream",
          "name": "stdout",
          "text": [
            "     OD_Dice: 0.4481,     cup_Dice: 0.5494\n",
            " max_OD_Dice: 0.4676,     cup_Dice: 0.5536\n",
            "     OD_Dice: 0.4357, max_cup_Dice: 0.5640\n",
            "learning rate: 0.0001\n"
          ]
        },
        {
          "output_type": "stream",
          "name": "stderr",
          "text": [
            "Epoch 64/400: 100%|██████████| 125/125 [01:27<00:00,  1.43it/s, loss=0.071]\n"
          ]
        },
        {
          "output_type": "stream",
          "name": "stdout",
          "text": [
            "     OD_Dice: 0.4110,     cup_Dice: 0.4730\n",
            " max_OD_Dice: 0.4676,     cup_Dice: 0.5536\n",
            "     OD_Dice: 0.4357, max_cup_Dice: 0.5640\n",
            "learning rate: 0.0001\n"
          ]
        },
        {
          "output_type": "stream",
          "name": "stderr",
          "text": [
            "Epoch 65/400: 100%|██████████| 125/125 [01:27<00:00,  1.43it/s, loss=0.069]\n"
          ]
        },
        {
          "output_type": "stream",
          "name": "stdout",
          "text": [
            "     OD_Dice: 0.3805,     cup_Dice: 0.5017\n",
            " max_OD_Dice: 0.4676,     cup_Dice: 0.5536\n",
            "     OD_Dice: 0.4357, max_cup_Dice: 0.5640\n",
            "learning rate: 0.0001\n"
          ]
        },
        {
          "output_type": "stream",
          "name": "stderr",
          "text": [
            "Epoch 66/400: 100%|██████████| 125/125 [01:27<00:00,  1.43it/s, loss=0.071]\n"
          ]
        },
        {
          "output_type": "stream",
          "name": "stdout",
          "text": [
            "     OD_Dice: 0.3975,     cup_Dice: 0.5226\n",
            " max_OD_Dice: 0.4676,     cup_Dice: 0.5536\n",
            "     OD_Dice: 0.4357, max_cup_Dice: 0.5640\n",
            "learning rate: 0.0001\n"
          ]
        },
        {
          "output_type": "stream",
          "name": "stderr",
          "text": [
            "Epoch 67/400: 100%|██████████| 125/125 [01:27<00:00,  1.43it/s, loss=0.069]\n"
          ]
        },
        {
          "output_type": "stream",
          "name": "stdout",
          "text": [
            "     OD_Dice: 0.4959,     cup_Dice: 0.5471\n",
            " max_OD_Dice: 0.4959,     cup_Dice: 0.5471\n",
            "     OD_Dice: 0.4357, max_cup_Dice: 0.5640\n",
            "learning rate: 0.0001\n"
          ]
        },
        {
          "output_type": "stream",
          "name": "stderr",
          "text": [
            "Epoch 68/400: 100%|██████████| 125/125 [01:27<00:00,  1.43it/s, loss=0.072]\n"
          ]
        },
        {
          "output_type": "stream",
          "name": "stdout",
          "text": [
            "     OD_Dice: 0.4837,     cup_Dice: 0.5710\n",
            " max_OD_Dice: 0.4959,     cup_Dice: 0.5471\n",
            "     OD_Dice: 0.4837, max_cup_Dice: 0.5710\n",
            "learning rate: 0.0001\n"
          ]
        },
        {
          "output_type": "stream",
          "name": "stderr",
          "text": [
            "Epoch 69/400: 100%|██████████| 125/125 [01:27<00:00,  1.43it/s, loss=0.068]\n"
          ]
        },
        {
          "output_type": "stream",
          "name": "stdout",
          "text": [
            "     OD_Dice: 0.4756,     cup_Dice: 0.5489\n",
            " max_OD_Dice: 0.4959,     cup_Dice: 0.5471\n",
            "     OD_Dice: 0.4837, max_cup_Dice: 0.5710\n",
            "learning rate: 0.0001\n"
          ]
        },
        {
          "output_type": "stream",
          "name": "stderr",
          "text": [
            "Epoch 70/400: 100%|██████████| 125/125 [01:27<00:00,  1.43it/s, loss=0.064]\n"
          ]
        },
        {
          "output_type": "stream",
          "name": "stdout",
          "text": [
            "     OD_Dice: 0.4058,     cup_Dice: 0.5402\n",
            " max_OD_Dice: 0.4959,     cup_Dice: 0.5471\n",
            "     OD_Dice: 0.4837, max_cup_Dice: 0.5710\n",
            "learning rate: 0.0001\n"
          ]
        },
        {
          "output_type": "stream",
          "name": "stderr",
          "text": [
            "Epoch 71/400: 100%|██████████| 125/125 [01:27<00:00,  1.43it/s, loss=0.065]\n"
          ]
        },
        {
          "output_type": "stream",
          "name": "stdout",
          "text": [
            "     OD_Dice: 0.4827,     cup_Dice: 0.5627\n",
            " max_OD_Dice: 0.4959,     cup_Dice: 0.5471\n",
            "     OD_Dice: 0.4837, max_cup_Dice: 0.5710\n",
            "learning rate: 0.0001\n"
          ]
        },
        {
          "output_type": "stream",
          "name": "stderr",
          "text": [
            "Epoch 72/400: 100%|██████████| 125/125 [01:27<00:00,  1.43it/s, loss=0.062]\n"
          ]
        },
        {
          "output_type": "stream",
          "name": "stdout",
          "text": [
            "     OD_Dice: 0.3960,     cup_Dice: 0.5202\n",
            " max_OD_Dice: 0.4959,     cup_Dice: 0.5471\n",
            "     OD_Dice: 0.4837, max_cup_Dice: 0.5710\n",
            "learning rate: 0.0001\n"
          ]
        },
        {
          "output_type": "stream",
          "name": "stderr",
          "text": [
            "Epoch 73/400: 100%|██████████| 125/125 [01:27<00:00,  1.43it/s, loss=0.060]\n"
          ]
        },
        {
          "output_type": "stream",
          "name": "stdout",
          "text": [
            "     OD_Dice: 0.4587,     cup_Dice: 0.5730\n",
            " max_OD_Dice: 0.4959,     cup_Dice: 0.5471\n",
            "     OD_Dice: 0.4587, max_cup_Dice: 0.5730\n",
            "learning rate: 0.0001\n"
          ]
        },
        {
          "output_type": "stream",
          "name": "stderr",
          "text": [
            "Epoch 74/400: 100%|██████████| 125/125 [01:27<00:00,  1.43it/s, loss=0.070]\n"
          ]
        },
        {
          "output_type": "stream",
          "name": "stdout",
          "text": [
            "     OD_Dice: 0.4201,     cup_Dice: 0.4948\n",
            " max_OD_Dice: 0.4959,     cup_Dice: 0.5471\n",
            "     OD_Dice: 0.4587, max_cup_Dice: 0.5730\n",
            "learning rate: 0.0001\n"
          ]
        },
        {
          "output_type": "stream",
          "name": "stderr",
          "text": [
            "Epoch 75/400: 100%|██████████| 125/125 [01:27<00:00,  1.43it/s, loss=0.063]\n"
          ]
        },
        {
          "output_type": "stream",
          "name": "stdout",
          "text": [
            "     OD_Dice: 0.4219,     cup_Dice: 0.5367\n",
            " max_OD_Dice: 0.4959,     cup_Dice: 0.5471\n",
            "     OD_Dice: 0.4587, max_cup_Dice: 0.5730\n",
            "learning rate: 0.0001\n"
          ]
        },
        {
          "output_type": "stream",
          "name": "stderr",
          "text": [
            "Epoch 76/400: 100%|██████████| 125/125 [01:27<00:00,  1.43it/s, loss=0.069]\n"
          ]
        },
        {
          "output_type": "stream",
          "name": "stdout",
          "text": [
            "     OD_Dice: 0.4721,     cup_Dice: 0.5498\n",
            " max_OD_Dice: 0.4959,     cup_Dice: 0.5471\n",
            "     OD_Dice: 0.4587, max_cup_Dice: 0.5730\n",
            "learning rate: 0.0001\n"
          ]
        },
        {
          "output_type": "stream",
          "name": "stderr",
          "text": [
            "Epoch 77/400: 100%|██████████| 125/125 [01:27<00:00,  1.43it/s, loss=0.061]\n"
          ]
        },
        {
          "output_type": "stream",
          "name": "stdout",
          "text": [
            "     OD_Dice: 0.4381,     cup_Dice: 0.5274\n",
            " max_OD_Dice: 0.4959,     cup_Dice: 0.5471\n",
            "     OD_Dice: 0.4587, max_cup_Dice: 0.5730\n",
            "learning rate: 0.0001\n"
          ]
        },
        {
          "output_type": "stream",
          "name": "stderr",
          "text": [
            "Epoch 78/400: 100%|██████████| 125/125 [01:27<00:00,  1.43it/s, loss=0.057]\n"
          ]
        },
        {
          "output_type": "stream",
          "name": "stdout",
          "text": [
            "     OD_Dice: 0.4649,     cup_Dice: 0.5820\n",
            " max_OD_Dice: 0.4959,     cup_Dice: 0.5471\n",
            "     OD_Dice: 0.4649, max_cup_Dice: 0.5820\n",
            "learning rate: 0.0001\n"
          ]
        },
        {
          "output_type": "stream",
          "name": "stderr",
          "text": [
            "Epoch 79/400: 100%|██████████| 125/125 [01:27<00:00,  1.43it/s, loss=0.056]\n"
          ]
        },
        {
          "output_type": "stream",
          "name": "stdout",
          "text": [
            "     OD_Dice: 0.5116,     cup_Dice: 0.5944\n",
            " max_OD_Dice: 0.5116,     cup_Dice: 0.5944\n",
            "     OD_Dice: 0.5116, max_cup_Dice: 0.5944\n",
            "learning rate: 0.0001\n"
          ]
        },
        {
          "output_type": "stream",
          "name": "stderr",
          "text": [
            "Epoch 80/400: 100%|██████████| 125/125 [01:27<00:00,  1.42it/s, loss=0.064]\n"
          ]
        },
        {
          "output_type": "stream",
          "name": "stdout",
          "text": [
            "     OD_Dice: 0.5116,     cup_Dice: 0.5912\n",
            " max_OD_Dice: 0.5116,     cup_Dice: 0.5912\n",
            "     OD_Dice: 0.5116, max_cup_Dice: 0.5944\n",
            "learning rate: 0.0001\n"
          ]
        },
        {
          "output_type": "stream",
          "name": "stderr",
          "text": [
            "Epoch 81/400: 100%|██████████| 125/125 [01:27<00:00,  1.42it/s, loss=0.053]\n"
          ]
        },
        {
          "output_type": "stream",
          "name": "stdout",
          "text": [
            "     OD_Dice: 0.4437,     cup_Dice: 0.5896\n",
            " max_OD_Dice: 0.5116,     cup_Dice: 0.5912\n",
            "     OD_Dice: 0.5116, max_cup_Dice: 0.5944\n",
            "learning rate: 0.0001\n"
          ]
        },
        {
          "output_type": "stream",
          "name": "stderr",
          "text": [
            "Epoch 82/400: 100%|██████████| 125/125 [01:27<00:00,  1.43it/s, loss=0.056]\n"
          ]
        },
        {
          "output_type": "stream",
          "name": "stdout",
          "text": [
            "     OD_Dice: 0.4723,     cup_Dice: 0.5705\n",
            " max_OD_Dice: 0.5116,     cup_Dice: 0.5912\n",
            "     OD_Dice: 0.5116, max_cup_Dice: 0.5944\n",
            "learning rate: 0.0001\n"
          ]
        },
        {
          "output_type": "stream",
          "name": "stderr",
          "text": [
            "Epoch 83/400: 100%|██████████| 125/125 [01:27<00:00,  1.43it/s, loss=0.056]\n"
          ]
        },
        {
          "output_type": "stream",
          "name": "stdout",
          "text": [
            "     OD_Dice: 0.4884,     cup_Dice: 0.5927\n",
            " max_OD_Dice: 0.5116,     cup_Dice: 0.5912\n",
            "     OD_Dice: 0.5116, max_cup_Dice: 0.5944\n",
            "learning rate: 0.0001\n"
          ]
        },
        {
          "output_type": "stream",
          "name": "stderr",
          "text": [
            "Epoch 84/400: 100%|██████████| 125/125 [01:27<00:00,  1.43it/s, loss=0.059]\n"
          ]
        },
        {
          "output_type": "stream",
          "name": "stdout",
          "text": [
            "     OD_Dice: 0.4816,     cup_Dice: 0.5757\n",
            " max_OD_Dice: 0.5116,     cup_Dice: 0.5912\n",
            "     OD_Dice: 0.5116, max_cup_Dice: 0.5944\n",
            "learning rate: 0.0001\n"
          ]
        },
        {
          "output_type": "stream",
          "name": "stderr",
          "text": [
            "Epoch 85/400: 100%|██████████| 125/125 [01:27<00:00,  1.43it/s, loss=0.052]\n"
          ]
        },
        {
          "output_type": "stream",
          "name": "stdout",
          "text": [
            "     OD_Dice: 0.4508,     cup_Dice: 0.5730\n",
            " max_OD_Dice: 0.5116,     cup_Dice: 0.5912\n",
            "     OD_Dice: 0.5116, max_cup_Dice: 0.5944\n",
            "learning rate: 0.0001\n"
          ]
        },
        {
          "output_type": "stream",
          "name": "stderr",
          "text": [
            "Epoch 86/400: 100%|██████████| 125/125 [01:27<00:00,  1.43it/s, loss=0.053]\n"
          ]
        },
        {
          "output_type": "stream",
          "name": "stdout",
          "text": [
            "     OD_Dice: 0.5646,     cup_Dice: 0.6123\n",
            " max_OD_Dice: 0.5646,     cup_Dice: 0.6123\n",
            "     OD_Dice: 0.5646, max_cup_Dice: 0.6123\n",
            "learning rate: 0.0001\n"
          ]
        },
        {
          "output_type": "stream",
          "name": "stderr",
          "text": [
            "Epoch 87/400: 100%|██████████| 125/125 [01:27<00:00,  1.43it/s, loss=0.047]\n"
          ]
        },
        {
          "output_type": "stream",
          "name": "stdout",
          "text": [
            "     OD_Dice: 0.5040,     cup_Dice: 0.5877\n",
            " max_OD_Dice: 0.5646,     cup_Dice: 0.6123\n",
            "     OD_Dice: 0.5646, max_cup_Dice: 0.6123\n",
            "learning rate: 0.0001\n"
          ]
        },
        {
          "output_type": "stream",
          "name": "stderr",
          "text": [
            "Epoch 88/400: 100%|██████████| 125/125 [01:27<00:00,  1.43it/s, loss=0.051]\n"
          ]
        },
        {
          "output_type": "stream",
          "name": "stdout",
          "text": [
            "     OD_Dice: 0.4729,     cup_Dice: 0.6098\n",
            " max_OD_Dice: 0.5646,     cup_Dice: 0.6123\n",
            "     OD_Dice: 0.5646, max_cup_Dice: 0.6123\n",
            "learning rate: 0.0001\n"
          ]
        },
        {
          "output_type": "stream",
          "name": "stderr",
          "text": [
            "Epoch 89/400: 100%|██████████| 125/125 [01:27<00:00,  1.43it/s, loss=0.050]\n"
          ]
        },
        {
          "output_type": "stream",
          "name": "stdout",
          "text": [
            "     OD_Dice: 0.4353,     cup_Dice: 0.5579\n",
            " max_OD_Dice: 0.5646,     cup_Dice: 0.6123\n",
            "     OD_Dice: 0.5646, max_cup_Dice: 0.6123\n",
            "learning rate: 0.0001\n"
          ]
        },
        {
          "output_type": "stream",
          "name": "stderr",
          "text": [
            "Epoch 90/400: 100%|██████████| 125/125 [01:27<00:00,  1.43it/s, loss=0.048]\n"
          ]
        },
        {
          "output_type": "stream",
          "name": "stdout",
          "text": [
            "     OD_Dice: 0.5611,     cup_Dice: 0.6074\n",
            " max_OD_Dice: 0.5646,     cup_Dice: 0.6123\n",
            "     OD_Dice: 0.5646, max_cup_Dice: 0.6123\n",
            "learning rate: 0.0001\n"
          ]
        },
        {
          "output_type": "stream",
          "name": "stderr",
          "text": [
            "Epoch 91/400: 100%|██████████| 125/125 [01:27<00:00,  1.43it/s, loss=0.047]\n"
          ]
        },
        {
          "output_type": "stream",
          "name": "stdout",
          "text": [
            "     OD_Dice: 0.4613,     cup_Dice: 0.5606\n",
            " max_OD_Dice: 0.5646,     cup_Dice: 0.6123\n",
            "     OD_Dice: 0.5646, max_cup_Dice: 0.6123\n",
            "learning rate: 0.0001\n"
          ]
        },
        {
          "output_type": "stream",
          "name": "stderr",
          "text": [
            "Epoch 92/400: 100%|██████████| 125/125 [01:27<00:00,  1.43it/s, loss=0.048]\n"
          ]
        },
        {
          "output_type": "stream",
          "name": "stdout",
          "text": [
            "     OD_Dice: 0.4910,     cup_Dice: 0.6115\n",
            " max_OD_Dice: 0.5646,     cup_Dice: 0.6123\n",
            "     OD_Dice: 0.5646, max_cup_Dice: 0.6123\n",
            "learning rate: 0.0001\n"
          ]
        },
        {
          "output_type": "stream",
          "name": "stderr",
          "text": [
            "Epoch 93/400: 100%|██████████| 125/125 [01:27<00:00,  1.43it/s, loss=0.047]\n"
          ]
        },
        {
          "output_type": "stream",
          "name": "stdout",
          "text": [
            "     OD_Dice: 0.4058,     cup_Dice: 0.5777\n",
            " max_OD_Dice: 0.5646,     cup_Dice: 0.6123\n",
            "     OD_Dice: 0.5646, max_cup_Dice: 0.6123\n",
            "learning rate: 0.0001\n"
          ]
        },
        {
          "output_type": "stream",
          "name": "stderr",
          "text": [
            "Epoch 94/400: 100%|██████████| 125/125 [01:27<00:00,  1.43it/s, loss=0.047]\n"
          ]
        },
        {
          "output_type": "stream",
          "name": "stdout",
          "text": [
            "     OD_Dice: 0.5796,     cup_Dice: 0.6186\n",
            " max_OD_Dice: 0.5796,     cup_Dice: 0.6186\n",
            "     OD_Dice: 0.5796, max_cup_Dice: 0.6186\n",
            "learning rate: 0.0001\n"
          ]
        },
        {
          "output_type": "stream",
          "name": "stderr",
          "text": [
            "Epoch 95/400: 100%|██████████| 125/125 [01:27<00:00,  1.43it/s, loss=0.047]\n"
          ]
        },
        {
          "output_type": "stream",
          "name": "stdout",
          "text": [
            "     OD_Dice: 0.5128,     cup_Dice: 0.5851\n",
            " max_OD_Dice: 0.5796,     cup_Dice: 0.6186\n",
            "     OD_Dice: 0.5796, max_cup_Dice: 0.6186\n",
            "learning rate: 0.0001\n"
          ]
        },
        {
          "output_type": "stream",
          "name": "stderr",
          "text": [
            "Epoch 96/400: 100%|██████████| 125/125 [01:27<00:00,  1.42it/s, loss=0.046]\n"
          ]
        },
        {
          "output_type": "stream",
          "name": "stdout",
          "text": [
            "     OD_Dice: 0.4646,     cup_Dice: 0.6118\n",
            " max_OD_Dice: 0.5796,     cup_Dice: 0.6186\n",
            "     OD_Dice: 0.5796, max_cup_Dice: 0.6186\n",
            "learning rate: 0.0001\n"
          ]
        },
        {
          "output_type": "stream",
          "name": "stderr",
          "text": [
            "Epoch 97/400: 100%|██████████| 125/125 [01:27<00:00,  1.42it/s, loss=0.047]\n"
          ]
        },
        {
          "output_type": "stream",
          "name": "stdout",
          "text": [
            "     OD_Dice: 0.5838,     cup_Dice: 0.6408\n",
            " max_OD_Dice: 0.5838,     cup_Dice: 0.6408\n",
            "     OD_Dice: 0.5838, max_cup_Dice: 0.6408\n",
            "learning rate: 0.0001\n"
          ]
        },
        {
          "output_type": "stream",
          "name": "stderr",
          "text": [
            "Epoch 98/400: 100%|██████████| 125/125 [01:27<00:00,  1.42it/s, loss=0.046]\n"
          ]
        },
        {
          "output_type": "stream",
          "name": "stdout",
          "text": [
            "     OD_Dice: 0.4343,     cup_Dice: 0.5863\n",
            " max_OD_Dice: 0.5838,     cup_Dice: 0.6408\n",
            "     OD_Dice: 0.5838, max_cup_Dice: 0.6408\n",
            "learning rate: 0.0001\n"
          ]
        },
        {
          "output_type": "stream",
          "name": "stderr",
          "text": [
            "Epoch 99/400: 100%|██████████| 125/125 [01:27<00:00,  1.43it/s, loss=0.046]\n"
          ]
        },
        {
          "output_type": "stream",
          "name": "stdout",
          "text": [
            "     OD_Dice: 0.6780,     cup_Dice: 0.6409\n",
            " max_OD_Dice: 0.6780,     cup_Dice: 0.6409\n",
            "     OD_Dice: 0.6780, max_cup_Dice: 0.6409\n",
            "learning rate: 0.0001\n"
          ]
        },
        {
          "output_type": "stream",
          "name": "stderr",
          "text": [
            "Epoch 100/400: 100%|██████████| 125/125 [01:27<00:00,  1.43it/s, loss=0.043]\n"
          ]
        },
        {
          "output_type": "stream",
          "name": "stdout",
          "text": [
            "     OD_Dice: 0.5927,     cup_Dice: 0.6306\n",
            " max_OD_Dice: 0.6780,     cup_Dice: 0.6409\n",
            "     OD_Dice: 0.6780, max_cup_Dice: 0.6409\n",
            "learning rate: 0.0001\n"
          ]
        },
        {
          "output_type": "stream",
          "name": "stderr",
          "text": [
            "Epoch 101/400: 100%|██████████| 125/125 [01:27<00:00,  1.43it/s, loss=0.045]\n"
          ]
        },
        {
          "output_type": "stream",
          "name": "stdout",
          "text": [
            "     OD_Dice: 0.4380,     cup_Dice: 0.5721\n",
            " max_OD_Dice: 0.6780,     cup_Dice: 0.6409\n",
            "     OD_Dice: 0.6780, max_cup_Dice: 0.6409\n",
            "learning rate: 0.0001\n"
          ]
        },
        {
          "output_type": "stream",
          "name": "stderr",
          "text": [
            "Epoch 102/400: 100%|██████████| 125/125 [01:27<00:00,  1.43it/s, loss=0.039]\n"
          ]
        },
        {
          "output_type": "stream",
          "name": "stdout",
          "text": [
            "     OD_Dice: 0.4723,     cup_Dice: 0.6208\n",
            " max_OD_Dice: 0.6780,     cup_Dice: 0.6409\n",
            "     OD_Dice: 0.6780, max_cup_Dice: 0.6409\n",
            "learning rate: 0.0001\n"
          ]
        },
        {
          "output_type": "stream",
          "name": "stderr",
          "text": [
            "Epoch 103/400: 100%|██████████| 125/125 [01:27<00:00,  1.42it/s, loss=0.055]\n"
          ]
        },
        {
          "output_type": "stream",
          "name": "stdout",
          "text": [
            "     OD_Dice: 0.5688,     cup_Dice: 0.6173\n",
            " max_OD_Dice: 0.6780,     cup_Dice: 0.6409\n",
            "     OD_Dice: 0.6780, max_cup_Dice: 0.6409\n",
            "learning rate: 0.0001\n"
          ]
        },
        {
          "output_type": "stream",
          "name": "stderr",
          "text": [
            "Epoch 104/400: 100%|██████████| 125/125 [01:27<00:00,  1.42it/s, loss=0.047]\n"
          ]
        },
        {
          "output_type": "stream",
          "name": "stdout",
          "text": [
            "     OD_Dice: 0.5956,     cup_Dice: 0.6407\n",
            " max_OD_Dice: 0.6780,     cup_Dice: 0.6409\n",
            "     OD_Dice: 0.6780, max_cup_Dice: 0.6409\n",
            "learning rate: 0.0001\n"
          ]
        },
        {
          "output_type": "stream",
          "name": "stderr",
          "text": [
            "Epoch 105/400: 100%|██████████| 125/125 [01:27<00:00,  1.42it/s, loss=0.046]\n"
          ]
        },
        {
          "output_type": "stream",
          "name": "stdout",
          "text": [
            "     OD_Dice: 0.6074,     cup_Dice: 0.6479\n",
            " max_OD_Dice: 0.6780,     cup_Dice: 0.6409\n",
            "     OD_Dice: 0.6074, max_cup_Dice: 0.6479\n",
            "learning rate: 0.0001\n"
          ]
        },
        {
          "output_type": "stream",
          "name": "stderr",
          "text": [
            "Epoch 106/400: 100%|██████████| 125/125 [01:27<00:00,  1.42it/s, loss=0.041]\n"
          ]
        },
        {
          "output_type": "stream",
          "name": "stdout",
          "text": [
            "     OD_Dice: 0.5887,     cup_Dice: 0.6493\n",
            " max_OD_Dice: 0.6780,     cup_Dice: 0.6409\n",
            "     OD_Dice: 0.5887, max_cup_Dice: 0.6493\n",
            "learning rate: 0.0001\n"
          ]
        },
        {
          "output_type": "stream",
          "name": "stderr",
          "text": [
            "Epoch 107/400: 100%|██████████| 125/125 [01:27<00:00,  1.43it/s, loss=0.040]\n"
          ]
        },
        {
          "output_type": "stream",
          "name": "stdout",
          "text": [
            "     OD_Dice: 0.6994,     cup_Dice: 0.6673\n",
            " max_OD_Dice: 0.6994,     cup_Dice: 0.6673\n",
            "     OD_Dice: 0.6994, max_cup_Dice: 0.6673\n",
            "learning rate: 0.0001\n"
          ]
        },
        {
          "output_type": "stream",
          "name": "stderr",
          "text": [
            "Epoch 108/400: 100%|██████████| 125/125 [01:27<00:00,  1.43it/s, loss=0.040]\n"
          ]
        },
        {
          "output_type": "stream",
          "name": "stdout",
          "text": [
            "     OD_Dice: 0.7663,     cup_Dice: 0.6850\n",
            " max_OD_Dice: 0.7663,     cup_Dice: 0.6850\n",
            "     OD_Dice: 0.7663, max_cup_Dice: 0.6850\n",
            "learning rate: 0.0001\n"
          ]
        },
        {
          "output_type": "stream",
          "name": "stderr",
          "text": [
            "Epoch 109/400: 100%|██████████| 125/125 [01:27<00:00,  1.42it/s, loss=0.038]\n"
          ]
        },
        {
          "output_type": "stream",
          "name": "stdout",
          "text": [
            "     OD_Dice: 0.6559,     cup_Dice: 0.6636\n",
            " max_OD_Dice: 0.7663,     cup_Dice: 0.6850\n",
            "     OD_Dice: 0.7663, max_cup_Dice: 0.6850\n",
            "learning rate: 0.0001\n"
          ]
        },
        {
          "output_type": "stream",
          "name": "stderr",
          "text": [
            "Epoch 110/400: 100%|██████████| 125/125 [01:27<00:00,  1.43it/s, loss=0.036]\n"
          ]
        },
        {
          "output_type": "stream",
          "name": "stdout",
          "text": [
            "     OD_Dice: 0.5755,     cup_Dice: 0.6475\n",
            " max_OD_Dice: 0.7663,     cup_Dice: 0.6850\n",
            "     OD_Dice: 0.7663, max_cup_Dice: 0.6850\n",
            "learning rate: 0.0001\n"
          ]
        },
        {
          "output_type": "stream",
          "name": "stderr",
          "text": [
            "Epoch 111/400: 100%|██████████| 125/125 [01:27<00:00,  1.43it/s, loss=0.035]\n"
          ]
        },
        {
          "output_type": "stream",
          "name": "stdout",
          "text": [
            "     OD_Dice: 0.6443,     cup_Dice: 0.6850\n",
            " max_OD_Dice: 0.7663,     cup_Dice: 0.6850\n",
            "     OD_Dice: 0.6443, max_cup_Dice: 0.6850\n",
            "learning rate: 0.0001\n"
          ]
        },
        {
          "output_type": "stream",
          "name": "stderr",
          "text": [
            "Epoch 112/400: 100%|██████████| 125/125 [01:27<00:00,  1.42it/s, loss=0.038]\n"
          ]
        },
        {
          "output_type": "stream",
          "name": "stdout",
          "text": [
            "     OD_Dice: 0.6789,     cup_Dice: 0.6794\n",
            " max_OD_Dice: 0.7663,     cup_Dice: 0.6850\n",
            "     OD_Dice: 0.6443, max_cup_Dice: 0.6850\n",
            "learning rate: 0.0001\n"
          ]
        },
        {
          "output_type": "stream",
          "name": "stderr",
          "text": [
            "Epoch 113/400: 100%|██████████| 125/125 [01:27<00:00,  1.43it/s, loss=0.036]\n"
          ]
        },
        {
          "output_type": "stream",
          "name": "stdout",
          "text": [
            "     OD_Dice: 0.6685,     cup_Dice: 0.6931\n",
            " max_OD_Dice: 0.7663,     cup_Dice: 0.6850\n",
            "     OD_Dice: 0.6685, max_cup_Dice: 0.6931\n",
            "learning rate: 0.0001\n"
          ]
        },
        {
          "output_type": "stream",
          "name": "stderr",
          "text": [
            "Epoch 114/400: 100%|██████████| 125/125 [01:27<00:00,  1.43it/s, loss=0.041]\n"
          ]
        },
        {
          "output_type": "stream",
          "name": "stdout",
          "text": [
            "     OD_Dice: 0.6397,     cup_Dice: 0.6459\n",
            " max_OD_Dice: 0.7663,     cup_Dice: 0.6850\n",
            "     OD_Dice: 0.6685, max_cup_Dice: 0.6931\n",
            "learning rate: 0.0001\n"
          ]
        },
        {
          "output_type": "stream",
          "name": "stderr",
          "text": [
            "Epoch 115/400: 100%|██████████| 125/125 [01:27<00:00,  1.42it/s, loss=0.034]\n"
          ]
        },
        {
          "output_type": "stream",
          "name": "stdout",
          "text": [
            "     OD_Dice: 0.6761,     cup_Dice: 0.6827\n",
            " max_OD_Dice: 0.7663,     cup_Dice: 0.6850\n",
            "     OD_Dice: 0.6685, max_cup_Dice: 0.6931\n",
            "learning rate: 0.0001\n"
          ]
        },
        {
          "output_type": "stream",
          "name": "stderr",
          "text": [
            "Epoch 116/400: 100%|██████████| 125/125 [01:27<00:00,  1.42it/s, loss=0.037]\n"
          ]
        },
        {
          "output_type": "stream",
          "name": "stdout",
          "text": [
            "     OD_Dice: 0.6470,     cup_Dice: 0.6756\n",
            " max_OD_Dice: 0.7663,     cup_Dice: 0.6850\n",
            "     OD_Dice: 0.6685, max_cup_Dice: 0.6931\n",
            "learning rate: 0.0001\n"
          ]
        },
        {
          "output_type": "stream",
          "name": "stderr",
          "text": [
            "Epoch 117/400: 100%|██████████| 125/125 [01:27<00:00,  1.42it/s, loss=0.035]\n"
          ]
        },
        {
          "output_type": "stream",
          "name": "stdout",
          "text": [
            "     OD_Dice: 0.5535,     cup_Dice: 0.6740\n",
            " max_OD_Dice: 0.7663,     cup_Dice: 0.6850\n",
            "     OD_Dice: 0.6685, max_cup_Dice: 0.6931\n",
            "learning rate: 0.0001\n"
          ]
        },
        {
          "output_type": "stream",
          "name": "stderr",
          "text": [
            "Epoch 118/400: 100%|██████████| 125/125 [01:27<00:00,  1.43it/s, loss=0.032]\n"
          ]
        },
        {
          "output_type": "stream",
          "name": "stdout",
          "text": [
            "     OD_Dice: 0.7233,     cup_Dice: 0.7014\n",
            " max_OD_Dice: 0.7663,     cup_Dice: 0.6850\n",
            "     OD_Dice: 0.7233, max_cup_Dice: 0.7014\n",
            "learning rate: 0.0001\n"
          ]
        },
        {
          "output_type": "stream",
          "name": "stderr",
          "text": [
            "Epoch 119/400: 100%|██████████| 125/125 [01:27<00:00,  1.42it/s, loss=0.031]\n"
          ]
        },
        {
          "output_type": "stream",
          "name": "stdout",
          "text": [
            "     OD_Dice: 0.6047,     cup_Dice: 0.6824\n",
            " max_OD_Dice: 0.7663,     cup_Dice: 0.6850\n",
            "     OD_Dice: 0.7233, max_cup_Dice: 0.7014\n",
            "learning rate: 0.0001\n"
          ]
        },
        {
          "output_type": "stream",
          "name": "stderr",
          "text": [
            "Epoch 120/400: 100%|██████████| 125/125 [01:27<00:00,  1.42it/s, loss=0.034]\n"
          ]
        },
        {
          "output_type": "stream",
          "name": "stdout",
          "text": [
            "     OD_Dice: 0.6221,     cup_Dice: 0.6897\n",
            " max_OD_Dice: 0.7663,     cup_Dice: 0.6850\n",
            "     OD_Dice: 0.7233, max_cup_Dice: 0.7014\n",
            "learning rate: 0.0001\n"
          ]
        },
        {
          "output_type": "stream",
          "name": "stderr",
          "text": [
            "Epoch 121/400: 100%|██████████| 125/125 [01:27<00:00,  1.42it/s, loss=0.031]\n"
          ]
        },
        {
          "output_type": "stream",
          "name": "stdout",
          "text": [
            "     OD_Dice: 0.6002,     cup_Dice: 0.6761\n",
            " max_OD_Dice: 0.7663,     cup_Dice: 0.6850\n",
            "     OD_Dice: 0.7233, max_cup_Dice: 0.7014\n",
            "learning rate: 0.0001\n"
          ]
        },
        {
          "output_type": "stream",
          "name": "stderr",
          "text": [
            "Epoch 122/400: 100%|██████████| 125/125 [01:27<00:00,  1.43it/s, loss=0.030]\n"
          ]
        },
        {
          "output_type": "stream",
          "name": "stdout",
          "text": [
            "     OD_Dice: 0.6671,     cup_Dice: 0.6925\n",
            " max_OD_Dice: 0.7663,     cup_Dice: 0.6850\n",
            "     OD_Dice: 0.7233, max_cup_Dice: 0.7014\n",
            "learning rate: 0.0001\n"
          ]
        },
        {
          "output_type": "stream",
          "name": "stderr",
          "text": [
            "Epoch 123/400: 100%|██████████| 125/125 [01:27<00:00,  1.42it/s, loss=0.032]\n"
          ]
        },
        {
          "output_type": "stream",
          "name": "stdout",
          "text": [
            "     OD_Dice: 0.5638,     cup_Dice: 0.6951\n",
            " max_OD_Dice: 0.7663,     cup_Dice: 0.6850\n",
            "     OD_Dice: 0.7233, max_cup_Dice: 0.7014\n",
            "learning rate: 0.0001\n"
          ]
        },
        {
          "output_type": "stream",
          "name": "stderr",
          "text": [
            "Epoch 124/400: 100%|██████████| 125/125 [01:27<00:00,  1.43it/s, loss=0.032]\n"
          ]
        },
        {
          "output_type": "stream",
          "name": "stdout",
          "text": [
            "     OD_Dice: 0.6607,     cup_Dice: 0.7138\n",
            " max_OD_Dice: 0.7663,     cup_Dice: 0.6850\n",
            "     OD_Dice: 0.6607, max_cup_Dice: 0.7138\n",
            "learning rate: 0.0001\n"
          ]
        },
        {
          "output_type": "stream",
          "name": "stderr",
          "text": [
            "Epoch 125/400: 100%|██████████| 125/125 [01:27<00:00,  1.43it/s, loss=0.031]\n"
          ]
        },
        {
          "output_type": "stream",
          "name": "stdout",
          "text": [
            "     OD_Dice: 0.5093,     cup_Dice: 0.7060\n",
            " max_OD_Dice: 0.7663,     cup_Dice: 0.6850\n",
            "     OD_Dice: 0.6607, max_cup_Dice: 0.7138\n",
            "learning rate: 0.0001\n"
          ]
        },
        {
          "output_type": "stream",
          "name": "stderr",
          "text": [
            "Epoch 126/400: 100%|██████████| 125/125 [01:27<00:00,  1.42it/s, loss=0.032]\n"
          ]
        },
        {
          "output_type": "stream",
          "name": "stdout",
          "text": [
            "     OD_Dice: 0.7265,     cup_Dice: 0.7151\n",
            " max_OD_Dice: 0.7663,     cup_Dice: 0.6850\n",
            "     OD_Dice: 0.7265, max_cup_Dice: 0.7151\n",
            "learning rate: 0.0001\n"
          ]
        },
        {
          "output_type": "stream",
          "name": "stderr",
          "text": [
            "Epoch 127/400: 100%|██████████| 125/125 [01:27<00:00,  1.42it/s, loss=0.032]\n"
          ]
        },
        {
          "output_type": "stream",
          "name": "stdout",
          "text": [
            "     OD_Dice: 0.7082,     cup_Dice: 0.7356\n",
            " max_OD_Dice: 0.7663,     cup_Dice: 0.6850\n",
            "     OD_Dice: 0.7082, max_cup_Dice: 0.7356\n",
            "learning rate: 0.0001\n"
          ]
        },
        {
          "output_type": "stream",
          "name": "stderr",
          "text": [
            "Epoch 128/400: 100%|██████████| 125/125 [01:27<00:00,  1.42it/s, loss=0.032]\n"
          ]
        },
        {
          "output_type": "stream",
          "name": "stdout",
          "text": [
            "     OD_Dice: 0.6238,     cup_Dice: 0.6908\n",
            " max_OD_Dice: 0.7663,     cup_Dice: 0.6850\n",
            "     OD_Dice: 0.7082, max_cup_Dice: 0.7356\n",
            "learning rate: 0.0001\n"
          ]
        },
        {
          "output_type": "stream",
          "name": "stderr",
          "text": [
            "Epoch 129/400: 100%|██████████| 125/125 [01:27<00:00,  1.42it/s, loss=0.034]\n"
          ]
        },
        {
          "output_type": "stream",
          "name": "stdout",
          "text": [
            "     OD_Dice: 0.6799,     cup_Dice: 0.6935\n",
            " max_OD_Dice: 0.7663,     cup_Dice: 0.6850\n",
            "     OD_Dice: 0.7082, max_cup_Dice: 0.7356\n",
            "learning rate: 0.0001\n"
          ]
        },
        {
          "output_type": "stream",
          "name": "stderr",
          "text": [
            "Epoch 130/400: 100%|██████████| 125/125 [01:27<00:00,  1.42it/s, loss=0.030]\n"
          ]
        },
        {
          "output_type": "stream",
          "name": "stdout",
          "text": [
            "     OD_Dice: 0.6780,     cup_Dice: 0.7060\n",
            " max_OD_Dice: 0.7663,     cup_Dice: 0.6850\n",
            "     OD_Dice: 0.7082, max_cup_Dice: 0.7356\n",
            "learning rate: 0.0001\n"
          ]
        },
        {
          "output_type": "stream",
          "name": "stderr",
          "text": [
            "Epoch 131/400: 100%|██████████| 125/125 [01:27<00:00,  1.42it/s, loss=0.029]\n"
          ]
        },
        {
          "output_type": "stream",
          "name": "stdout",
          "text": [
            "     OD_Dice: 0.6856,     cup_Dice: 0.7095\n",
            " max_OD_Dice: 0.7663,     cup_Dice: 0.6850\n",
            "     OD_Dice: 0.7082, max_cup_Dice: 0.7356\n",
            "learning rate: 0.0001\n"
          ]
        },
        {
          "output_type": "stream",
          "name": "stderr",
          "text": [
            "Epoch 132/400: 100%|██████████| 125/125 [01:27<00:00,  1.42it/s, loss=0.032]\n"
          ]
        },
        {
          "output_type": "stream",
          "name": "stdout",
          "text": [
            "     OD_Dice: 0.6831,     cup_Dice: 0.7164\n",
            " max_OD_Dice: 0.7663,     cup_Dice: 0.6850\n",
            "     OD_Dice: 0.7082, max_cup_Dice: 0.7356\n",
            "learning rate: 0.0001\n"
          ]
        },
        {
          "output_type": "stream",
          "name": "stderr",
          "text": [
            "Epoch 133/400: 100%|██████████| 125/125 [01:27<00:00,  1.42it/s, loss=0.029]\n"
          ]
        },
        {
          "output_type": "stream",
          "name": "stdout",
          "text": [
            "     OD_Dice: 0.6293,     cup_Dice: 0.7133\n",
            " max_OD_Dice: 0.7663,     cup_Dice: 0.6850\n",
            "     OD_Dice: 0.7082, max_cup_Dice: 0.7356\n",
            "learning rate: 0.0001\n"
          ]
        },
        {
          "output_type": "stream",
          "name": "stderr",
          "text": [
            "Epoch 134/400: 100%|██████████| 125/125 [01:27<00:00,  1.42it/s, loss=0.029]\n"
          ]
        },
        {
          "output_type": "stream",
          "name": "stdout",
          "text": [
            "     OD_Dice: 0.6711,     cup_Dice: 0.6944\n",
            " max_OD_Dice: 0.7663,     cup_Dice: 0.6850\n",
            "     OD_Dice: 0.7082, max_cup_Dice: 0.7356\n",
            "learning rate: 0.0001\n"
          ]
        },
        {
          "output_type": "stream",
          "name": "stderr",
          "text": [
            "Epoch 135/400: 100%|██████████| 125/125 [01:27<00:00,  1.42it/s, loss=0.028]\n"
          ]
        },
        {
          "output_type": "stream",
          "name": "stdout",
          "text": [
            "     OD_Dice: 0.7061,     cup_Dice: 0.7356\n",
            " max_OD_Dice: 0.7663,     cup_Dice: 0.6850\n",
            "     OD_Dice: 0.7061, max_cup_Dice: 0.7356\n",
            "learning rate: 0.0001\n"
          ]
        },
        {
          "output_type": "stream",
          "name": "stderr",
          "text": [
            "Epoch 136/400: 100%|██████████| 125/125 [01:27<00:00,  1.42it/s, loss=0.028]\n"
          ]
        },
        {
          "output_type": "stream",
          "name": "stdout",
          "text": [
            "     OD_Dice: 0.6284,     cup_Dice: 0.7065\n",
            " max_OD_Dice: 0.7663,     cup_Dice: 0.6850\n",
            "     OD_Dice: 0.7061, max_cup_Dice: 0.7356\n",
            "learning rate: 0.0001\n"
          ]
        },
        {
          "output_type": "stream",
          "name": "stderr",
          "text": [
            "Epoch 137/400: 100%|██████████| 125/125 [01:27<00:00,  1.42it/s, loss=0.027]\n"
          ]
        },
        {
          "output_type": "stream",
          "name": "stdout",
          "text": [
            "     OD_Dice: 0.7696,     cup_Dice: 0.7163\n",
            " max_OD_Dice: 0.7696,     cup_Dice: 0.7163\n",
            "     OD_Dice: 0.7061, max_cup_Dice: 0.7356\n",
            "learning rate: 0.0001\n"
          ]
        },
        {
          "output_type": "stream",
          "name": "stderr",
          "text": [
            "Epoch 138/400: 100%|██████████| 125/125 [01:27<00:00,  1.43it/s, loss=0.025]\n"
          ]
        },
        {
          "output_type": "stream",
          "name": "stdout",
          "text": [
            "     OD_Dice: 0.7366,     cup_Dice: 0.7327\n",
            " max_OD_Dice: 0.7696,     cup_Dice: 0.7163\n",
            "     OD_Dice: 0.7061, max_cup_Dice: 0.7356\n",
            "learning rate: 0.0001\n"
          ]
        },
        {
          "output_type": "stream",
          "name": "stderr",
          "text": [
            "Epoch 139/400: 100%|██████████| 125/125 [01:27<00:00,  1.42it/s, loss=0.026]\n"
          ]
        },
        {
          "output_type": "stream",
          "name": "stdout",
          "text": [
            "     OD_Dice: 0.7768,     cup_Dice: 0.7189\n",
            " max_OD_Dice: 0.7768,     cup_Dice: 0.7189\n",
            "     OD_Dice: 0.7061, max_cup_Dice: 0.7356\n",
            "learning rate: 0.0001\n"
          ]
        },
        {
          "output_type": "stream",
          "name": "stderr",
          "text": [
            "Epoch 140/400: 100%|██████████| 125/125 [01:27<00:00,  1.42it/s, loss=0.025]\n"
          ]
        },
        {
          "output_type": "stream",
          "name": "stdout",
          "text": [
            "     OD_Dice: 0.7999,     cup_Dice: 0.7324\n",
            " max_OD_Dice: 0.7999,     cup_Dice: 0.7324\n",
            "     OD_Dice: 0.7061, max_cup_Dice: 0.7356\n",
            "learning rate: 0.0001\n"
          ]
        },
        {
          "output_type": "stream",
          "name": "stderr",
          "text": [
            "Epoch 141/400: 100%|██████████| 125/125 [01:27<00:00,  1.42it/s, loss=0.028]\n"
          ]
        },
        {
          "output_type": "stream",
          "name": "stdout",
          "text": [
            "     OD_Dice: 0.6631,     cup_Dice: 0.7422\n",
            " max_OD_Dice: 0.7999,     cup_Dice: 0.7324\n",
            "     OD_Dice: 0.6631, max_cup_Dice: 0.7422\n",
            "learning rate: 0.0001\n"
          ]
        },
        {
          "output_type": "stream",
          "name": "stderr",
          "text": [
            "Epoch 142/400: 100%|██████████| 125/125 [01:27<00:00,  1.42it/s, loss=0.030]\n"
          ]
        },
        {
          "output_type": "stream",
          "name": "stdout",
          "text": [
            "     OD_Dice: 0.6605,     cup_Dice: 0.7274\n",
            " max_OD_Dice: 0.7999,     cup_Dice: 0.7324\n",
            "     OD_Dice: 0.6631, max_cup_Dice: 0.7422\n",
            "learning rate: 0.0001\n"
          ]
        },
        {
          "output_type": "stream",
          "name": "stderr",
          "text": [
            "Epoch 143/400: 100%|██████████| 125/125 [01:27<00:00,  1.42it/s, loss=0.030]\n"
          ]
        },
        {
          "output_type": "stream",
          "name": "stdout",
          "text": [
            "     OD_Dice: 0.7036,     cup_Dice: 0.7265\n",
            " max_OD_Dice: 0.7999,     cup_Dice: 0.7324\n",
            "     OD_Dice: 0.6631, max_cup_Dice: 0.7422\n",
            "learning rate: 0.0001\n"
          ]
        },
        {
          "output_type": "stream",
          "name": "stderr",
          "text": [
            "Epoch 144/400: 100%|██████████| 125/125 [01:27<00:00,  1.42it/s, loss=0.028]\n"
          ]
        },
        {
          "output_type": "stream",
          "name": "stdout",
          "text": [
            "     OD_Dice: 0.7511,     cup_Dice: 0.7118\n",
            " max_OD_Dice: 0.7999,     cup_Dice: 0.7324\n",
            "     OD_Dice: 0.6631, max_cup_Dice: 0.7422\n",
            "learning rate: 0.0001\n"
          ]
        },
        {
          "output_type": "stream",
          "name": "stderr",
          "text": [
            "Epoch 145/400: 100%|██████████| 125/125 [01:27<00:00,  1.42it/s, loss=0.025]\n"
          ]
        },
        {
          "output_type": "stream",
          "name": "stdout",
          "text": [
            "     OD_Dice: 0.7424,     cup_Dice: 0.7260\n",
            " max_OD_Dice: 0.7999,     cup_Dice: 0.7324\n",
            "     OD_Dice: 0.6631, max_cup_Dice: 0.7422\n",
            "learning rate: 0.0001\n"
          ]
        },
        {
          "output_type": "stream",
          "name": "stderr",
          "text": [
            "Epoch 146/400: 100%|██████████| 125/125 [01:27<00:00,  1.42it/s, loss=0.029]\n"
          ]
        },
        {
          "output_type": "stream",
          "name": "stdout",
          "text": [
            "     OD_Dice: 0.7448,     cup_Dice: 0.7240\n",
            " max_OD_Dice: 0.7999,     cup_Dice: 0.7324\n",
            "     OD_Dice: 0.6631, max_cup_Dice: 0.7422\n",
            "learning rate: 0.0001\n"
          ]
        },
        {
          "output_type": "stream",
          "name": "stderr",
          "text": [
            "Epoch 147/400: 100%|██████████| 125/125 [01:27<00:00,  1.42it/s, loss=0.025]\n"
          ]
        },
        {
          "output_type": "stream",
          "name": "stdout",
          "text": [
            "     OD_Dice: 0.7537,     cup_Dice: 0.7360\n",
            " max_OD_Dice: 0.7999,     cup_Dice: 0.7324\n",
            "     OD_Dice: 0.6631, max_cup_Dice: 0.7422\n",
            "learning rate: 0.0001\n"
          ]
        },
        {
          "output_type": "stream",
          "name": "stderr",
          "text": [
            "Epoch 148/400: 100%|██████████| 125/125 [01:27<00:00,  1.42it/s, loss=0.025]\n"
          ]
        },
        {
          "output_type": "stream",
          "name": "stdout",
          "text": [
            "     OD_Dice: 0.7835,     cup_Dice: 0.7526\n",
            " max_OD_Dice: 0.7999,     cup_Dice: 0.7324\n",
            "     OD_Dice: 0.7835, max_cup_Dice: 0.7526\n",
            "learning rate: 0.0001\n"
          ]
        },
        {
          "output_type": "stream",
          "name": "stderr",
          "text": [
            "Epoch 149/400: 100%|██████████| 125/125 [01:27<00:00,  1.42it/s, loss=0.026]\n"
          ]
        },
        {
          "output_type": "stream",
          "name": "stdout",
          "text": [
            "     OD_Dice: 0.7331,     cup_Dice: 0.7396\n",
            " max_OD_Dice: 0.7999,     cup_Dice: 0.7324\n",
            "     OD_Dice: 0.7835, max_cup_Dice: 0.7526\n",
            "learning rate: 0.0001\n"
          ]
        },
        {
          "output_type": "stream",
          "name": "stderr",
          "text": [
            "Epoch 150/400: 100%|██████████| 125/125 [01:27<00:00,  1.42it/s, loss=0.024]\n"
          ]
        },
        {
          "output_type": "stream",
          "name": "stdout",
          "text": [
            "     OD_Dice: 0.7572,     cup_Dice: 0.7537\n",
            " max_OD_Dice: 0.7999,     cup_Dice: 0.7324\n",
            "     OD_Dice: 0.7572, max_cup_Dice: 0.7537\n",
            "learning rate: 0.0001\n"
          ]
        },
        {
          "output_type": "stream",
          "name": "stderr",
          "text": [
            "Epoch 151/400: 100%|██████████| 125/125 [01:27<00:00,  1.42it/s, loss=0.024]\n"
          ]
        },
        {
          "output_type": "stream",
          "name": "stdout",
          "text": [
            "     OD_Dice: 0.7028,     cup_Dice: 0.7550\n",
            " max_OD_Dice: 0.7999,     cup_Dice: 0.7324\n",
            "     OD_Dice: 0.7028, max_cup_Dice: 0.7550\n",
            "learning rate: 0.0001\n"
          ]
        },
        {
          "output_type": "stream",
          "name": "stderr",
          "text": [
            "Epoch 152/400: 100%|██████████| 125/125 [01:27<00:00,  1.42it/s, loss=0.024]\n"
          ]
        },
        {
          "output_type": "stream",
          "name": "stdout",
          "text": [
            "     OD_Dice: 0.8079,     cup_Dice: 0.7509\n",
            " max_OD_Dice: 0.8079,     cup_Dice: 0.7509\n",
            "     OD_Dice: 0.7028, max_cup_Dice: 0.7550\n",
            "learning rate: 0.0001\n"
          ]
        },
        {
          "output_type": "stream",
          "name": "stderr",
          "text": [
            "Epoch 153/400: 100%|██████████| 125/125 [01:27<00:00,  1.42it/s, loss=0.024]\n"
          ]
        },
        {
          "output_type": "stream",
          "name": "stdout",
          "text": [
            "     OD_Dice: 0.7308,     cup_Dice: 0.7370\n",
            " max_OD_Dice: 0.8079,     cup_Dice: 0.7509\n",
            "     OD_Dice: 0.7028, max_cup_Dice: 0.7550\n",
            "learning rate: 0.0001\n"
          ]
        },
        {
          "output_type": "stream",
          "name": "stderr",
          "text": [
            "Epoch 154/400: 100%|██████████| 125/125 [01:27<00:00,  1.43it/s, loss=0.026]\n"
          ]
        },
        {
          "output_type": "stream",
          "name": "stdout",
          "text": [
            "     OD_Dice: 0.7510,     cup_Dice: 0.7633\n",
            " max_OD_Dice: 0.8079,     cup_Dice: 0.7509\n",
            "     OD_Dice: 0.7510, max_cup_Dice: 0.7633\n",
            "learning rate: 0.0001\n"
          ]
        },
        {
          "output_type": "stream",
          "name": "stderr",
          "text": [
            "Epoch 155/400: 100%|██████████| 125/125 [01:27<00:00,  1.42it/s, loss=0.023]\n"
          ]
        },
        {
          "output_type": "stream",
          "name": "stdout",
          "text": [
            "     OD_Dice: 0.7948,     cup_Dice: 0.7432\n",
            " max_OD_Dice: 0.8079,     cup_Dice: 0.7509\n",
            "     OD_Dice: 0.7510, max_cup_Dice: 0.7633\n",
            "learning rate: 0.0001\n"
          ]
        },
        {
          "output_type": "stream",
          "name": "stderr",
          "text": [
            "Epoch 156/400: 100%|██████████| 125/125 [01:27<00:00,  1.42it/s, loss=0.029]\n"
          ]
        },
        {
          "output_type": "stream",
          "name": "stdout",
          "text": [
            "     OD_Dice: 0.7637,     cup_Dice: 0.7559\n",
            " max_OD_Dice: 0.8079,     cup_Dice: 0.7509\n",
            "     OD_Dice: 0.7510, max_cup_Dice: 0.7633\n",
            "learning rate: 0.0001\n"
          ]
        },
        {
          "output_type": "stream",
          "name": "stderr",
          "text": [
            "Epoch 157/400: 100%|██████████| 125/125 [01:27<00:00,  1.42it/s, loss=0.024]\n"
          ]
        },
        {
          "output_type": "stream",
          "name": "stdout",
          "text": [
            "     OD_Dice: 0.7492,     cup_Dice: 0.7632\n",
            " max_OD_Dice: 0.8079,     cup_Dice: 0.7509\n",
            "     OD_Dice: 0.7510, max_cup_Dice: 0.7633\n",
            "learning rate: 0.0001\n"
          ]
        },
        {
          "output_type": "stream",
          "name": "stderr",
          "text": [
            "Epoch 158/400: 100%|██████████| 125/125 [01:27<00:00,  1.42it/s, loss=0.022]\n"
          ]
        },
        {
          "output_type": "stream",
          "name": "stdout",
          "text": [
            "     OD_Dice: 0.7844,     cup_Dice: 0.7759\n",
            " max_OD_Dice: 0.8079,     cup_Dice: 0.7509\n",
            "     OD_Dice: 0.7844, max_cup_Dice: 0.7759\n",
            "learning rate: 0.0001\n"
          ]
        },
        {
          "output_type": "stream",
          "name": "stderr",
          "text": [
            "Epoch 159/400: 100%|██████████| 125/125 [01:27<00:00,  1.42it/s, loss=0.023]\n"
          ]
        },
        {
          "output_type": "stream",
          "name": "stdout",
          "text": [
            "     OD_Dice: 0.7837,     cup_Dice: 0.7564\n",
            " max_OD_Dice: 0.8079,     cup_Dice: 0.7509\n",
            "     OD_Dice: 0.7844, max_cup_Dice: 0.7759\n",
            "learning rate: 0.0001\n"
          ]
        },
        {
          "output_type": "stream",
          "name": "stderr",
          "text": [
            "Epoch 160/400: 100%|██████████| 125/125 [01:27<00:00,  1.42it/s, loss=0.024]\n"
          ]
        },
        {
          "output_type": "stream",
          "name": "stdout",
          "text": [
            "     OD_Dice: 0.7641,     cup_Dice: 0.7743\n",
            " max_OD_Dice: 0.8079,     cup_Dice: 0.7509\n",
            "     OD_Dice: 0.7844, max_cup_Dice: 0.7759\n",
            "learning rate: 0.0001\n"
          ]
        },
        {
          "output_type": "stream",
          "name": "stderr",
          "text": [
            "Epoch 161/400: 100%|██████████| 125/125 [01:27<00:00,  1.42it/s, loss=0.023]\n"
          ]
        },
        {
          "output_type": "stream",
          "name": "stdout",
          "text": [
            "     OD_Dice: 0.8342,     cup_Dice: 0.7782\n",
            " max_OD_Dice: 0.8342,     cup_Dice: 0.7782\n",
            "     OD_Dice: 0.8342, max_cup_Dice: 0.7782\n",
            "learning rate: 0.0001\n"
          ]
        },
        {
          "output_type": "stream",
          "name": "stderr",
          "text": [
            "Epoch 162/400: 100%|██████████| 125/125 [01:27<00:00,  1.42it/s, loss=0.025]\n"
          ]
        },
        {
          "output_type": "stream",
          "name": "stdout",
          "text": [
            "     OD_Dice: 0.7563,     cup_Dice: 0.7508\n",
            " max_OD_Dice: 0.8342,     cup_Dice: 0.7782\n",
            "     OD_Dice: 0.8342, max_cup_Dice: 0.7782\n",
            "learning rate: 0.0001\n"
          ]
        },
        {
          "output_type": "stream",
          "name": "stderr",
          "text": [
            "Epoch 163/400: 100%|██████████| 125/125 [01:27<00:00,  1.42it/s, loss=0.023]\n"
          ]
        },
        {
          "output_type": "stream",
          "name": "stdout",
          "text": [
            "     OD_Dice: 0.8257,     cup_Dice: 0.7650\n",
            " max_OD_Dice: 0.8342,     cup_Dice: 0.7782\n",
            "     OD_Dice: 0.8342, max_cup_Dice: 0.7782\n",
            "learning rate: 0.0001\n"
          ]
        },
        {
          "output_type": "stream",
          "name": "stderr",
          "text": [
            "Epoch 164/400: 100%|██████████| 125/125 [01:27<00:00,  1.42it/s, loss=0.021]\n"
          ]
        },
        {
          "output_type": "stream",
          "name": "stdout",
          "text": [
            "     OD_Dice: 0.7657,     cup_Dice: 0.7753\n",
            " max_OD_Dice: 0.8342,     cup_Dice: 0.7782\n",
            "     OD_Dice: 0.8342, max_cup_Dice: 0.7782\n",
            "learning rate: 0.0001\n"
          ]
        },
        {
          "output_type": "stream",
          "name": "stderr",
          "text": [
            "Epoch 165/400: 100%|██████████| 125/125 [01:27<00:00,  1.42it/s, loss=0.023]\n"
          ]
        },
        {
          "output_type": "stream",
          "name": "stdout",
          "text": [
            "     OD_Dice: 0.7064,     cup_Dice: 0.7887\n",
            " max_OD_Dice: 0.8342,     cup_Dice: 0.7782\n",
            "     OD_Dice: 0.7064, max_cup_Dice: 0.7887\n",
            "learning rate: 0.0001\n"
          ]
        },
        {
          "output_type": "stream",
          "name": "stderr",
          "text": [
            "Epoch 166/400: 100%|██████████| 125/125 [01:27<00:00,  1.42it/s, loss=0.028]\n"
          ]
        },
        {
          "output_type": "stream",
          "name": "stdout",
          "text": [
            "     OD_Dice: 0.6370,     cup_Dice: 0.7548\n",
            " max_OD_Dice: 0.8342,     cup_Dice: 0.7782\n",
            "     OD_Dice: 0.7064, max_cup_Dice: 0.7887\n",
            "learning rate: 0.0001\n"
          ]
        },
        {
          "output_type": "stream",
          "name": "stderr",
          "text": [
            "Epoch 167/400: 100%|██████████| 125/125 [01:27<00:00,  1.42it/s, loss=0.022]\n"
          ]
        },
        {
          "output_type": "stream",
          "name": "stdout",
          "text": [
            "     OD_Dice: 0.6202,     cup_Dice: 0.7722\n",
            " max_OD_Dice: 0.8342,     cup_Dice: 0.7782\n",
            "     OD_Dice: 0.7064, max_cup_Dice: 0.7887\n",
            "learning rate: 0.0001\n"
          ]
        },
        {
          "output_type": "stream",
          "name": "stderr",
          "text": [
            "Epoch 168/400: 100%|██████████| 125/125 [01:27<00:00,  1.42it/s, loss=0.021]\n"
          ]
        },
        {
          "output_type": "stream",
          "name": "stdout",
          "text": [
            "     OD_Dice: 0.7922,     cup_Dice: 0.7765\n",
            " max_OD_Dice: 0.8342,     cup_Dice: 0.7782\n",
            "     OD_Dice: 0.7064, max_cup_Dice: 0.7887\n",
            "learning rate: 0.0001\n"
          ]
        },
        {
          "output_type": "stream",
          "name": "stderr",
          "text": [
            "Epoch 169/400: 100%|██████████| 125/125 [01:27<00:00,  1.42it/s, loss=0.022]\n"
          ]
        },
        {
          "output_type": "stream",
          "name": "stdout",
          "text": [
            "     OD_Dice: 0.8124,     cup_Dice: 0.7763\n",
            " max_OD_Dice: 0.8342,     cup_Dice: 0.7782\n",
            "     OD_Dice: 0.7064, max_cup_Dice: 0.7887\n",
            "learning rate: 0.0001\n"
          ]
        },
        {
          "output_type": "stream",
          "name": "stderr",
          "text": [
            "Epoch 170/400: 100%|██████████| 125/125 [01:27<00:00,  1.42it/s, loss=0.024]\n"
          ]
        },
        {
          "output_type": "stream",
          "name": "stdout",
          "text": [
            "     OD_Dice: 0.8334,     cup_Dice: 0.7758\n",
            " max_OD_Dice: 0.8342,     cup_Dice: 0.7782\n",
            "     OD_Dice: 0.7064, max_cup_Dice: 0.7887\n",
            "learning rate: 0.0001\n"
          ]
        },
        {
          "output_type": "stream",
          "name": "stderr",
          "text": [
            "Epoch 171/400: 100%|██████████| 125/125 [01:27<00:00,  1.42it/s, loss=0.025]\n"
          ]
        },
        {
          "output_type": "stream",
          "name": "stdout",
          "text": [
            "     OD_Dice: 0.7794,     cup_Dice: 0.7817\n",
            " max_OD_Dice: 0.8342,     cup_Dice: 0.7782\n",
            "     OD_Dice: 0.7064, max_cup_Dice: 0.7887\n",
            "learning rate: 0.0001\n"
          ]
        },
        {
          "output_type": "stream",
          "name": "stderr",
          "text": [
            "Epoch 172/400: 100%|██████████| 125/125 [01:27<00:00,  1.42it/s, loss=0.022]\n"
          ]
        },
        {
          "output_type": "stream",
          "name": "stdout",
          "text": [
            "     OD_Dice: 0.6800,     cup_Dice: 0.7776\n",
            " max_OD_Dice: 0.8342,     cup_Dice: 0.7782\n",
            "     OD_Dice: 0.7064, max_cup_Dice: 0.7887\n",
            "learning rate: 0.0001\n"
          ]
        },
        {
          "output_type": "stream",
          "name": "stderr",
          "text": [
            "Epoch 173/400: 100%|██████████| 125/125 [01:27<00:00,  1.42it/s, loss=0.021]\n"
          ]
        },
        {
          "output_type": "stream",
          "name": "stdout",
          "text": [
            "     OD_Dice: 0.7468,     cup_Dice: 0.7824\n",
            " max_OD_Dice: 0.8342,     cup_Dice: 0.7782\n",
            "     OD_Dice: 0.7064, max_cup_Dice: 0.7887\n",
            "learning rate: 0.0001\n"
          ]
        },
        {
          "output_type": "stream",
          "name": "stderr",
          "text": [
            "Epoch 174/400: 100%|██████████| 125/125 [01:27<00:00,  1.42it/s, loss=0.020]\n"
          ]
        },
        {
          "output_type": "stream",
          "name": "stdout",
          "text": [
            "     OD_Dice: 0.8258,     cup_Dice: 0.8025\n",
            " max_OD_Dice: 0.8342,     cup_Dice: 0.7782\n",
            "     OD_Dice: 0.8258, max_cup_Dice: 0.8025\n",
            "learning rate: 0.0001\n"
          ]
        },
        {
          "output_type": "stream",
          "name": "stderr",
          "text": [
            "Epoch 175/400: 100%|██████████| 125/125 [01:27<00:00,  1.42it/s, loss=0.020]\n"
          ]
        },
        {
          "output_type": "stream",
          "name": "stdout",
          "text": [
            "     OD_Dice: 0.7719,     cup_Dice: 0.7925\n",
            " max_OD_Dice: 0.8342,     cup_Dice: 0.7782\n",
            "     OD_Dice: 0.8258, max_cup_Dice: 0.8025\n",
            "learning rate: 0.0001\n"
          ]
        },
        {
          "output_type": "stream",
          "name": "stderr",
          "text": [
            "Epoch 176/400: 100%|██████████| 125/125 [01:27<00:00,  1.42it/s, loss=0.020]\n"
          ]
        },
        {
          "output_type": "stream",
          "name": "stdout",
          "text": [
            "     OD_Dice: 0.7968,     cup_Dice: 0.8189\n",
            " max_OD_Dice: 0.8342,     cup_Dice: 0.7782\n",
            "     OD_Dice: 0.7968, max_cup_Dice: 0.8189\n",
            "learning rate: 0.0001\n"
          ]
        },
        {
          "output_type": "stream",
          "name": "stderr",
          "text": [
            "Epoch 177/400: 100%|██████████| 125/125 [01:27<00:00,  1.42it/s, loss=0.045]\n"
          ]
        },
        {
          "output_type": "stream",
          "name": "stdout",
          "text": [
            "     OD_Dice: 0.8241,     cup_Dice: 0.7971\n",
            " max_OD_Dice: 0.8342,     cup_Dice: 0.7782\n",
            "     OD_Dice: 0.7968, max_cup_Dice: 0.8189\n",
            "learning rate: 0.0001\n"
          ]
        },
        {
          "output_type": "stream",
          "name": "stderr",
          "text": [
            "Epoch 178/400: 100%|██████████| 125/125 [01:27<00:00,  1.42it/s, loss=0.035]\n"
          ]
        },
        {
          "output_type": "stream",
          "name": "stdout",
          "text": [
            "     OD_Dice: 0.7977,     cup_Dice: 0.7897\n",
            " max_OD_Dice: 0.8342,     cup_Dice: 0.7782\n",
            "     OD_Dice: 0.7968, max_cup_Dice: 0.8189\n",
            "learning rate: 0.0001\n"
          ]
        },
        {
          "output_type": "stream",
          "name": "stderr",
          "text": [
            "Epoch 179/400: 100%|██████████| 125/125 [01:27<00:00,  1.42it/s, loss=0.026]\n"
          ]
        },
        {
          "output_type": "stream",
          "name": "stdout",
          "text": [
            "     OD_Dice: 0.8030,     cup_Dice: 0.7889\n",
            " max_OD_Dice: 0.8342,     cup_Dice: 0.7782\n",
            "     OD_Dice: 0.7968, max_cup_Dice: 0.8189\n",
            "learning rate: 0.0001\n"
          ]
        },
        {
          "output_type": "stream",
          "name": "stderr",
          "text": [
            "Epoch 180/400: 100%|██████████| 125/125 [01:27<00:00,  1.42it/s, loss=0.025]\n"
          ]
        },
        {
          "output_type": "stream",
          "name": "stdout",
          "text": [
            "     OD_Dice: 0.7972,     cup_Dice: 0.7971\n",
            " max_OD_Dice: 0.8342,     cup_Dice: 0.7782\n",
            "     OD_Dice: 0.7968, max_cup_Dice: 0.8189\n",
            "learning rate: 0.0001\n"
          ]
        },
        {
          "output_type": "stream",
          "name": "stderr",
          "text": [
            "Epoch 181/400: 100%|██████████| 125/125 [01:27<00:00,  1.42it/s, loss=0.023]\n"
          ]
        },
        {
          "output_type": "stream",
          "name": "stdout",
          "text": [
            "     OD_Dice: 0.6993,     cup_Dice: 0.7734\n",
            " max_OD_Dice: 0.8342,     cup_Dice: 0.7782\n",
            "     OD_Dice: 0.7968, max_cup_Dice: 0.8189\n",
            "learning rate: 0.0001\n"
          ]
        },
        {
          "output_type": "stream",
          "name": "stderr",
          "text": [
            "Epoch 182/400: 100%|██████████| 125/125 [01:27<00:00,  1.42it/s, loss=0.022]\n"
          ]
        },
        {
          "output_type": "stream",
          "name": "stdout",
          "text": [
            "     OD_Dice: 0.7499,     cup_Dice: 0.7904\n",
            " max_OD_Dice: 0.8342,     cup_Dice: 0.7782\n",
            "     OD_Dice: 0.7968, max_cup_Dice: 0.8189\n",
            "learning rate: 0.0001\n"
          ]
        },
        {
          "output_type": "stream",
          "name": "stderr",
          "text": [
            "Epoch 183/400: 100%|██████████| 125/125 [01:27<00:00,  1.42it/s, loss=0.021]\n"
          ]
        },
        {
          "output_type": "stream",
          "name": "stdout",
          "text": [
            "     OD_Dice: 0.8500,     cup_Dice: 0.7920\n",
            " max_OD_Dice: 0.8500,     cup_Dice: 0.7920\n",
            "     OD_Dice: 0.7968, max_cup_Dice: 0.8189\n",
            "learning rate: 0.0001\n"
          ]
        },
        {
          "output_type": "stream",
          "name": "stderr",
          "text": [
            "Epoch 184/400: 100%|██████████| 125/125 [01:27<00:00,  1.42it/s, loss=0.021]\n"
          ]
        },
        {
          "output_type": "stream",
          "name": "stdout",
          "text": [
            "     OD_Dice: 0.7595,     cup_Dice: 0.7865\n",
            " max_OD_Dice: 0.8500,     cup_Dice: 0.7920\n",
            "     OD_Dice: 0.7968, max_cup_Dice: 0.8189\n",
            "learning rate: 0.0001\n"
          ]
        },
        {
          "output_type": "stream",
          "name": "stderr",
          "text": [
            "Epoch 185/400: 100%|██████████| 125/125 [01:27<00:00,  1.42it/s, loss=0.021]\n"
          ]
        },
        {
          "output_type": "stream",
          "name": "stdout",
          "text": [
            "     OD_Dice: 0.8147,     cup_Dice: 0.7791\n",
            " max_OD_Dice: 0.8500,     cup_Dice: 0.7920\n",
            "     OD_Dice: 0.7968, max_cup_Dice: 0.8189\n",
            "learning rate: 0.0001\n"
          ]
        },
        {
          "output_type": "stream",
          "name": "stderr",
          "text": [
            "Epoch 186/400: 100%|██████████| 125/125 [01:27<00:00,  1.42it/s, loss=0.020]\n"
          ]
        },
        {
          "output_type": "stream",
          "name": "stdout",
          "text": [
            "     OD_Dice: 0.7611,     cup_Dice: 0.7983\n",
            " max_OD_Dice: 0.8500,     cup_Dice: 0.7920\n",
            "     OD_Dice: 0.7968, max_cup_Dice: 0.8189\n",
            "learning rate: 0.0001\n"
          ]
        },
        {
          "output_type": "stream",
          "name": "stderr",
          "text": [
            "Epoch 187/400: 100%|██████████| 125/125 [01:27<00:00,  1.42it/s, loss=0.025]\n"
          ]
        },
        {
          "output_type": "stream",
          "name": "stdout",
          "text": [
            "     OD_Dice: 0.6312,     cup_Dice: 0.7631\n",
            " max_OD_Dice: 0.8500,     cup_Dice: 0.7920\n",
            "     OD_Dice: 0.7968, max_cup_Dice: 0.8189\n",
            "learning rate: 0.0001\n"
          ]
        },
        {
          "output_type": "stream",
          "name": "stderr",
          "text": [
            "Epoch 188/400: 100%|██████████| 125/125 [01:27<00:00,  1.42it/s, loss=0.023]\n"
          ]
        },
        {
          "output_type": "stream",
          "name": "stdout",
          "text": [
            "     OD_Dice: 0.8042,     cup_Dice: 0.7882\n",
            " max_OD_Dice: 0.8500,     cup_Dice: 0.7920\n",
            "     OD_Dice: 0.7968, max_cup_Dice: 0.8189\n",
            "learning rate: 0.0001\n"
          ]
        },
        {
          "output_type": "stream",
          "name": "stderr",
          "text": [
            "Epoch 189/400: 100%|██████████| 125/125 [01:27<00:00,  1.42it/s, loss=0.021]\n"
          ]
        },
        {
          "output_type": "stream",
          "name": "stdout",
          "text": [
            "     OD_Dice: 0.7924,     cup_Dice: 0.7918\n",
            " max_OD_Dice: 0.8500,     cup_Dice: 0.7920\n",
            "     OD_Dice: 0.7968, max_cup_Dice: 0.8189\n",
            "learning rate: 0.0001\n"
          ]
        },
        {
          "output_type": "stream",
          "name": "stderr",
          "text": [
            "Epoch 190/400: 100%|██████████| 125/125 [01:27<00:00,  1.42it/s, loss=0.022]\n"
          ]
        },
        {
          "output_type": "stream",
          "name": "stdout",
          "text": [
            "     OD_Dice: 0.8641,     cup_Dice: 0.7890\n",
            " max_OD_Dice: 0.8641,     cup_Dice: 0.7890\n",
            "     OD_Dice: 0.7968, max_cup_Dice: 0.8189\n",
            "learning rate: 0.0001\n"
          ]
        },
        {
          "output_type": "stream",
          "name": "stderr",
          "text": [
            "Epoch 191/400: 100%|██████████| 125/125 [01:27<00:00,  1.42it/s, loss=0.021]\n"
          ]
        },
        {
          "output_type": "stream",
          "name": "stdout",
          "text": [
            "     OD_Dice: 0.7479,     cup_Dice: 0.8029\n",
            " max_OD_Dice: 0.8641,     cup_Dice: 0.7890\n",
            "     OD_Dice: 0.7968, max_cup_Dice: 0.8189\n",
            "learning rate: 0.0001\n"
          ]
        },
        {
          "output_type": "stream",
          "name": "stderr",
          "text": [
            "Epoch 192/400: 100%|██████████| 125/125 [01:27<00:00,  1.42it/s, loss=0.020]\n"
          ]
        },
        {
          "output_type": "stream",
          "name": "stdout",
          "text": [
            "     OD_Dice: 0.8220,     cup_Dice: 0.7915\n",
            " max_OD_Dice: 0.8641,     cup_Dice: 0.7890\n",
            "     OD_Dice: 0.7968, max_cup_Dice: 0.8189\n",
            "learning rate: 0.0001\n"
          ]
        },
        {
          "output_type": "stream",
          "name": "stderr",
          "text": [
            "Epoch 193/400: 100%|██████████| 125/125 [01:27<00:00,  1.42it/s, loss=0.020]\n"
          ]
        },
        {
          "output_type": "stream",
          "name": "stdout",
          "text": [
            "     OD_Dice: 0.8295,     cup_Dice: 0.7957\n",
            " max_OD_Dice: 0.8641,     cup_Dice: 0.7890\n",
            "     OD_Dice: 0.7968, max_cup_Dice: 0.8189\n",
            "learning rate: 0.0001\n"
          ]
        },
        {
          "output_type": "stream",
          "name": "stderr",
          "text": [
            "Epoch 194/400: 100%|██████████| 125/125 [01:27<00:00,  1.42it/s, loss=0.019]\n"
          ]
        },
        {
          "output_type": "stream",
          "name": "stdout",
          "text": [
            "     OD_Dice: 0.8393,     cup_Dice: 0.7972\n",
            " max_OD_Dice: 0.8641,     cup_Dice: 0.7890\n",
            "     OD_Dice: 0.7968, max_cup_Dice: 0.8189\n",
            "learning rate: 0.0001\n"
          ]
        },
        {
          "output_type": "stream",
          "name": "stderr",
          "text": [
            "Epoch 195/400: 100%|██████████| 125/125 [01:28<00:00,  1.42it/s, loss=0.019]\n"
          ]
        },
        {
          "output_type": "stream",
          "name": "stdout",
          "text": [
            "     OD_Dice: 0.7866,     cup_Dice: 0.7888\n",
            " max_OD_Dice: 0.8641,     cup_Dice: 0.7890\n",
            "     OD_Dice: 0.7968, max_cup_Dice: 0.8189\n",
            "learning rate: 0.0001\n"
          ]
        },
        {
          "output_type": "stream",
          "name": "stderr",
          "text": [
            "Epoch 196/400: 100%|██████████| 125/125 [01:27<00:00,  1.42it/s, loss=0.019]\n"
          ]
        },
        {
          "output_type": "stream",
          "name": "stdout",
          "text": [
            "     OD_Dice: 0.8235,     cup_Dice: 0.7949\n",
            " max_OD_Dice: 0.8641,     cup_Dice: 0.7890\n",
            "     OD_Dice: 0.7968, max_cup_Dice: 0.8189\n",
            "learning rate: 0.0001\n"
          ]
        },
        {
          "output_type": "stream",
          "name": "stderr",
          "text": [
            "Epoch 197/400: 100%|██████████| 125/125 [01:27<00:00,  1.42it/s, loss=0.019]\n"
          ]
        },
        {
          "output_type": "stream",
          "name": "stdout",
          "text": [
            "     OD_Dice: 0.7796,     cup_Dice: 0.8001\n",
            " max_OD_Dice: 0.8641,     cup_Dice: 0.7890\n",
            "     OD_Dice: 0.7968, max_cup_Dice: 0.8189\n",
            "learning rate: 0.0001\n"
          ]
        },
        {
          "output_type": "stream",
          "name": "stderr",
          "text": [
            "Epoch 198/400: 100%|██████████| 125/125 [01:27<00:00,  1.42it/s, loss=0.020]\n"
          ]
        },
        {
          "output_type": "stream",
          "name": "stdout",
          "text": [
            "     OD_Dice: 0.8348,     cup_Dice: 0.7994\n",
            " max_OD_Dice: 0.8641,     cup_Dice: 0.7890\n",
            "     OD_Dice: 0.7968, max_cup_Dice: 0.8189\n",
            "learning rate: 0.0001\n"
          ]
        },
        {
          "output_type": "stream",
          "name": "stderr",
          "text": [
            "Epoch 199/400: 100%|██████████| 125/125 [01:27<00:00,  1.42it/s, loss=0.020]\n"
          ]
        },
        {
          "output_type": "stream",
          "name": "stdout",
          "text": [
            "     OD_Dice: 0.9062,     cup_Dice: 0.8149\n",
            " max_OD_Dice: 0.9062,     cup_Dice: 0.8149\n",
            "     OD_Dice: 0.7968, max_cup_Dice: 0.8189\n",
            "learning rate: 0.0001\n"
          ]
        },
        {
          "output_type": "stream",
          "name": "stderr",
          "text": [
            "Epoch 200/400: 100%|██████████| 125/125 [01:27<00:00,  1.42it/s, loss=0.019]\n"
          ]
        },
        {
          "output_type": "stream",
          "name": "stdout",
          "text": [
            "     OD_Dice: 0.7943,     cup_Dice: 0.8057\n",
            " max_OD_Dice: 0.9062,     cup_Dice: 0.8149\n",
            "     OD_Dice: 0.7968, max_cup_Dice: 0.8189\n",
            "learning rate: 0.0001\n"
          ]
        },
        {
          "output_type": "stream",
          "name": "stderr",
          "text": [
            "Epoch 201/400: 100%|██████████| 125/125 [01:27<00:00,  1.42it/s, loss=0.018]\n"
          ]
        },
        {
          "output_type": "stream",
          "name": "stdout",
          "text": [
            "     OD_Dice: 0.8308,     cup_Dice: 0.8070\n",
            " max_OD_Dice: 0.9062,     cup_Dice: 0.8149\n",
            "     OD_Dice: 0.7968, max_cup_Dice: 0.8189\n",
            "learning rate: 0.0001\n"
          ]
        },
        {
          "output_type": "stream",
          "name": "stderr",
          "text": [
            "Epoch 202/400: 100%|██████████| 125/125 [01:27<00:00,  1.42it/s, loss=0.019]\n"
          ]
        },
        {
          "output_type": "stream",
          "name": "stdout",
          "text": [
            "     OD_Dice: 0.8030,     cup_Dice: 0.8175\n",
            " max_OD_Dice: 0.9062,     cup_Dice: 0.8149\n",
            "     OD_Dice: 0.7968, max_cup_Dice: 0.8189\n",
            "learning rate: 0.0001\n"
          ]
        },
        {
          "output_type": "stream",
          "name": "stderr",
          "text": [
            "Epoch 203/400: 100%|██████████| 125/125 [01:27<00:00,  1.42it/s, loss=0.018]\n"
          ]
        },
        {
          "output_type": "stream",
          "name": "stdout",
          "text": [
            "     OD_Dice: 0.8344,     cup_Dice: 0.8058\n",
            " max_OD_Dice: 0.9062,     cup_Dice: 0.8149\n",
            "     OD_Dice: 0.7968, max_cup_Dice: 0.8189\n",
            "learning rate: 0.0001\n"
          ]
        },
        {
          "output_type": "stream",
          "name": "stderr",
          "text": [
            "Epoch 204/400: 100%|██████████| 125/125 [01:27<00:00,  1.42it/s, loss=0.018]\n"
          ]
        },
        {
          "output_type": "stream",
          "name": "stdout",
          "text": [
            "     OD_Dice: 0.8216,     cup_Dice: 0.8089\n",
            " max_OD_Dice: 0.9062,     cup_Dice: 0.8149\n",
            "     OD_Dice: 0.7968, max_cup_Dice: 0.8189\n",
            "learning rate: 0.0001\n"
          ]
        },
        {
          "output_type": "stream",
          "name": "stderr",
          "text": [
            "Epoch 205/400: 100%|██████████| 125/125 [01:27<00:00,  1.42it/s, loss=0.018]\n"
          ]
        },
        {
          "output_type": "stream",
          "name": "stdout",
          "text": [
            "     OD_Dice: 0.7458,     cup_Dice: 0.8221\n",
            " max_OD_Dice: 0.9062,     cup_Dice: 0.8149\n",
            "     OD_Dice: 0.7458, max_cup_Dice: 0.8221\n",
            "learning rate: 0.0001\n"
          ]
        },
        {
          "output_type": "stream",
          "name": "stderr",
          "text": [
            "Epoch 206/400: 100%|██████████| 125/125 [01:27<00:00,  1.42it/s, loss=0.017]\n"
          ]
        },
        {
          "output_type": "stream",
          "name": "stdout",
          "text": [
            "     OD_Dice: 0.8571,     cup_Dice: 0.8163\n",
            " max_OD_Dice: 0.9062,     cup_Dice: 0.8149\n",
            "     OD_Dice: 0.7458, max_cup_Dice: 0.8221\n",
            "learning rate: 0.0001\n"
          ]
        },
        {
          "output_type": "stream",
          "name": "stderr",
          "text": [
            "Epoch 207/400: 100%|██████████| 125/125 [01:27<00:00,  1.42it/s, loss=0.023]\n"
          ]
        },
        {
          "output_type": "stream",
          "name": "stdout",
          "text": [
            "     OD_Dice: 0.7193,     cup_Dice: 0.7974\n",
            " max_OD_Dice: 0.9062,     cup_Dice: 0.8149\n",
            "     OD_Dice: 0.7458, max_cup_Dice: 0.8221\n",
            "learning rate: 0.0001\n"
          ]
        },
        {
          "output_type": "stream",
          "name": "stderr",
          "text": [
            "Epoch 208/400: 100%|██████████| 125/125 [01:27<00:00,  1.42it/s, loss=0.018]\n"
          ]
        },
        {
          "output_type": "stream",
          "name": "stdout",
          "text": [
            "     OD_Dice: 0.8335,     cup_Dice: 0.8117\n",
            " max_OD_Dice: 0.9062,     cup_Dice: 0.8149\n",
            "     OD_Dice: 0.7458, max_cup_Dice: 0.8221\n",
            "learning rate: 0.0001\n"
          ]
        },
        {
          "output_type": "stream",
          "name": "stderr",
          "text": [
            "Epoch 209/400: 100%|██████████| 125/125 [01:28<00:00,  1.42it/s, loss=0.018]\n"
          ]
        },
        {
          "output_type": "stream",
          "name": "stdout",
          "text": [
            "     OD_Dice: 0.8126,     cup_Dice: 0.8150\n",
            " max_OD_Dice: 0.9062,     cup_Dice: 0.8149\n",
            "     OD_Dice: 0.7458, max_cup_Dice: 0.8221\n",
            "learning rate: 0.0001\n"
          ]
        },
        {
          "output_type": "stream",
          "name": "stderr",
          "text": [
            "Epoch 210/400: 100%|██████████| 125/125 [01:27<00:00,  1.42it/s, loss=0.017]\n"
          ]
        },
        {
          "output_type": "stream",
          "name": "stdout",
          "text": [
            "     OD_Dice: 0.8013,     cup_Dice: 0.8150\n",
            " max_OD_Dice: 0.9062,     cup_Dice: 0.8149\n",
            "     OD_Dice: 0.7458, max_cup_Dice: 0.8221\n",
            "learning rate: 0.0001\n"
          ]
        },
        {
          "output_type": "stream",
          "name": "stderr",
          "text": [
            "Epoch 211/400: 100%|██████████| 125/125 [01:27<00:00,  1.42it/s, loss=0.018]\n"
          ]
        },
        {
          "output_type": "stream",
          "name": "stdout",
          "text": [
            "     OD_Dice: 0.8424,     cup_Dice: 0.8096\n",
            " max_OD_Dice: 0.9062,     cup_Dice: 0.8149\n",
            "     OD_Dice: 0.7458, max_cup_Dice: 0.8221\n",
            "learning rate: 0.0001\n"
          ]
        },
        {
          "output_type": "stream",
          "name": "stderr",
          "text": [
            "Epoch 212/400: 100%|██████████| 125/125 [01:27<00:00,  1.42it/s, loss=0.017]\n"
          ]
        },
        {
          "output_type": "stream",
          "name": "stdout",
          "text": [
            "     OD_Dice: 0.8033,     cup_Dice: 0.8198\n",
            " max_OD_Dice: 0.9062,     cup_Dice: 0.8149\n",
            "     OD_Dice: 0.7458, max_cup_Dice: 0.8221\n",
            "learning rate: 0.0001\n"
          ]
        },
        {
          "output_type": "stream",
          "name": "stderr",
          "text": [
            "Epoch 213/400: 100%|██████████| 125/125 [01:27<00:00,  1.42it/s, loss=0.017]\n"
          ]
        },
        {
          "output_type": "stream",
          "name": "stdout",
          "text": [
            "     OD_Dice: 0.8270,     cup_Dice: 0.8224\n",
            " max_OD_Dice: 0.9062,     cup_Dice: 0.8149\n",
            "     OD_Dice: 0.8270, max_cup_Dice: 0.8224\n",
            "learning rate: 0.0001\n"
          ]
        },
        {
          "output_type": "stream",
          "name": "stderr",
          "text": [
            "Epoch 214/400: 100%|██████████| 125/125 [01:27<00:00,  1.42it/s, loss=0.019]\n"
          ]
        },
        {
          "output_type": "stream",
          "name": "stdout",
          "text": [
            "     OD_Dice: 0.7677,     cup_Dice: 0.8103\n",
            " max_OD_Dice: 0.9062,     cup_Dice: 0.8149\n",
            "     OD_Dice: 0.8270, max_cup_Dice: 0.8224\n",
            "learning rate: 0.0001\n"
          ]
        },
        {
          "output_type": "stream",
          "name": "stderr",
          "text": [
            "Epoch 215/400: 100%|██████████| 125/125 [01:28<00:00,  1.42it/s, loss=0.017]\n"
          ]
        },
        {
          "output_type": "stream",
          "name": "stdout",
          "text": [
            "     OD_Dice: 0.7833,     cup_Dice: 0.8182\n",
            " max_OD_Dice: 0.9062,     cup_Dice: 0.8149\n",
            "     OD_Dice: 0.8270, max_cup_Dice: 0.8224\n",
            "learning rate: 0.0001\n"
          ]
        },
        {
          "output_type": "stream",
          "name": "stderr",
          "text": [
            "Epoch 216/400: 100%|██████████| 125/125 [01:27<00:00,  1.42it/s, loss=0.019]\n"
          ]
        },
        {
          "output_type": "stream",
          "name": "stdout",
          "text": [
            "     OD_Dice: 0.8501,     cup_Dice: 0.8289\n",
            " max_OD_Dice: 0.9062,     cup_Dice: 0.8149\n",
            "     OD_Dice: 0.8501, max_cup_Dice: 0.8289\n",
            "learning rate: 0.0001\n"
          ]
        },
        {
          "output_type": "stream",
          "name": "stderr",
          "text": [
            "Epoch 217/400: 100%|██████████| 125/125 [01:27<00:00,  1.42it/s, loss=0.017]\n"
          ]
        },
        {
          "output_type": "stream",
          "name": "stdout",
          "text": [
            "     OD_Dice: 0.8602,     cup_Dice: 0.8198\n",
            " max_OD_Dice: 0.9062,     cup_Dice: 0.8149\n",
            "     OD_Dice: 0.8501, max_cup_Dice: 0.8289\n",
            "learning rate: 0.0001\n"
          ]
        },
        {
          "output_type": "stream",
          "name": "stderr",
          "text": [
            "Epoch 218/400: 100%|██████████| 125/125 [01:27<00:00,  1.42it/s, loss=0.017]\n"
          ]
        },
        {
          "output_type": "stream",
          "name": "stdout",
          "text": [
            "     OD_Dice: 0.8317,     cup_Dice: 0.8134\n",
            " max_OD_Dice: 0.9062,     cup_Dice: 0.8149\n",
            "     OD_Dice: 0.8501, max_cup_Dice: 0.8289\n",
            "learning rate: 0.0001\n"
          ]
        },
        {
          "output_type": "stream",
          "name": "stderr",
          "text": [
            "Epoch 219/400: 100%|██████████| 125/125 [01:27<00:00,  1.42it/s, loss=0.016]\n"
          ]
        },
        {
          "output_type": "stream",
          "name": "stdout",
          "text": [
            "     OD_Dice: 0.7884,     cup_Dice: 0.8202\n",
            " max_OD_Dice: 0.9062,     cup_Dice: 0.8149\n",
            "     OD_Dice: 0.8501, max_cup_Dice: 0.8289\n",
            "learning rate: 0.0001\n"
          ]
        },
        {
          "output_type": "stream",
          "name": "stderr",
          "text": [
            "Epoch 220/400: 100%|██████████| 125/125 [01:27<00:00,  1.42it/s, loss=0.019]\n"
          ]
        },
        {
          "output_type": "stream",
          "name": "stdout",
          "text": [
            "     OD_Dice: 0.8530,     cup_Dice: 0.8160\n",
            " max_OD_Dice: 0.9062,     cup_Dice: 0.8149\n",
            "     OD_Dice: 0.8501, max_cup_Dice: 0.8289\n",
            "learning rate: 0.0001\n"
          ]
        },
        {
          "output_type": "stream",
          "name": "stderr",
          "text": [
            "Epoch 221/400: 100%|██████████| 125/125 [01:27<00:00,  1.42it/s, loss=0.019]\n"
          ]
        },
        {
          "output_type": "stream",
          "name": "stdout",
          "text": [
            "     OD_Dice: 0.8723,     cup_Dice: 0.7976\n",
            " max_OD_Dice: 0.9062,     cup_Dice: 0.8149\n",
            "     OD_Dice: 0.8501, max_cup_Dice: 0.8289\n",
            "learning rate: 0.0001\n"
          ]
        },
        {
          "output_type": "stream",
          "name": "stderr",
          "text": [
            "Epoch 222/400: 100%|██████████| 125/125 [01:27<00:00,  1.42it/s, loss=0.017]\n"
          ]
        },
        {
          "output_type": "stream",
          "name": "stdout",
          "text": [
            "     OD_Dice: 0.8188,     cup_Dice: 0.8157\n",
            " max_OD_Dice: 0.9062,     cup_Dice: 0.8149\n",
            "     OD_Dice: 0.8501, max_cup_Dice: 0.8289\n",
            "learning rate: 0.0001\n"
          ]
        },
        {
          "output_type": "stream",
          "name": "stderr",
          "text": [
            "Epoch 223/400: 100%|██████████| 125/125 [01:27<00:00,  1.42it/s, loss=0.017]\n"
          ]
        },
        {
          "output_type": "stream",
          "name": "stdout",
          "text": [
            "     OD_Dice: 0.8901,     cup_Dice: 0.8193\n",
            " max_OD_Dice: 0.9062,     cup_Dice: 0.8149\n",
            "     OD_Dice: 0.8501, max_cup_Dice: 0.8289\n",
            "learning rate: 0.0001\n"
          ]
        },
        {
          "output_type": "stream",
          "name": "stderr",
          "text": [
            "Epoch 224/400: 100%|██████████| 125/125 [01:27<00:00,  1.42it/s, loss=0.022]\n"
          ]
        },
        {
          "output_type": "stream",
          "name": "stdout",
          "text": [
            "     OD_Dice: 0.8650,     cup_Dice: 0.8188\n",
            " max_OD_Dice: 0.9062,     cup_Dice: 0.8149\n",
            "     OD_Dice: 0.8501, max_cup_Dice: 0.8289\n",
            "learning rate: 0.0001\n"
          ]
        },
        {
          "output_type": "stream",
          "name": "stderr",
          "text": [
            "Epoch 225/400: 100%|██████████| 125/125 [01:27<00:00,  1.42it/s, loss=0.027]\n"
          ]
        },
        {
          "output_type": "stream",
          "name": "stdout",
          "text": [
            "     OD_Dice: 0.8837,     cup_Dice: 0.8253\n",
            " max_OD_Dice: 0.9062,     cup_Dice: 0.8149\n",
            "     OD_Dice: 0.8501, max_cup_Dice: 0.8289\n",
            "learning rate: 0.0001\n"
          ]
        },
        {
          "output_type": "stream",
          "name": "stderr",
          "text": [
            "Epoch 226/400: 100%|██████████| 125/125 [01:27<00:00,  1.42it/s, loss=0.019]\n"
          ]
        },
        {
          "output_type": "stream",
          "name": "stdout",
          "text": [
            "     OD_Dice: 0.8497,     cup_Dice: 0.8220\n",
            " max_OD_Dice: 0.9062,     cup_Dice: 0.8149\n",
            "     OD_Dice: 0.8501, max_cup_Dice: 0.8289\n",
            "learning rate: 0.0001\n"
          ]
        },
        {
          "output_type": "stream",
          "name": "stderr",
          "text": [
            "Epoch 227/400: 100%|██████████| 125/125 [01:27<00:00,  1.42it/s, loss=0.018]\n"
          ]
        },
        {
          "output_type": "stream",
          "name": "stdout",
          "text": [
            "     OD_Dice: 0.8483,     cup_Dice: 0.8309\n",
            " max_OD_Dice: 0.9062,     cup_Dice: 0.8149\n",
            "     OD_Dice: 0.8483, max_cup_Dice: 0.8309\n",
            "learning rate: 0.0001\n"
          ]
        },
        {
          "output_type": "stream",
          "name": "stderr",
          "text": [
            "Epoch 228/400: 100%|██████████| 125/125 [01:27<00:00,  1.42it/s, loss=0.017]\n"
          ]
        },
        {
          "output_type": "stream",
          "name": "stdout",
          "text": [
            "     OD_Dice: 0.8681,     cup_Dice: 0.8201\n",
            " max_OD_Dice: 0.9062,     cup_Dice: 0.8149\n",
            "     OD_Dice: 0.8483, max_cup_Dice: 0.8309\n",
            "learning rate: 0.0001\n"
          ]
        },
        {
          "output_type": "stream",
          "name": "stderr",
          "text": [
            "Epoch 229/400: 100%|██████████| 125/125 [01:27<00:00,  1.42it/s, loss=0.016]\n"
          ]
        },
        {
          "output_type": "stream",
          "name": "stdout",
          "text": [
            "     OD_Dice: 0.9026,     cup_Dice: 0.8220\n",
            " max_OD_Dice: 0.9062,     cup_Dice: 0.8149\n",
            "     OD_Dice: 0.8483, max_cup_Dice: 0.8309\n",
            "learning rate: 0.0001\n"
          ]
        },
        {
          "output_type": "stream",
          "name": "stderr",
          "text": [
            "Epoch 230/400: 100%|██████████| 125/125 [01:27<00:00,  1.42it/s, loss=0.016]\n"
          ]
        },
        {
          "output_type": "stream",
          "name": "stdout",
          "text": [
            "     OD_Dice: 0.8670,     cup_Dice: 0.8263\n",
            " max_OD_Dice: 0.9062,     cup_Dice: 0.8149\n",
            "     OD_Dice: 0.8483, max_cup_Dice: 0.8309\n",
            "learning rate: 0.0001\n"
          ]
        },
        {
          "output_type": "stream",
          "name": "stderr",
          "text": [
            "Epoch 231/400: 100%|██████████| 125/125 [01:27<00:00,  1.42it/s, loss=0.016]\n"
          ]
        },
        {
          "output_type": "stream",
          "name": "stdout",
          "text": [
            "     OD_Dice: 0.8603,     cup_Dice: 0.8167\n",
            " max_OD_Dice: 0.9062,     cup_Dice: 0.8149\n",
            "     OD_Dice: 0.8483, max_cup_Dice: 0.8309\n",
            "learning rate: 0.0001\n"
          ]
        },
        {
          "output_type": "stream",
          "name": "stderr",
          "text": [
            "Epoch 232/400: 100%|██████████| 125/125 [01:27<00:00,  1.42it/s, loss=0.016]\n"
          ]
        },
        {
          "output_type": "stream",
          "name": "stdout",
          "text": [
            "     OD_Dice: 0.8854,     cup_Dice: 0.8211\n",
            " max_OD_Dice: 0.9062,     cup_Dice: 0.8149\n",
            "     OD_Dice: 0.8483, max_cup_Dice: 0.8309\n",
            "learning rate: 0.0001\n"
          ]
        },
        {
          "output_type": "stream",
          "name": "stderr",
          "text": [
            "Epoch 233/400: 100%|██████████| 125/125 [01:27<00:00,  1.42it/s, loss=0.016]\n"
          ]
        },
        {
          "output_type": "stream",
          "name": "stdout",
          "text": [
            "     OD_Dice: 0.8703,     cup_Dice: 0.8204\n",
            " max_OD_Dice: 0.9062,     cup_Dice: 0.8149\n",
            "     OD_Dice: 0.8483, max_cup_Dice: 0.8309\n",
            "learning rate: 0.0001\n"
          ]
        },
        {
          "output_type": "stream",
          "name": "stderr",
          "text": [
            "Epoch 234/400: 100%|██████████| 125/125 [01:27<00:00,  1.42it/s, loss=0.015]\n"
          ]
        },
        {
          "output_type": "stream",
          "name": "stdout",
          "text": [
            "     OD_Dice: 0.8842,     cup_Dice: 0.8287\n",
            " max_OD_Dice: 0.9062,     cup_Dice: 0.8149\n",
            "     OD_Dice: 0.8483, max_cup_Dice: 0.8309\n",
            "learning rate: 0.0001\n"
          ]
        },
        {
          "output_type": "stream",
          "name": "stderr",
          "text": [
            "Epoch 235/400: 100%|██████████| 125/125 [01:27<00:00,  1.42it/s, loss=0.016]\n"
          ]
        },
        {
          "output_type": "stream",
          "name": "stdout",
          "text": [
            "     OD_Dice: 0.8874,     cup_Dice: 0.8230\n",
            " max_OD_Dice: 0.9062,     cup_Dice: 0.8149\n",
            "     OD_Dice: 0.8483, max_cup_Dice: 0.8309\n",
            "learning rate: 0.0001\n"
          ]
        },
        {
          "output_type": "stream",
          "name": "stderr",
          "text": [
            "Epoch 236/400: 100%|██████████| 125/125 [01:27<00:00,  1.42it/s, loss=0.015]\n"
          ]
        },
        {
          "output_type": "stream",
          "name": "stdout",
          "text": [
            "     OD_Dice: 0.8809,     cup_Dice: 0.8290\n",
            " max_OD_Dice: 0.9062,     cup_Dice: 0.8149\n",
            "     OD_Dice: 0.8483, max_cup_Dice: 0.8309\n",
            "learning rate: 0.0001\n"
          ]
        },
        {
          "output_type": "stream",
          "name": "stderr",
          "text": [
            "Epoch 237/400: 100%|██████████| 125/125 [01:28<00:00,  1.42it/s, loss=0.016]\n"
          ]
        },
        {
          "output_type": "stream",
          "name": "stdout",
          "text": [
            "     OD_Dice: 0.8538,     cup_Dice: 0.8328\n",
            " max_OD_Dice: 0.9062,     cup_Dice: 0.8149\n",
            "     OD_Dice: 0.8538, max_cup_Dice: 0.8328\n",
            "learning rate: 0.0001\n"
          ]
        },
        {
          "output_type": "stream",
          "name": "stderr",
          "text": [
            "Epoch 238/400: 100%|██████████| 125/125 [01:27<00:00,  1.42it/s, loss=0.015]\n"
          ]
        },
        {
          "output_type": "stream",
          "name": "stdout",
          "text": [
            "     OD_Dice: 0.8626,     cup_Dice: 0.8383\n",
            " max_OD_Dice: 0.9062,     cup_Dice: 0.8149\n",
            "     OD_Dice: 0.8626, max_cup_Dice: 0.8383\n",
            "learning rate: 0.0001\n"
          ]
        },
        {
          "output_type": "stream",
          "name": "stderr",
          "text": [
            "Epoch 239/400: 100%|██████████| 125/125 [01:27<00:00,  1.42it/s, loss=0.015]\n"
          ]
        },
        {
          "output_type": "stream",
          "name": "stdout",
          "text": [
            "     OD_Dice: 0.9026,     cup_Dice: 0.8376\n",
            " max_OD_Dice: 0.9062,     cup_Dice: 0.8149\n",
            "     OD_Dice: 0.8626, max_cup_Dice: 0.8383\n",
            "learning rate: 0.0001\n"
          ]
        },
        {
          "output_type": "stream",
          "name": "stderr",
          "text": [
            "Epoch 240/400: 100%|██████████| 125/125 [01:27<00:00,  1.42it/s, loss=0.016]\n"
          ]
        },
        {
          "output_type": "stream",
          "name": "stdout",
          "text": [
            "     OD_Dice: 0.8966,     cup_Dice: 0.8308\n",
            " max_OD_Dice: 0.9062,     cup_Dice: 0.8149\n",
            "     OD_Dice: 0.8626, max_cup_Dice: 0.8383\n",
            "learning rate: 0.0001\n"
          ]
        },
        {
          "output_type": "stream",
          "name": "stderr",
          "text": [
            "Epoch 241/400: 100%|██████████| 125/125 [01:27<00:00,  1.42it/s, loss=0.016]\n"
          ]
        },
        {
          "output_type": "stream",
          "name": "stdout",
          "text": [
            "     OD_Dice: 0.8629,     cup_Dice: 0.8398\n",
            " max_OD_Dice: 0.9062,     cup_Dice: 0.8149\n",
            "     OD_Dice: 0.8629, max_cup_Dice: 0.8398\n",
            "learning rate: 0.0001\n"
          ]
        },
        {
          "output_type": "stream",
          "name": "stderr",
          "text": [
            "Epoch 242/400: 100%|██████████| 125/125 [01:27<00:00,  1.42it/s, loss=0.015]\n"
          ]
        },
        {
          "output_type": "stream",
          "name": "stdout",
          "text": [
            "     OD_Dice: 0.8922,     cup_Dice: 0.8367\n",
            " max_OD_Dice: 0.9062,     cup_Dice: 0.8149\n",
            "     OD_Dice: 0.8629, max_cup_Dice: 0.8398\n",
            "learning rate: 0.0001\n"
          ]
        },
        {
          "output_type": "stream",
          "name": "stderr",
          "text": [
            "Epoch 243/400: 100%|██████████| 125/125 [01:27<00:00,  1.42it/s, loss=0.016]\n"
          ]
        },
        {
          "output_type": "stream",
          "name": "stdout",
          "text": [
            "     OD_Dice: 0.8753,     cup_Dice: 0.8267\n",
            " max_OD_Dice: 0.9062,     cup_Dice: 0.8149\n",
            "     OD_Dice: 0.8629, max_cup_Dice: 0.8398\n",
            "learning rate: 0.0001\n"
          ]
        },
        {
          "output_type": "stream",
          "name": "stderr",
          "text": [
            "Epoch 244/400: 100%|██████████| 125/125 [01:27<00:00,  1.42it/s, loss=0.016]\n"
          ]
        },
        {
          "output_type": "stream",
          "name": "stdout",
          "text": [
            "     OD_Dice: 0.8509,     cup_Dice: 0.8314\n",
            " max_OD_Dice: 0.9062,     cup_Dice: 0.8149\n",
            "     OD_Dice: 0.8629, max_cup_Dice: 0.8398\n",
            "learning rate: 0.0001\n"
          ]
        },
        {
          "output_type": "stream",
          "name": "stderr",
          "text": [
            "Epoch 245/400: 100%|██████████| 125/125 [01:27<00:00,  1.42it/s, loss=0.015]\n"
          ]
        },
        {
          "output_type": "stream",
          "name": "stdout",
          "text": [
            "     OD_Dice: 0.9134,     cup_Dice: 0.8313\n",
            " max_OD_Dice: 0.9134,     cup_Dice: 0.8313\n",
            "     OD_Dice: 0.8629, max_cup_Dice: 0.8398\n",
            "learning rate: 0.0001\n"
          ]
        },
        {
          "output_type": "stream",
          "name": "stderr",
          "text": [
            "Epoch 246/400: 100%|██████████| 125/125 [01:27<00:00,  1.42it/s, loss=0.015]\n"
          ]
        },
        {
          "output_type": "stream",
          "name": "stdout",
          "text": [
            "     OD_Dice: 0.8810,     cup_Dice: 0.8301\n",
            " max_OD_Dice: 0.9134,     cup_Dice: 0.8313\n",
            "     OD_Dice: 0.8629, max_cup_Dice: 0.8398\n",
            "learning rate: 0.0001\n"
          ]
        },
        {
          "output_type": "stream",
          "name": "stderr",
          "text": [
            "Epoch 247/400: 100%|██████████| 125/125 [01:27<00:00,  1.42it/s, loss=0.015]\n"
          ]
        },
        {
          "output_type": "stream",
          "name": "stdout",
          "text": [
            "     OD_Dice: 0.8621,     cup_Dice: 0.8380\n",
            " max_OD_Dice: 0.9134,     cup_Dice: 0.8313\n",
            "     OD_Dice: 0.8629, max_cup_Dice: 0.8398\n",
            "learning rate: 0.0001\n"
          ]
        },
        {
          "output_type": "stream",
          "name": "stderr",
          "text": [
            "Epoch 248/400: 100%|██████████| 125/125 [01:27<00:00,  1.42it/s, loss=0.015]\n"
          ]
        },
        {
          "output_type": "stream",
          "name": "stdout",
          "text": [
            "     OD_Dice: 0.8921,     cup_Dice: 0.8310\n",
            " max_OD_Dice: 0.9134,     cup_Dice: 0.8313\n",
            "     OD_Dice: 0.8629, max_cup_Dice: 0.8398\n",
            "learning rate: 0.0001\n"
          ]
        },
        {
          "output_type": "stream",
          "name": "stderr",
          "text": [
            "Epoch 249/400: 100%|██████████| 125/125 [01:27<00:00,  1.42it/s, loss=0.015]\n"
          ]
        },
        {
          "output_type": "stream",
          "name": "stdout",
          "text": [
            "     OD_Dice: 0.9020,     cup_Dice: 0.8310\n",
            " max_OD_Dice: 0.9134,     cup_Dice: 0.8313\n",
            "     OD_Dice: 0.8629, max_cup_Dice: 0.8398\n",
            "learning rate: 0.0001\n"
          ]
        },
        {
          "output_type": "stream",
          "name": "stderr",
          "text": [
            "Epoch 250/400: 100%|██████████| 125/125 [01:27<00:00,  1.42it/s, loss=0.015]\n"
          ]
        },
        {
          "output_type": "stream",
          "name": "stdout",
          "text": [
            "     OD_Dice: 0.9101,     cup_Dice: 0.8385\n",
            " max_OD_Dice: 0.9134,     cup_Dice: 0.8313\n",
            "     OD_Dice: 0.8629, max_cup_Dice: 0.8398\n",
            "learning rate: 0.0001\n"
          ]
        },
        {
          "output_type": "stream",
          "name": "stderr",
          "text": [
            "Epoch 251/400: 100%|██████████| 125/125 [01:27<00:00,  1.42it/s, loss=0.014]\n"
          ]
        },
        {
          "output_type": "stream",
          "name": "stdout",
          "text": [
            "     OD_Dice: 0.8675,     cup_Dice: 0.8418\n",
            " max_OD_Dice: 0.9134,     cup_Dice: 0.8313\n",
            "     OD_Dice: 0.8675, max_cup_Dice: 0.8418\n",
            "learning rate: 0.0001\n"
          ]
        },
        {
          "output_type": "stream",
          "name": "stderr",
          "text": [
            "Epoch 252/400: 100%|██████████| 125/125 [01:27<00:00,  1.42it/s, loss=0.014]\n"
          ]
        },
        {
          "output_type": "stream",
          "name": "stdout",
          "text": [
            "     OD_Dice: 0.9102,     cup_Dice: 0.8467\n",
            " max_OD_Dice: 0.9134,     cup_Dice: 0.8313\n",
            "     OD_Dice: 0.9102, max_cup_Dice: 0.8467\n",
            "learning rate: 0.0001\n"
          ]
        },
        {
          "output_type": "stream",
          "name": "stderr",
          "text": [
            "Epoch 253/400: 100%|██████████| 125/125 [01:27<00:00,  1.42it/s, loss=0.014]\n"
          ]
        },
        {
          "output_type": "stream",
          "name": "stdout",
          "text": [
            "     OD_Dice: 0.9156,     cup_Dice: 0.8259\n",
            " max_OD_Dice: 0.9156,     cup_Dice: 0.8259\n",
            "     OD_Dice: 0.9102, max_cup_Dice: 0.8467\n",
            "learning rate: 0.0001\n"
          ]
        },
        {
          "output_type": "stream",
          "name": "stderr",
          "text": [
            "Epoch 254/400: 100%|██████████| 125/125 [01:27<00:00,  1.42it/s, loss=0.030]\n"
          ]
        },
        {
          "output_type": "stream",
          "name": "stdout",
          "text": [
            "     OD_Dice: 0.8667,     cup_Dice: 0.8358\n",
            " max_OD_Dice: 0.9156,     cup_Dice: 0.8259\n",
            "     OD_Dice: 0.9102, max_cup_Dice: 0.8467\n",
            "learning rate: 0.0001\n"
          ]
        },
        {
          "output_type": "stream",
          "name": "stderr",
          "text": [
            "Epoch 255/400: 100%|██████████| 125/125 [01:27<00:00,  1.42it/s, loss=0.021]\n"
          ]
        },
        {
          "output_type": "stream",
          "name": "stdout",
          "text": [
            "     OD_Dice: 0.8381,     cup_Dice: 0.7149\n",
            " max_OD_Dice: 0.9156,     cup_Dice: 0.8259\n",
            "     OD_Dice: 0.9102, max_cup_Dice: 0.8467\n",
            "learning rate: 0.0001\n"
          ]
        },
        {
          "output_type": "stream",
          "name": "stderr",
          "text": [
            "Epoch 256/400: 100%|██████████| 125/125 [01:27<00:00,  1.42it/s, loss=0.029]\n"
          ]
        },
        {
          "output_type": "stream",
          "name": "stdout",
          "text": [
            "     OD_Dice: 0.8538,     cup_Dice: 0.8381\n",
            " max_OD_Dice: 0.9156,     cup_Dice: 0.8259\n",
            "     OD_Dice: 0.9102, max_cup_Dice: 0.8467\n",
            "learning rate: 0.0001\n"
          ]
        },
        {
          "output_type": "stream",
          "name": "stderr",
          "text": [
            "Epoch 257/400: 100%|██████████| 125/125 [01:27<00:00,  1.42it/s, loss=0.016]\n"
          ]
        },
        {
          "output_type": "stream",
          "name": "stdout",
          "text": [
            "     OD_Dice: 0.8690,     cup_Dice: 0.8322\n",
            " max_OD_Dice: 0.9156,     cup_Dice: 0.8259\n",
            "     OD_Dice: 0.9102, max_cup_Dice: 0.8467\n",
            "learning rate: 0.0001\n"
          ]
        },
        {
          "output_type": "stream",
          "name": "stderr",
          "text": [
            "Epoch 258/400: 100%|██████████| 125/125 [01:27<00:00,  1.42it/s, loss=0.016]\n"
          ]
        },
        {
          "output_type": "stream",
          "name": "stdout",
          "text": [
            "     OD_Dice: 0.8667,     cup_Dice: 0.8388\n",
            " max_OD_Dice: 0.9156,     cup_Dice: 0.8259\n",
            "     OD_Dice: 0.9102, max_cup_Dice: 0.8467\n",
            "learning rate: 0.0001\n"
          ]
        },
        {
          "output_type": "stream",
          "name": "stderr",
          "text": [
            "Epoch 259/400: 100%|██████████| 125/125 [01:28<00:00,  1.42it/s, loss=0.016]\n"
          ]
        },
        {
          "output_type": "stream",
          "name": "stdout",
          "text": [
            "     OD_Dice: 0.8718,     cup_Dice: 0.8319\n",
            " max_OD_Dice: 0.9156,     cup_Dice: 0.8259\n",
            "     OD_Dice: 0.9102, max_cup_Dice: 0.8467\n",
            "learning rate: 0.0001\n"
          ]
        },
        {
          "output_type": "stream",
          "name": "stderr",
          "text": [
            "Epoch 260/400: 100%|██████████| 125/125 [01:27<00:00,  1.42it/s, loss=0.015]\n"
          ]
        },
        {
          "output_type": "stream",
          "name": "stdout",
          "text": [
            "     OD_Dice: 0.8725,     cup_Dice: 0.8333\n",
            " max_OD_Dice: 0.9156,     cup_Dice: 0.8259\n",
            "     OD_Dice: 0.9102, max_cup_Dice: 0.8467\n",
            "learning rate: 0.0001\n"
          ]
        },
        {
          "output_type": "stream",
          "name": "stderr",
          "text": [
            "Epoch 261/400: 100%|██████████| 125/125 [01:27<00:00,  1.42it/s, loss=0.016]\n"
          ]
        },
        {
          "output_type": "stream",
          "name": "stdout",
          "text": [
            "     OD_Dice: 0.9095,     cup_Dice: 0.8320\n",
            " max_OD_Dice: 0.9156,     cup_Dice: 0.8259\n",
            "     OD_Dice: 0.9102, max_cup_Dice: 0.8467\n",
            "learning rate: 0.0001\n"
          ]
        },
        {
          "output_type": "stream",
          "name": "stderr",
          "text": [
            "Epoch 262/400: 100%|██████████| 125/125 [01:27<00:00,  1.42it/s, loss=0.021]\n"
          ]
        },
        {
          "output_type": "stream",
          "name": "stdout",
          "text": [
            "     OD_Dice: 0.8538,     cup_Dice: 0.8262\n",
            " max_OD_Dice: 0.9156,     cup_Dice: 0.8259\n",
            "     OD_Dice: 0.9102, max_cup_Dice: 0.8467\n",
            "learning rate: 0.0001\n"
          ]
        },
        {
          "output_type": "stream",
          "name": "stderr",
          "text": [
            "Epoch 263/400: 100%|██████████| 125/125 [01:27<00:00,  1.42it/s, loss=0.018]\n"
          ]
        },
        {
          "output_type": "stream",
          "name": "stdout",
          "text": [
            "     OD_Dice: 0.8449,     cup_Dice: 0.8293\n",
            " max_OD_Dice: 0.9156,     cup_Dice: 0.8259\n",
            "     OD_Dice: 0.9102, max_cup_Dice: 0.8467\n",
            "learning rate: 0.0001\n"
          ]
        },
        {
          "output_type": "stream",
          "name": "stderr",
          "text": [
            "Epoch 264/400: 100%|██████████| 125/125 [01:27<00:00,  1.42it/s, loss=0.017]\n"
          ]
        },
        {
          "output_type": "stream",
          "name": "stdout",
          "text": [
            "     OD_Dice: 0.8302,     cup_Dice: 0.8414\n",
            " max_OD_Dice: 0.9156,     cup_Dice: 0.8259\n",
            "     OD_Dice: 0.9102, max_cup_Dice: 0.8467\n",
            "learning rate: 0.0001\n"
          ]
        },
        {
          "output_type": "stream",
          "name": "stderr",
          "text": [
            "Epoch 265/400: 100%|██████████| 125/125 [01:27<00:00,  1.42it/s, loss=0.015]\n"
          ]
        },
        {
          "output_type": "stream",
          "name": "stdout",
          "text": [
            "     OD_Dice: 0.8970,     cup_Dice: 0.8366\n",
            " max_OD_Dice: 0.9156,     cup_Dice: 0.8259\n",
            "     OD_Dice: 0.9102, max_cup_Dice: 0.8467\n",
            "learning rate: 0.0001\n"
          ]
        },
        {
          "output_type": "stream",
          "name": "stderr",
          "text": [
            "Epoch 266/400: 100%|██████████| 125/125 [01:27<00:00,  1.42it/s, loss=0.014]\n"
          ]
        },
        {
          "output_type": "stream",
          "name": "stdout",
          "text": [
            "     OD_Dice: 0.8784,     cup_Dice: 0.8373\n",
            " max_OD_Dice: 0.9156,     cup_Dice: 0.8259\n",
            "     OD_Dice: 0.9102, max_cup_Dice: 0.8467\n",
            "learning rate: 0.0001\n"
          ]
        },
        {
          "output_type": "stream",
          "name": "stderr",
          "text": [
            "Epoch 267/400: 100%|██████████| 125/125 [01:27<00:00,  1.42it/s, loss=0.014]\n"
          ]
        },
        {
          "output_type": "stream",
          "name": "stdout",
          "text": [
            "     OD_Dice: 0.8906,     cup_Dice: 0.8363\n",
            " max_OD_Dice: 0.9156,     cup_Dice: 0.8259\n",
            "     OD_Dice: 0.9102, max_cup_Dice: 0.8467\n",
            "learning rate: 0.0001\n"
          ]
        },
        {
          "output_type": "stream",
          "name": "stderr",
          "text": [
            "Epoch 268/400: 100%|██████████| 125/125 [01:28<00:00,  1.42it/s, loss=0.014]\n"
          ]
        },
        {
          "output_type": "stream",
          "name": "stdout",
          "text": [
            "     OD_Dice: 0.8824,     cup_Dice: 0.8427\n",
            " max_OD_Dice: 0.9156,     cup_Dice: 0.8259\n",
            "     OD_Dice: 0.9102, max_cup_Dice: 0.8467\n",
            "learning rate: 0.0001\n"
          ]
        },
        {
          "output_type": "stream",
          "name": "stderr",
          "text": [
            "Epoch 269/400: 100%|██████████| 125/125 [01:28<00:00,  1.42it/s, loss=0.015]\n"
          ]
        },
        {
          "output_type": "stream",
          "name": "stdout",
          "text": [
            "     OD_Dice: 0.8415,     cup_Dice: 0.8360\n",
            " max_OD_Dice: 0.9156,     cup_Dice: 0.8259\n",
            "     OD_Dice: 0.9102, max_cup_Dice: 0.8467\n",
            "learning rate: 0.0001\n"
          ]
        },
        {
          "output_type": "stream",
          "name": "stderr",
          "text": [
            "Epoch 270/400: 100%|██████████| 125/125 [01:28<00:00,  1.42it/s, loss=0.014]\n"
          ]
        },
        {
          "output_type": "stream",
          "name": "stdout",
          "text": [
            "     OD_Dice: 0.9070,     cup_Dice: 0.8382\n",
            " max_OD_Dice: 0.9156,     cup_Dice: 0.8259\n",
            "     OD_Dice: 0.9102, max_cup_Dice: 0.8467\n",
            "learning rate: 0.0001\n"
          ]
        },
        {
          "output_type": "stream",
          "name": "stderr",
          "text": [
            "Epoch 271/400: 100%|██████████| 125/125 [01:27<00:00,  1.42it/s, loss=0.014]\n"
          ]
        },
        {
          "output_type": "stream",
          "name": "stdout",
          "text": [
            "     OD_Dice: 0.9085,     cup_Dice: 0.8429\n",
            " max_OD_Dice: 0.9156,     cup_Dice: 0.8259\n",
            "     OD_Dice: 0.9102, max_cup_Dice: 0.8467\n",
            "learning rate: 0.0001\n"
          ]
        },
        {
          "output_type": "stream",
          "name": "stderr",
          "text": [
            "Epoch 272/400: 100%|██████████| 125/125 [01:27<00:00,  1.42it/s, loss=0.023]\n"
          ]
        },
        {
          "output_type": "stream",
          "name": "stdout",
          "text": [
            "     OD_Dice: 0.9140,     cup_Dice: 0.8405\n",
            " max_OD_Dice: 0.9156,     cup_Dice: 0.8259\n",
            "     OD_Dice: 0.9102, max_cup_Dice: 0.8467\n",
            "learning rate: 0.0001\n"
          ]
        },
        {
          "output_type": "stream",
          "name": "stderr",
          "text": [
            "Epoch 273/400: 100%|██████████| 125/125 [01:27<00:00,  1.42it/s, loss=0.016]\n"
          ]
        },
        {
          "output_type": "stream",
          "name": "stdout",
          "text": [
            "     OD_Dice: 0.8341,     cup_Dice: 0.8402\n",
            " max_OD_Dice: 0.9156,     cup_Dice: 0.8259\n",
            "     OD_Dice: 0.9102, max_cup_Dice: 0.8467\n",
            "learning rate: 0.0001\n"
          ]
        },
        {
          "output_type": "stream",
          "name": "stderr",
          "text": [
            "Epoch 274/400: 100%|██████████| 125/125 [01:27<00:00,  1.42it/s, loss=0.016]\n"
          ]
        },
        {
          "output_type": "stream",
          "name": "stdout",
          "text": [
            "     OD_Dice: 0.8855,     cup_Dice: 0.8331\n",
            " max_OD_Dice: 0.9156,     cup_Dice: 0.8259\n",
            "     OD_Dice: 0.9102, max_cup_Dice: 0.8467\n",
            "learning rate: 0.0001\n"
          ]
        },
        {
          "output_type": "stream",
          "name": "stderr",
          "text": [
            "Epoch 275/400: 100%|██████████| 125/125 [01:27<00:00,  1.42it/s, loss=0.015]\n"
          ]
        },
        {
          "output_type": "stream",
          "name": "stdout",
          "text": [
            "     OD_Dice: 0.8454,     cup_Dice: 0.8456\n",
            " max_OD_Dice: 0.9156,     cup_Dice: 0.8259\n",
            "     OD_Dice: 0.9102, max_cup_Dice: 0.8467\n",
            "learning rate: 0.0001\n"
          ]
        },
        {
          "output_type": "stream",
          "name": "stderr",
          "text": [
            "Epoch 276/400: 100%|██████████| 125/125 [01:28<00:00,  1.42it/s, loss=0.015]\n"
          ]
        },
        {
          "output_type": "stream",
          "name": "stdout",
          "text": [
            "     OD_Dice: 0.9074,     cup_Dice: 0.8360\n",
            " max_OD_Dice: 0.9156,     cup_Dice: 0.8259\n",
            "     OD_Dice: 0.9102, max_cup_Dice: 0.8467\n",
            "learning rate: 0.0001\n"
          ]
        },
        {
          "output_type": "stream",
          "name": "stderr",
          "text": [
            "Epoch 277/400: 100%|██████████| 125/125 [01:27<00:00,  1.42it/s, loss=0.015]\n"
          ]
        },
        {
          "output_type": "stream",
          "name": "stdout",
          "text": [
            "     OD_Dice: 0.9095,     cup_Dice: 0.8441\n",
            " max_OD_Dice: 0.9156,     cup_Dice: 0.8259\n",
            "     OD_Dice: 0.9102, max_cup_Dice: 0.8467\n",
            "learning rate: 0.0001\n"
          ]
        },
        {
          "output_type": "stream",
          "name": "stderr",
          "text": [
            "Epoch 278/400: 100%|██████████| 125/125 [01:28<00:00,  1.42it/s, loss=0.014]\n"
          ]
        },
        {
          "output_type": "stream",
          "name": "stdout",
          "text": [
            "     OD_Dice: 0.9136,     cup_Dice: 0.8367\n",
            " max_OD_Dice: 0.9156,     cup_Dice: 0.8259\n",
            "     OD_Dice: 0.9102, max_cup_Dice: 0.8467\n",
            "learning rate: 0.0001\n"
          ]
        },
        {
          "output_type": "stream",
          "name": "stderr",
          "text": [
            "Epoch 279/400: 100%|██████████| 125/125 [01:27<00:00,  1.42it/s, loss=0.021]\n"
          ]
        },
        {
          "output_type": "stream",
          "name": "stdout",
          "text": [
            "     OD_Dice: 0.8923,     cup_Dice: 0.8419\n",
            " max_OD_Dice: 0.9156,     cup_Dice: 0.8259\n",
            "     OD_Dice: 0.9102, max_cup_Dice: 0.8467\n",
            "learning rate: 0.0001\n"
          ]
        },
        {
          "output_type": "stream",
          "name": "stderr",
          "text": [
            "Epoch 280/400: 100%|██████████| 125/125 [01:27<00:00,  1.42it/s, loss=0.015]\n"
          ]
        },
        {
          "output_type": "stream",
          "name": "stdout",
          "text": [
            "     OD_Dice: 0.8779,     cup_Dice: 0.8392\n",
            " max_OD_Dice: 0.9156,     cup_Dice: 0.8259\n",
            "     OD_Dice: 0.9102, max_cup_Dice: 0.8467\n",
            "learning rate: 0.0001\n"
          ]
        },
        {
          "output_type": "stream",
          "name": "stderr",
          "text": [
            "Epoch 281/400: 100%|██████████| 125/125 [01:28<00:00,  1.42it/s, loss=0.014]\n"
          ]
        },
        {
          "output_type": "stream",
          "name": "stdout",
          "text": [
            "     OD_Dice: 0.8595,     cup_Dice: 0.8394\n",
            " max_OD_Dice: 0.9156,     cup_Dice: 0.8259\n",
            "     OD_Dice: 0.9102, max_cup_Dice: 0.8467\n",
            "learning rate: 0.0001\n"
          ]
        },
        {
          "output_type": "stream",
          "name": "stderr",
          "text": [
            "Epoch 282/400: 100%|██████████| 125/125 [01:28<00:00,  1.42it/s, loss=0.014]\n"
          ]
        },
        {
          "output_type": "stream",
          "name": "stdout",
          "text": [
            "     OD_Dice: 0.9123,     cup_Dice: 0.8437\n",
            " max_OD_Dice: 0.9156,     cup_Dice: 0.8259\n",
            "     OD_Dice: 0.9102, max_cup_Dice: 0.8467\n",
            "learning rate: 0.0001\n"
          ]
        },
        {
          "output_type": "stream",
          "name": "stderr",
          "text": [
            "Epoch 283/400: 100%|██████████| 125/125 [01:28<00:00,  1.42it/s, loss=0.014]\n"
          ]
        },
        {
          "output_type": "stream",
          "name": "stdout",
          "text": [
            "     OD_Dice: 0.9212,     cup_Dice: 0.8390\n",
            " max_OD_Dice: 0.9212,     cup_Dice: 0.8390\n",
            "     OD_Dice: 0.9102, max_cup_Dice: 0.8467\n",
            "learning rate: 0.0001\n"
          ]
        },
        {
          "output_type": "stream",
          "name": "stderr",
          "text": [
            "Epoch 284/400: 100%|██████████| 125/125 [01:28<00:00,  1.42it/s, loss=0.016]\n"
          ]
        },
        {
          "output_type": "stream",
          "name": "stdout",
          "text": [
            "     OD_Dice: 0.8627,     cup_Dice: 0.8461\n",
            " max_OD_Dice: 0.9212,     cup_Dice: 0.8390\n",
            "     OD_Dice: 0.9102, max_cup_Dice: 0.8467\n",
            "learning rate: 0.0001\n"
          ]
        },
        {
          "output_type": "stream",
          "name": "stderr",
          "text": [
            "Epoch 285/400: 100%|██████████| 125/125 [01:28<00:00,  1.42it/s, loss=0.014]\n"
          ]
        },
        {
          "output_type": "stream",
          "name": "stdout",
          "text": [
            "     OD_Dice: 0.9006,     cup_Dice: 0.8403\n",
            " max_OD_Dice: 0.9212,     cup_Dice: 0.8390\n",
            "     OD_Dice: 0.9102, max_cup_Dice: 0.8467\n",
            "learning rate: 0.0001\n"
          ]
        },
        {
          "output_type": "stream",
          "name": "stderr",
          "text": [
            "Epoch 286/400: 100%|██████████| 125/125 [01:27<00:00,  1.42it/s, loss=0.014]\n"
          ]
        },
        {
          "output_type": "stream",
          "name": "stdout",
          "text": [
            "     OD_Dice: 0.9116,     cup_Dice: 0.8377\n",
            " max_OD_Dice: 0.9212,     cup_Dice: 0.8390\n",
            "     OD_Dice: 0.9102, max_cup_Dice: 0.8467\n",
            "learning rate: 0.0001\n"
          ]
        },
        {
          "output_type": "stream",
          "name": "stderr",
          "text": [
            "Epoch 287/400: 100%|██████████| 125/125 [01:28<00:00,  1.42it/s, loss=0.014]\n"
          ]
        },
        {
          "output_type": "stream",
          "name": "stdout",
          "text": [
            "     OD_Dice: 0.9257,     cup_Dice: 0.8423\n",
            " max_OD_Dice: 0.9257,     cup_Dice: 0.8423\n",
            "     OD_Dice: 0.9102, max_cup_Dice: 0.8467\n",
            "learning rate: 0.0001\n"
          ]
        },
        {
          "output_type": "stream",
          "name": "stderr",
          "text": [
            "Epoch 288/400: 100%|██████████| 125/125 [01:28<00:00,  1.42it/s, loss=0.014]\n"
          ]
        },
        {
          "output_type": "stream",
          "name": "stdout",
          "text": [
            "     OD_Dice: 0.9117,     cup_Dice: 0.8399\n",
            " max_OD_Dice: 0.9257,     cup_Dice: 0.8423\n",
            "     OD_Dice: 0.9102, max_cup_Dice: 0.8467\n",
            "learning rate: 0.0001\n"
          ]
        },
        {
          "output_type": "stream",
          "name": "stderr",
          "text": [
            "Epoch 289/400: 100%|██████████| 125/125 [01:28<00:00,  1.42it/s, loss=0.014]\n"
          ]
        },
        {
          "output_type": "stream",
          "name": "stdout",
          "text": [
            "     OD_Dice: 0.9133,     cup_Dice: 0.8397\n",
            " max_OD_Dice: 0.9257,     cup_Dice: 0.8423\n",
            "     OD_Dice: 0.9102, max_cup_Dice: 0.8467\n",
            "learning rate: 0.0001\n"
          ]
        },
        {
          "output_type": "stream",
          "name": "stderr",
          "text": [
            "Epoch 290/400: 100%|██████████| 125/125 [01:28<00:00,  1.42it/s, loss=0.013]\n"
          ]
        },
        {
          "output_type": "stream",
          "name": "stdout",
          "text": [
            "     OD_Dice: 0.9123,     cup_Dice: 0.8402\n",
            " max_OD_Dice: 0.9257,     cup_Dice: 0.8423\n",
            "     OD_Dice: 0.9102, max_cup_Dice: 0.8467\n",
            "learning rate: 0.0001\n"
          ]
        },
        {
          "output_type": "stream",
          "name": "stderr",
          "text": [
            "Epoch 291/400: 100%|██████████| 125/125 [01:28<00:00,  1.42it/s, loss=0.013]\n"
          ]
        },
        {
          "output_type": "stream",
          "name": "stdout",
          "text": [
            "     OD_Dice: 0.9230,     cup_Dice: 0.8338\n",
            " max_OD_Dice: 0.9257,     cup_Dice: 0.8423\n",
            "     OD_Dice: 0.9102, max_cup_Dice: 0.8467\n",
            "learning rate: 0.0001\n"
          ]
        },
        {
          "output_type": "stream",
          "name": "stderr",
          "text": [
            "Epoch 292/400: 100%|██████████| 125/125 [01:28<00:00,  1.42it/s, loss=0.015]\n"
          ]
        },
        {
          "output_type": "stream",
          "name": "stdout",
          "text": [
            "     OD_Dice: 0.8920,     cup_Dice: 0.8487\n",
            " max_OD_Dice: 0.9257,     cup_Dice: 0.8423\n",
            "     OD_Dice: 0.8920, max_cup_Dice: 0.8487\n",
            "learning rate: 0.0001\n"
          ]
        },
        {
          "output_type": "stream",
          "name": "stderr",
          "text": [
            "Epoch 293/400: 100%|██████████| 125/125 [01:28<00:00,  1.42it/s, loss=0.014]\n"
          ]
        },
        {
          "output_type": "stream",
          "name": "stdout",
          "text": [
            "     OD_Dice: 0.9012,     cup_Dice: 0.8390\n",
            " max_OD_Dice: 0.9257,     cup_Dice: 0.8423\n",
            "     OD_Dice: 0.8920, max_cup_Dice: 0.8487\n",
            "learning rate: 0.0001\n"
          ]
        },
        {
          "output_type": "stream",
          "name": "stderr",
          "text": [
            "Epoch 294/400: 100%|██████████| 125/125 [01:28<00:00,  1.42it/s, loss=0.014]\n"
          ]
        },
        {
          "output_type": "stream",
          "name": "stdout",
          "text": [
            "     OD_Dice: 0.9350,     cup_Dice: 0.8340\n",
            " max_OD_Dice: 0.9350,     cup_Dice: 0.8340\n",
            "     OD_Dice: 0.8920, max_cup_Dice: 0.8487\n",
            "learning rate: 0.0001\n"
          ]
        },
        {
          "output_type": "stream",
          "name": "stderr",
          "text": [
            "Epoch 295/400: 100%|██████████| 125/125 [01:28<00:00,  1.42it/s, loss=0.013]\n"
          ]
        },
        {
          "output_type": "stream",
          "name": "stdout",
          "text": [
            "     OD_Dice: 0.9204,     cup_Dice: 0.8470\n",
            " max_OD_Dice: 0.9350,     cup_Dice: 0.8340\n",
            "     OD_Dice: 0.8920, max_cup_Dice: 0.8487\n",
            "learning rate: 0.0001\n"
          ]
        },
        {
          "output_type": "stream",
          "name": "stderr",
          "text": [
            "Epoch 296/400: 100%|██████████| 125/125 [01:27<00:00,  1.42it/s, loss=0.013]\n"
          ]
        },
        {
          "output_type": "stream",
          "name": "stdout",
          "text": [
            "     OD_Dice: 0.8939,     cup_Dice: 0.8460\n",
            " max_OD_Dice: 0.9350,     cup_Dice: 0.8340\n",
            "     OD_Dice: 0.8920, max_cup_Dice: 0.8487\n",
            "learning rate: 0.0001\n"
          ]
        },
        {
          "output_type": "stream",
          "name": "stderr",
          "text": [
            "Epoch 297/400: 100%|██████████| 125/125 [01:28<00:00,  1.42it/s, loss=0.013]\n"
          ]
        },
        {
          "output_type": "stream",
          "name": "stdout",
          "text": [
            "     OD_Dice: 0.9165,     cup_Dice: 0.8442\n",
            " max_OD_Dice: 0.9350,     cup_Dice: 0.8340\n",
            "     OD_Dice: 0.8920, max_cup_Dice: 0.8487\n",
            "learning rate: 0.0001\n"
          ]
        },
        {
          "output_type": "stream",
          "name": "stderr",
          "text": [
            "Epoch 298/400: 100%|██████████| 125/125 [01:28<00:00,  1.42it/s, loss=0.013]\n"
          ]
        },
        {
          "output_type": "stream",
          "name": "stdout",
          "text": [
            "     OD_Dice: 0.9037,     cup_Dice: 0.8459\n",
            " max_OD_Dice: 0.9350,     cup_Dice: 0.8340\n",
            "     OD_Dice: 0.8920, max_cup_Dice: 0.8487\n",
            "learning rate: 0.0001\n"
          ]
        },
        {
          "output_type": "stream",
          "name": "stderr",
          "text": [
            "Epoch 299/400: 100%|██████████| 125/125 [01:27<00:00,  1.42it/s, loss=0.013]\n"
          ]
        },
        {
          "output_type": "stream",
          "name": "stdout",
          "text": [
            "     OD_Dice: 0.9220,     cup_Dice: 0.8546\n",
            " max_OD_Dice: 0.9350,     cup_Dice: 0.8340\n",
            "     OD_Dice: 0.9220, max_cup_Dice: 0.8546\n",
            "learning rate: 0.0001\n"
          ]
        },
        {
          "output_type": "stream",
          "name": "stderr",
          "text": [
            "Epoch 300/400: 100%|██████████| 125/125 [01:27<00:00,  1.42it/s, loss=0.013]\n"
          ]
        },
        {
          "output_type": "stream",
          "name": "stdout",
          "text": [
            "     OD_Dice: 0.9176,     cup_Dice: 0.8473\n",
            " max_OD_Dice: 0.9350,     cup_Dice: 0.8340\n",
            "     OD_Dice: 0.9220, max_cup_Dice: 0.8546\n",
            "learning rate: 0.0001\n"
          ]
        },
        {
          "output_type": "stream",
          "name": "stderr",
          "text": [
            "Epoch 301/400: 100%|██████████| 125/125 [01:27<00:00,  1.42it/s, loss=0.013]\n"
          ]
        },
        {
          "output_type": "stream",
          "name": "stdout",
          "text": [
            "     OD_Dice: 0.9284,     cup_Dice: 0.8441\n",
            " max_OD_Dice: 0.9350,     cup_Dice: 0.8340\n",
            "     OD_Dice: 0.9220, max_cup_Dice: 0.8546\n",
            "learning rate: 0.0001\n"
          ]
        },
        {
          "output_type": "stream",
          "name": "stderr",
          "text": [
            "Epoch 302/400: 100%|██████████| 125/125 [01:27<00:00,  1.42it/s, loss=0.013]\n"
          ]
        },
        {
          "output_type": "stream",
          "name": "stdout",
          "text": [
            "     OD_Dice: 0.9252,     cup_Dice: 0.8376\n",
            " max_OD_Dice: 0.9350,     cup_Dice: 0.8340\n",
            "     OD_Dice: 0.9220, max_cup_Dice: 0.8546\n",
            "learning rate: 0.0001\n"
          ]
        },
        {
          "output_type": "stream",
          "name": "stderr",
          "text": [
            "Epoch 303/400: 100%|██████████| 125/125 [01:27<00:00,  1.42it/s, loss=0.013]\n"
          ]
        },
        {
          "output_type": "stream",
          "name": "stdout",
          "text": [
            "     OD_Dice: 0.9263,     cup_Dice: 0.8452\n",
            " max_OD_Dice: 0.9350,     cup_Dice: 0.8340\n",
            "     OD_Dice: 0.9220, max_cup_Dice: 0.8546\n",
            "learning rate: 0.0001\n"
          ]
        },
        {
          "output_type": "stream",
          "name": "stderr",
          "text": [
            "Epoch 304/400: 100%|██████████| 125/125 [01:27<00:00,  1.42it/s, loss=0.012]\n"
          ]
        },
        {
          "output_type": "stream",
          "name": "stdout",
          "text": [
            "     OD_Dice: 0.9204,     cup_Dice: 0.8533\n",
            " max_OD_Dice: 0.9350,     cup_Dice: 0.8340\n",
            "     OD_Dice: 0.9220, max_cup_Dice: 0.8546\n",
            "learning rate: 0.0001\n"
          ]
        },
        {
          "output_type": "stream",
          "name": "stderr",
          "text": [
            "Epoch 305/400: 100%|██████████| 125/125 [01:28<00:00,  1.42it/s, loss=0.013]\n"
          ]
        },
        {
          "output_type": "stream",
          "name": "stdout",
          "text": [
            "     OD_Dice: 0.9324,     cup_Dice: 0.8468\n",
            " max_OD_Dice: 0.9350,     cup_Dice: 0.8340\n",
            "     OD_Dice: 0.9220, max_cup_Dice: 0.8546\n",
            "learning rate: 0.0001\n"
          ]
        },
        {
          "output_type": "stream",
          "name": "stderr",
          "text": [
            "Epoch 306/400: 100%|██████████| 125/125 [01:27<00:00,  1.42it/s, loss=0.013]\n"
          ]
        },
        {
          "output_type": "stream",
          "name": "stdout",
          "text": [
            "     OD_Dice: 0.9018,     cup_Dice: 0.8512\n",
            " max_OD_Dice: 0.9350,     cup_Dice: 0.8340\n",
            "     OD_Dice: 0.9220, max_cup_Dice: 0.8546\n",
            "learning rate: 0.0001\n"
          ]
        },
        {
          "output_type": "stream",
          "name": "stderr",
          "text": [
            "Epoch 307/400: 100%|██████████| 125/125 [01:27<00:00,  1.42it/s, loss=0.013]\n"
          ]
        },
        {
          "output_type": "stream",
          "name": "stdout",
          "text": [
            "     OD_Dice: 0.9259,     cup_Dice: 0.8462\n",
            " max_OD_Dice: 0.9350,     cup_Dice: 0.8340\n",
            "     OD_Dice: 0.9220, max_cup_Dice: 0.8546\n",
            "learning rate: 0.0001\n"
          ]
        },
        {
          "output_type": "stream",
          "name": "stderr",
          "text": [
            "Epoch 308/400: 100%|██████████| 125/125 [01:28<00:00,  1.42it/s, loss=0.013]\n"
          ]
        },
        {
          "output_type": "stream",
          "name": "stdout",
          "text": [
            "     OD_Dice: 0.9320,     cup_Dice: 0.8425\n",
            " max_OD_Dice: 0.9350,     cup_Dice: 0.8340\n",
            "     OD_Dice: 0.9220, max_cup_Dice: 0.8546\n",
            "learning rate: 0.0001\n"
          ]
        },
        {
          "output_type": "stream",
          "name": "stderr",
          "text": [
            "Epoch 309/400: 100%|██████████| 125/125 [01:28<00:00,  1.42it/s, loss=0.013]\n"
          ]
        },
        {
          "output_type": "stream",
          "name": "stdout",
          "text": [
            "     OD_Dice: 0.9260,     cup_Dice: 0.8449\n",
            " max_OD_Dice: 0.9350,     cup_Dice: 0.8340\n",
            "     OD_Dice: 0.9220, max_cup_Dice: 0.8546\n",
            "learning rate: 0.0001\n"
          ]
        },
        {
          "output_type": "stream",
          "name": "stderr",
          "text": [
            "Epoch 310/400: 100%|██████████| 125/125 [01:28<00:00,  1.42it/s, loss=0.014]\n"
          ]
        },
        {
          "output_type": "stream",
          "name": "stdout",
          "text": [
            "     OD_Dice: 0.9222,     cup_Dice: 0.8521\n",
            " max_OD_Dice: 0.9350,     cup_Dice: 0.8340\n",
            "     OD_Dice: 0.9220, max_cup_Dice: 0.8546\n",
            "learning rate: 0.0001\n"
          ]
        },
        {
          "output_type": "stream",
          "name": "stderr",
          "text": [
            "Epoch 311/400: 100%|██████████| 125/125 [01:28<00:00,  1.42it/s, loss=0.013]\n"
          ]
        },
        {
          "output_type": "stream",
          "name": "stdout",
          "text": [
            "     OD_Dice: 0.9225,     cup_Dice: 0.8538\n",
            " max_OD_Dice: 0.9350,     cup_Dice: 0.8340\n",
            "     OD_Dice: 0.9220, max_cup_Dice: 0.8546\n",
            "learning rate: 0.0001\n"
          ]
        },
        {
          "output_type": "stream",
          "name": "stderr",
          "text": [
            "Epoch 312/400: 100%|██████████| 125/125 [01:28<00:00,  1.42it/s, loss=0.012]\n"
          ]
        },
        {
          "output_type": "stream",
          "name": "stdout",
          "text": [
            "     OD_Dice: 0.9301,     cup_Dice: 0.8530\n",
            " max_OD_Dice: 0.9350,     cup_Dice: 0.8340\n",
            "     OD_Dice: 0.9220, max_cup_Dice: 0.8546\n",
            "learning rate: 0.0001\n"
          ]
        },
        {
          "output_type": "stream",
          "name": "stderr",
          "text": [
            "Epoch 313/400: 100%|██████████| 125/125 [01:28<00:00,  1.42it/s, loss=0.012]\n"
          ]
        },
        {
          "output_type": "stream",
          "name": "stdout",
          "text": [
            "     OD_Dice: 0.9331,     cup_Dice: 0.8487\n",
            " max_OD_Dice: 0.9350,     cup_Dice: 0.8340\n",
            "     OD_Dice: 0.9220, max_cup_Dice: 0.8546\n",
            "learning rate: 0.0001\n"
          ]
        },
        {
          "output_type": "stream",
          "name": "stderr",
          "text": [
            "Epoch 314/400: 100%|██████████| 125/125 [01:28<00:00,  1.42it/s, loss=0.012]\n"
          ]
        },
        {
          "output_type": "stream",
          "name": "stdout",
          "text": [
            "     OD_Dice: 0.9188,     cup_Dice: 0.8509\n",
            " max_OD_Dice: 0.9350,     cup_Dice: 0.8340\n",
            "     OD_Dice: 0.9220, max_cup_Dice: 0.8546\n",
            "learning rate: 0.0001\n"
          ]
        },
        {
          "output_type": "stream",
          "name": "stderr",
          "text": [
            "Epoch 315/400: 100%|██████████| 125/125 [01:28<00:00,  1.42it/s, loss=0.013]\n"
          ]
        },
        {
          "output_type": "stream",
          "name": "stdout",
          "text": [
            "     OD_Dice: 0.9335,     cup_Dice: 0.8546\n",
            " max_OD_Dice: 0.9350,     cup_Dice: 0.8340\n",
            "     OD_Dice: 0.9220, max_cup_Dice: 0.8546\n",
            "learning rate: 0.0001\n"
          ]
        },
        {
          "output_type": "stream",
          "name": "stderr",
          "text": [
            "Epoch 316/400: 100%|██████████| 125/125 [01:28<00:00,  1.42it/s, loss=0.013]\n"
          ]
        },
        {
          "output_type": "stream",
          "name": "stdout",
          "text": [
            "     OD_Dice: 0.9166,     cup_Dice: 0.8452\n",
            " max_OD_Dice: 0.9350,     cup_Dice: 0.8340\n",
            "     OD_Dice: 0.9220, max_cup_Dice: 0.8546\n",
            "learning rate: 0.0001\n"
          ]
        },
        {
          "output_type": "stream",
          "name": "stderr",
          "text": [
            "Epoch 317/400: 100%|██████████| 125/125 [01:28<00:00,  1.42it/s, loss=0.012]\n"
          ]
        },
        {
          "output_type": "stream",
          "name": "stdout",
          "text": [
            "     OD_Dice: 0.9294,     cup_Dice: 0.8526\n",
            " max_OD_Dice: 0.9350,     cup_Dice: 0.8340\n",
            "     OD_Dice: 0.9220, max_cup_Dice: 0.8546\n",
            "learning rate: 0.0001\n"
          ]
        },
        {
          "output_type": "stream",
          "name": "stderr",
          "text": [
            "Epoch 318/400: 100%|██████████| 125/125 [01:28<00:00,  1.42it/s, loss=0.013]\n"
          ]
        },
        {
          "output_type": "stream",
          "name": "stdout",
          "text": [
            "     OD_Dice: 0.9351,     cup_Dice: 0.8565\n",
            " max_OD_Dice: 0.9351,     cup_Dice: 0.8565\n",
            "     OD_Dice: 0.9351, max_cup_Dice: 0.8565\n",
            "learning rate: 0.0001\n"
          ]
        },
        {
          "output_type": "stream",
          "name": "stderr",
          "text": [
            "Epoch 319/400: 100%|██████████| 125/125 [01:27<00:00,  1.42it/s, loss=0.012]\n"
          ]
        },
        {
          "output_type": "stream",
          "name": "stdout",
          "text": [
            "     OD_Dice: 0.9282,     cup_Dice: 0.8462\n",
            " max_OD_Dice: 0.9351,     cup_Dice: 0.8565\n",
            "     OD_Dice: 0.9351, max_cup_Dice: 0.8565\n",
            "learning rate: 0.0001\n"
          ]
        },
        {
          "output_type": "stream",
          "name": "stderr",
          "text": [
            "Epoch 320/400: 100%|██████████| 125/125 [01:27<00:00,  1.42it/s, loss=0.012]\n"
          ]
        },
        {
          "output_type": "stream",
          "name": "stdout",
          "text": [
            "     OD_Dice: 0.9313,     cup_Dice: 0.8546\n",
            " max_OD_Dice: 0.9351,     cup_Dice: 0.8565\n",
            "     OD_Dice: 0.9351, max_cup_Dice: 0.8565\n",
            "learning rate: 0.0001\n"
          ]
        },
        {
          "output_type": "stream",
          "name": "stderr",
          "text": [
            "Epoch 321/400: 100%|██████████| 125/125 [01:27<00:00,  1.42it/s, loss=0.014]\n"
          ]
        },
        {
          "output_type": "stream",
          "name": "stdout",
          "text": [
            "     OD_Dice: 0.9258,     cup_Dice: 0.8388\n",
            " max_OD_Dice: 0.9351,     cup_Dice: 0.8565\n",
            "     OD_Dice: 0.9351, max_cup_Dice: 0.8565\n",
            "learning rate: 0.0001\n"
          ]
        },
        {
          "output_type": "stream",
          "name": "stderr",
          "text": [
            "Epoch 322/400: 100%|██████████| 125/125 [01:28<00:00,  1.42it/s, loss=0.014]\n"
          ]
        },
        {
          "output_type": "stream",
          "name": "stdout",
          "text": [
            "     OD_Dice: 0.9322,     cup_Dice: 0.8464\n",
            " max_OD_Dice: 0.9351,     cup_Dice: 0.8565\n",
            "     OD_Dice: 0.9351, max_cup_Dice: 0.8565\n",
            "learning rate: 0.0001\n"
          ]
        },
        {
          "output_type": "stream",
          "name": "stderr",
          "text": [
            "Epoch 323/400: 100%|██████████| 125/125 [01:28<00:00,  1.42it/s, loss=0.013]\n"
          ]
        },
        {
          "output_type": "stream",
          "name": "stdout",
          "text": [
            "     OD_Dice: 0.9284,     cup_Dice: 0.8521\n",
            " max_OD_Dice: 0.9351,     cup_Dice: 0.8565\n",
            "     OD_Dice: 0.9351, max_cup_Dice: 0.8565\n",
            "learning rate: 0.0001\n"
          ]
        },
        {
          "output_type": "stream",
          "name": "stderr",
          "text": [
            "Epoch 324/400: 100%|██████████| 125/125 [01:28<00:00,  1.42it/s, loss=0.012]\n"
          ]
        },
        {
          "output_type": "stream",
          "name": "stdout",
          "text": [
            "     OD_Dice: 0.9314,     cup_Dice: 0.8506\n",
            " max_OD_Dice: 0.9351,     cup_Dice: 0.8565\n",
            "     OD_Dice: 0.9351, max_cup_Dice: 0.8565\n",
            "learning rate: 0.0001\n"
          ]
        },
        {
          "output_type": "stream",
          "name": "stderr",
          "text": [
            "Epoch 325/400: 100%|██████████| 125/125 [01:27<00:00,  1.42it/s, loss=0.013]\n"
          ]
        },
        {
          "output_type": "stream",
          "name": "stdout",
          "text": [
            "     OD_Dice: 0.9352,     cup_Dice: 0.8507\n",
            " max_OD_Dice: 0.9352,     cup_Dice: 0.8507\n",
            "     OD_Dice: 0.9351, max_cup_Dice: 0.8565\n",
            "learning rate: 0.0001\n"
          ]
        },
        {
          "output_type": "stream",
          "name": "stderr",
          "text": [
            "Epoch 326/400: 100%|██████████| 125/125 [01:28<00:00,  1.42it/s, loss=0.012]\n"
          ]
        },
        {
          "output_type": "stream",
          "name": "stdout",
          "text": [
            "     OD_Dice: 0.9285,     cup_Dice: 0.8450\n",
            " max_OD_Dice: 0.9352,     cup_Dice: 0.8507\n",
            "     OD_Dice: 0.9351, max_cup_Dice: 0.8565\n",
            "learning rate: 0.0001\n"
          ]
        },
        {
          "output_type": "stream",
          "name": "stderr",
          "text": [
            "Epoch 327/400: 100%|██████████| 125/125 [01:28<00:00,  1.42it/s, loss=0.012]\n"
          ]
        },
        {
          "output_type": "stream",
          "name": "stdout",
          "text": [
            "     OD_Dice: 0.9345,     cup_Dice: 0.8432\n",
            " max_OD_Dice: 0.9352,     cup_Dice: 0.8507\n",
            "     OD_Dice: 0.9351, max_cup_Dice: 0.8565\n",
            "learning rate: 0.0001\n"
          ]
        },
        {
          "output_type": "stream",
          "name": "stderr",
          "text": [
            "Epoch 328/400: 100%|██████████| 125/125 [01:28<00:00,  1.42it/s, loss=0.012]\n"
          ]
        },
        {
          "output_type": "stream",
          "name": "stdout",
          "text": [
            "     OD_Dice: 0.9316,     cup_Dice: 0.8541\n",
            " max_OD_Dice: 0.9352,     cup_Dice: 0.8507\n",
            "     OD_Dice: 0.9351, max_cup_Dice: 0.8565\n",
            "learning rate: 0.0001\n"
          ]
        },
        {
          "output_type": "stream",
          "name": "stderr",
          "text": [
            "Epoch 329/400: 100%|██████████| 125/125 [01:28<00:00,  1.42it/s, loss=0.012]\n"
          ]
        },
        {
          "output_type": "stream",
          "name": "stdout",
          "text": [
            "     OD_Dice: 0.9342,     cup_Dice: 0.8537\n",
            " max_OD_Dice: 0.9352,     cup_Dice: 0.8507\n",
            "     OD_Dice: 0.9351, max_cup_Dice: 0.8565\n",
            "learning rate: 0.0001\n"
          ]
        },
        {
          "output_type": "stream",
          "name": "stderr",
          "text": [
            "Epoch 330/400: 100%|██████████| 125/125 [01:28<00:00,  1.42it/s, loss=0.012]\n"
          ]
        },
        {
          "output_type": "stream",
          "name": "stdout",
          "text": [
            "     OD_Dice: 0.9351,     cup_Dice: 0.8492\n",
            " max_OD_Dice: 0.9352,     cup_Dice: 0.8507\n",
            "     OD_Dice: 0.9351, max_cup_Dice: 0.8565\n",
            "learning rate: 0.0001\n"
          ]
        },
        {
          "output_type": "stream",
          "name": "stderr",
          "text": [
            "Epoch 331/400: 100%|██████████| 125/125 [01:28<00:00,  1.42it/s, loss=0.012]\n"
          ]
        },
        {
          "output_type": "stream",
          "name": "stdout",
          "text": [
            "     OD_Dice: 0.9082,     cup_Dice: 0.8563\n",
            " max_OD_Dice: 0.9352,     cup_Dice: 0.8507\n",
            "     OD_Dice: 0.9351, max_cup_Dice: 0.8565\n",
            "learning rate: 0.0001\n"
          ]
        },
        {
          "output_type": "stream",
          "name": "stderr",
          "text": [
            "Epoch 332/400: 100%|██████████| 125/125 [01:28<00:00,  1.42it/s, loss=0.012]\n"
          ]
        },
        {
          "output_type": "stream",
          "name": "stdout",
          "text": [
            "     OD_Dice: 0.9338,     cup_Dice: 0.8524\n",
            " max_OD_Dice: 0.9352,     cup_Dice: 0.8507\n",
            "     OD_Dice: 0.9351, max_cup_Dice: 0.8565\n",
            "learning rate: 0.0001\n"
          ]
        },
        {
          "output_type": "stream",
          "name": "stderr",
          "text": [
            "Epoch 333/400: 100%|██████████| 125/125 [01:28<00:00,  1.42it/s, loss=0.012]\n"
          ]
        },
        {
          "output_type": "stream",
          "name": "stdout",
          "text": [
            "     OD_Dice: 0.8925,     cup_Dice: 0.8569\n",
            " max_OD_Dice: 0.9352,     cup_Dice: 0.8507\n",
            "     OD_Dice: 0.8925, max_cup_Dice: 0.8569\n",
            "learning rate: 0.0001\n"
          ]
        },
        {
          "output_type": "stream",
          "name": "stderr",
          "text": [
            "Epoch 334/400: 100%|██████████| 125/125 [01:28<00:00,  1.42it/s, loss=0.012]\n"
          ]
        },
        {
          "output_type": "stream",
          "name": "stdout",
          "text": [
            "     OD_Dice: 0.9364,     cup_Dice: 0.8550\n",
            " max_OD_Dice: 0.9364,     cup_Dice: 0.8550\n",
            "     OD_Dice: 0.8925, max_cup_Dice: 0.8569\n",
            "learning rate: 0.0001\n"
          ]
        },
        {
          "output_type": "stream",
          "name": "stderr",
          "text": [
            "Epoch 335/400: 100%|██████████| 125/125 [01:28<00:00,  1.42it/s, loss=0.058]\n"
          ]
        },
        {
          "output_type": "stream",
          "name": "stdout",
          "text": [
            "     OD_Dice: 0.8847,     cup_Dice: 0.8492\n",
            " max_OD_Dice: 0.9364,     cup_Dice: 0.8550\n",
            "     OD_Dice: 0.8925, max_cup_Dice: 0.8569\n",
            "learning rate: 0.0001\n"
          ]
        },
        {
          "output_type": "stream",
          "name": "stderr",
          "text": [
            "Epoch 336/400: 100%|██████████| 125/125 [01:28<00:00,  1.42it/s, loss=0.026]\n"
          ]
        },
        {
          "output_type": "stream",
          "name": "stdout",
          "text": [
            "     OD_Dice: 0.8509,     cup_Dice: 0.8400\n",
            " max_OD_Dice: 0.9364,     cup_Dice: 0.8550\n",
            "     OD_Dice: 0.8925, max_cup_Dice: 0.8569\n",
            "learning rate: 0.0001\n"
          ]
        },
        {
          "output_type": "stream",
          "name": "stderr",
          "text": [
            "Epoch 337/400: 100%|██████████| 125/125 [01:28<00:00,  1.42it/s, loss=0.021]\n"
          ]
        },
        {
          "output_type": "stream",
          "name": "stdout",
          "text": [
            "     OD_Dice: 0.9169,     cup_Dice: 0.8446\n",
            " max_OD_Dice: 0.9364,     cup_Dice: 0.8550\n",
            "     OD_Dice: 0.8925, max_cup_Dice: 0.8569\n",
            "learning rate: 0.0001\n"
          ]
        },
        {
          "output_type": "stream",
          "name": "stderr",
          "text": [
            "Epoch 338/400: 100%|██████████| 125/125 [01:28<00:00,  1.42it/s, loss=0.015]\n"
          ]
        },
        {
          "output_type": "stream",
          "name": "stdout",
          "text": [
            "     OD_Dice: 0.9238,     cup_Dice: 0.8522\n",
            " max_OD_Dice: 0.9364,     cup_Dice: 0.8550\n",
            "     OD_Dice: 0.8925, max_cup_Dice: 0.8569\n",
            "learning rate: 0.0001\n"
          ]
        },
        {
          "output_type": "stream",
          "name": "stderr",
          "text": [
            "Epoch 339/400: 100%|██████████| 125/125 [01:28<00:00,  1.42it/s, loss=0.018]\n"
          ]
        },
        {
          "output_type": "stream",
          "name": "stdout",
          "text": [
            "     OD_Dice: 0.9224,     cup_Dice: 0.8345\n",
            " max_OD_Dice: 0.9364,     cup_Dice: 0.8550\n",
            "     OD_Dice: 0.8925, max_cup_Dice: 0.8569\n",
            "learning rate: 0.0001\n"
          ]
        },
        {
          "output_type": "stream",
          "name": "stderr",
          "text": [
            "Epoch 340/400: 100%|██████████| 125/125 [01:28<00:00,  1.42it/s, loss=0.017]\n"
          ]
        },
        {
          "output_type": "stream",
          "name": "stdout",
          "text": [
            "     OD_Dice: 0.9097,     cup_Dice: 0.8461\n",
            " max_OD_Dice: 0.9364,     cup_Dice: 0.8550\n",
            "     OD_Dice: 0.8925, max_cup_Dice: 0.8569\n",
            "learning rate: 0.0001\n"
          ]
        },
        {
          "output_type": "stream",
          "name": "stderr",
          "text": [
            "Epoch 341/400: 100%|██████████| 125/125 [01:28<00:00,  1.42it/s, loss=0.016]\n"
          ]
        },
        {
          "output_type": "stream",
          "name": "stdout",
          "text": [
            "     OD_Dice: 0.8989,     cup_Dice: 0.8461\n",
            " max_OD_Dice: 0.9364,     cup_Dice: 0.8550\n",
            "     OD_Dice: 0.8925, max_cup_Dice: 0.8569\n",
            "learning rate: 0.0001\n"
          ]
        },
        {
          "output_type": "stream",
          "name": "stderr",
          "text": [
            "Epoch 342/400: 100%|██████████| 125/125 [01:28<00:00,  1.42it/s, loss=0.014]\n"
          ]
        },
        {
          "output_type": "stream",
          "name": "stdout",
          "text": [
            "     OD_Dice: 0.9214,     cup_Dice: 0.8465\n",
            " max_OD_Dice: 0.9364,     cup_Dice: 0.8550\n",
            "     OD_Dice: 0.8925, max_cup_Dice: 0.8569\n",
            "learning rate: 0.0001\n"
          ]
        },
        {
          "output_type": "stream",
          "name": "stderr",
          "text": [
            "Epoch 343/400: 100%|██████████| 125/125 [01:28<00:00,  1.42it/s, loss=0.014]\n"
          ]
        },
        {
          "output_type": "stream",
          "name": "stdout",
          "text": [
            "     OD_Dice: 0.9275,     cup_Dice: 0.8404\n",
            " max_OD_Dice: 0.9364,     cup_Dice: 0.8550\n",
            "     OD_Dice: 0.8925, max_cup_Dice: 0.8569\n",
            "learning rate: 0.0001\n"
          ]
        },
        {
          "output_type": "stream",
          "name": "stderr",
          "text": [
            "Epoch 344/400: 100%|██████████| 125/125 [01:28<00:00,  1.42it/s, loss=0.014]\n"
          ]
        },
        {
          "output_type": "stream",
          "name": "stdout",
          "text": [
            "     OD_Dice: 0.9260,     cup_Dice: 0.8527\n",
            " max_OD_Dice: 0.9364,     cup_Dice: 0.8550\n",
            "     OD_Dice: 0.8925, max_cup_Dice: 0.8569\n",
            "learning rate: 0.0001\n"
          ]
        },
        {
          "output_type": "stream",
          "name": "stderr",
          "text": [
            "Epoch 345/400: 100%|██████████| 125/125 [01:28<00:00,  1.42it/s, loss=0.014]\n"
          ]
        },
        {
          "output_type": "stream",
          "name": "stdout",
          "text": [
            "     OD_Dice: 0.9218,     cup_Dice: 0.8491\n",
            " max_OD_Dice: 0.9364,     cup_Dice: 0.8550\n",
            "     OD_Dice: 0.8925, max_cup_Dice: 0.8569\n",
            "learning rate: 0.0001\n"
          ]
        },
        {
          "output_type": "stream",
          "name": "stderr",
          "text": [
            "Epoch 346/400: 100%|██████████| 125/125 [01:28<00:00,  1.42it/s, loss=0.013]\n"
          ]
        },
        {
          "output_type": "stream",
          "name": "stdout",
          "text": [
            "     OD_Dice: 0.9169,     cup_Dice: 0.8483\n",
            " max_OD_Dice: 0.9364,     cup_Dice: 0.8550\n",
            "     OD_Dice: 0.8925, max_cup_Dice: 0.8569\n",
            "learning rate: 0.0001\n"
          ]
        },
        {
          "output_type": "stream",
          "name": "stderr",
          "text": [
            "Epoch 347/400: 100%|██████████| 125/125 [01:28<00:00,  1.42it/s, loss=0.013]\n"
          ]
        },
        {
          "output_type": "stream",
          "name": "stdout",
          "text": [
            "     OD_Dice: 0.8856,     cup_Dice: 0.8455\n",
            " max_OD_Dice: 0.9364,     cup_Dice: 0.8550\n",
            "     OD_Dice: 0.8925, max_cup_Dice: 0.8569\n",
            "learning rate: 0.0001\n"
          ]
        },
        {
          "output_type": "stream",
          "name": "stderr",
          "text": [
            "Epoch 348/400: 100%|██████████| 125/125 [01:28<00:00,  1.42it/s, loss=0.013]\n"
          ]
        },
        {
          "output_type": "stream",
          "name": "stdout",
          "text": [
            "     OD_Dice: 0.9284,     cup_Dice: 0.8412\n",
            " max_OD_Dice: 0.9364,     cup_Dice: 0.8550\n",
            "     OD_Dice: 0.8925, max_cup_Dice: 0.8569\n",
            "learning rate: 0.0001\n"
          ]
        },
        {
          "output_type": "stream",
          "name": "stderr",
          "text": [
            "Epoch 349/400: 100%|██████████| 125/125 [01:28<00:00,  1.42it/s, loss=0.012]\n"
          ]
        },
        {
          "output_type": "stream",
          "name": "stdout",
          "text": [
            "     OD_Dice: 0.9260,     cup_Dice: 0.8439\n",
            " max_OD_Dice: 0.9364,     cup_Dice: 0.8550\n",
            "     OD_Dice: 0.8925, max_cup_Dice: 0.8569\n",
            "learning rate: 0.0001\n"
          ]
        },
        {
          "output_type": "stream",
          "name": "stderr",
          "text": [
            "Epoch 350/400: 100%|██████████| 125/125 [01:28<00:00,  1.42it/s, loss=0.012]\n"
          ]
        },
        {
          "output_type": "stream",
          "name": "stdout",
          "text": [
            "     OD_Dice: 0.9251,     cup_Dice: 0.8502\n",
            " max_OD_Dice: 0.9364,     cup_Dice: 0.8550\n",
            "     OD_Dice: 0.8925, max_cup_Dice: 0.8569\n",
            "learning rate: 0.0001\n"
          ]
        },
        {
          "output_type": "stream",
          "name": "stderr",
          "text": [
            "Epoch 351/400: 100%|██████████| 125/125 [01:28<00:00,  1.42it/s, loss=0.012]\n"
          ]
        },
        {
          "output_type": "stream",
          "name": "stdout",
          "text": [
            "     OD_Dice: 0.9283,     cup_Dice: 0.8476\n",
            " max_OD_Dice: 0.9364,     cup_Dice: 0.8550\n",
            "     OD_Dice: 0.8925, max_cup_Dice: 0.8569\n",
            "learning rate: 0.0001\n"
          ]
        },
        {
          "output_type": "stream",
          "name": "stderr",
          "text": [
            "Epoch 352/400: 100%|██████████| 125/125 [01:28<00:00,  1.42it/s, loss=0.012]\n"
          ]
        },
        {
          "output_type": "stream",
          "name": "stdout",
          "text": [
            "     OD_Dice: 0.9373,     cup_Dice: 0.8514\n",
            " max_OD_Dice: 0.9373,     cup_Dice: 0.8514\n",
            "     OD_Dice: 0.8925, max_cup_Dice: 0.8569\n",
            "learning rate: 0.0001\n"
          ]
        },
        {
          "output_type": "stream",
          "name": "stderr",
          "text": [
            "Epoch 353/400: 100%|██████████| 125/125 [01:28<00:00,  1.42it/s, loss=0.012]\n"
          ]
        },
        {
          "output_type": "stream",
          "name": "stdout",
          "text": [
            "     OD_Dice: 0.9298,     cup_Dice: 0.8499\n",
            " max_OD_Dice: 0.9373,     cup_Dice: 0.8514\n",
            "     OD_Dice: 0.8925, max_cup_Dice: 0.8569\n",
            "learning rate: 0.0001\n"
          ]
        },
        {
          "output_type": "stream",
          "name": "stderr",
          "text": [
            "Epoch 354/400: 100%|██████████| 125/125 [01:28<00:00,  1.42it/s, loss=0.012]\n"
          ]
        },
        {
          "output_type": "stream",
          "name": "stdout",
          "text": [
            "     OD_Dice: 0.9324,     cup_Dice: 0.8487\n",
            " max_OD_Dice: 0.9373,     cup_Dice: 0.8514\n",
            "     OD_Dice: 0.8925, max_cup_Dice: 0.8569\n",
            "learning rate: 0.0001\n"
          ]
        },
        {
          "output_type": "stream",
          "name": "stderr",
          "text": [
            "Epoch 355/400: 100%|██████████| 125/125 [01:28<00:00,  1.42it/s, loss=0.012]\n"
          ]
        },
        {
          "output_type": "stream",
          "name": "stdout",
          "text": [
            "     OD_Dice: 0.9192,     cup_Dice: 0.8503\n",
            " max_OD_Dice: 0.9373,     cup_Dice: 0.8514\n",
            "     OD_Dice: 0.8925, max_cup_Dice: 0.8569\n",
            "learning rate: 0.0001\n"
          ]
        },
        {
          "output_type": "stream",
          "name": "stderr",
          "text": [
            "Epoch 356/400: 100%|██████████| 125/125 [01:28<00:00,  1.42it/s, loss=0.012]\n"
          ]
        },
        {
          "output_type": "stream",
          "name": "stdout",
          "text": [
            "     OD_Dice: 0.9183,     cup_Dice: 0.8531\n",
            " max_OD_Dice: 0.9373,     cup_Dice: 0.8514\n",
            "     OD_Dice: 0.8925, max_cup_Dice: 0.8569\n",
            "learning rate: 0.0001\n"
          ]
        },
        {
          "output_type": "stream",
          "name": "stderr",
          "text": [
            "Epoch 357/400: 100%|██████████| 125/125 [01:28<00:00,  1.42it/s, loss=0.012]\n"
          ]
        },
        {
          "output_type": "stream",
          "name": "stdout",
          "text": [
            "     OD_Dice: 0.9163,     cup_Dice: 0.8530\n",
            " max_OD_Dice: 0.9373,     cup_Dice: 0.8514\n",
            "     OD_Dice: 0.8925, max_cup_Dice: 0.8569\n",
            "learning rate: 0.0001\n"
          ]
        },
        {
          "output_type": "stream",
          "name": "stderr",
          "text": [
            "Epoch 358/400: 100%|██████████| 125/125 [01:28<00:00,  1.42it/s, loss=0.012]\n"
          ]
        },
        {
          "output_type": "stream",
          "name": "stdout",
          "text": [
            "     OD_Dice: 0.9236,     cup_Dice: 0.8550\n",
            " max_OD_Dice: 0.9373,     cup_Dice: 0.8514\n",
            "     OD_Dice: 0.8925, max_cup_Dice: 0.8569\n",
            "learning rate: 0.0001\n"
          ]
        },
        {
          "output_type": "stream",
          "name": "stderr",
          "text": [
            "Epoch 359/400: 100%|██████████| 125/125 [01:28<00:00,  1.42it/s, loss=0.011]\n"
          ]
        },
        {
          "output_type": "stream",
          "name": "stdout",
          "text": [
            "     OD_Dice: 0.9324,     cup_Dice: 0.8481\n",
            " max_OD_Dice: 0.9373,     cup_Dice: 0.8514\n",
            "     OD_Dice: 0.8925, max_cup_Dice: 0.8569\n",
            "learning rate: 0.0001\n"
          ]
        },
        {
          "output_type": "stream",
          "name": "stderr",
          "text": [
            "Epoch 360/400: 100%|██████████| 125/125 [01:28<00:00,  1.42it/s, loss=0.012]\n"
          ]
        },
        {
          "output_type": "stream",
          "name": "stdout",
          "text": [
            "     OD_Dice: 0.9333,     cup_Dice: 0.8517\n",
            " max_OD_Dice: 0.9373,     cup_Dice: 0.8514\n",
            "     OD_Dice: 0.8925, max_cup_Dice: 0.8569\n",
            "learning rate: 0.0001\n"
          ]
        },
        {
          "output_type": "stream",
          "name": "stderr",
          "text": [
            "Epoch 361/400: 100%|██████████| 125/125 [01:28<00:00,  1.42it/s, loss=0.012]\n"
          ]
        },
        {
          "output_type": "stream",
          "name": "stdout",
          "text": [
            "     OD_Dice: 0.9162,     cup_Dice: 0.8568\n",
            " max_OD_Dice: 0.9373,     cup_Dice: 0.8514\n",
            "     OD_Dice: 0.8925, max_cup_Dice: 0.8569\n",
            "learning rate: 0.0001\n"
          ]
        },
        {
          "output_type": "stream",
          "name": "stderr",
          "text": [
            "Epoch 362/400: 100%|██████████| 125/125 [01:28<00:00,  1.42it/s, loss=0.012]\n"
          ]
        },
        {
          "output_type": "stream",
          "name": "stdout",
          "text": [
            "     OD_Dice: 0.9351,     cup_Dice: 0.8557\n",
            " max_OD_Dice: 0.9373,     cup_Dice: 0.8514\n",
            "     OD_Dice: 0.8925, max_cup_Dice: 0.8569\n",
            "learning rate: 0.0001\n"
          ]
        },
        {
          "output_type": "stream",
          "name": "stderr",
          "text": [
            "Epoch 363/400: 100%|██████████| 125/125 [01:28<00:00,  1.42it/s, loss=0.012]\n"
          ]
        },
        {
          "output_type": "stream",
          "name": "stdout",
          "text": [
            "     OD_Dice: 0.9280,     cup_Dice: 0.8554\n",
            " max_OD_Dice: 0.9373,     cup_Dice: 0.8514\n",
            "     OD_Dice: 0.8925, max_cup_Dice: 0.8569\n",
            "learning rate: 0.0001\n"
          ]
        },
        {
          "output_type": "stream",
          "name": "stderr",
          "text": [
            "Epoch 364/400: 100%|██████████| 125/125 [01:28<00:00,  1.42it/s, loss=0.012]\n"
          ]
        },
        {
          "output_type": "stream",
          "name": "stdout",
          "text": [
            "     OD_Dice: 0.9350,     cup_Dice: 0.8512\n",
            " max_OD_Dice: 0.9373,     cup_Dice: 0.8514\n",
            "     OD_Dice: 0.8925, max_cup_Dice: 0.8569\n",
            "learning rate: 0.0001\n"
          ]
        },
        {
          "output_type": "stream",
          "name": "stderr",
          "text": [
            "Epoch 365/400: 100%|██████████| 125/125 [01:28<00:00,  1.42it/s, loss=0.012]\n"
          ]
        },
        {
          "output_type": "stream",
          "name": "stdout",
          "text": [
            "     OD_Dice: 0.9295,     cup_Dice: 0.8548\n",
            " max_OD_Dice: 0.9373,     cup_Dice: 0.8514\n",
            "     OD_Dice: 0.8925, max_cup_Dice: 0.8569\n",
            "learning rate: 0.0001\n"
          ]
        },
        {
          "output_type": "stream",
          "name": "stderr",
          "text": [
            "Epoch 366/400: 100%|██████████| 125/125 [01:28<00:00,  1.42it/s, loss=0.012]\n"
          ]
        },
        {
          "output_type": "stream",
          "name": "stdout",
          "text": [
            "     OD_Dice: 0.9328,     cup_Dice: 0.8570\n",
            " max_OD_Dice: 0.9373,     cup_Dice: 0.8514\n",
            "     OD_Dice: 0.9328, max_cup_Dice: 0.8570\n",
            "learning rate: 0.0001\n"
          ]
        },
        {
          "output_type": "stream",
          "name": "stderr",
          "text": [
            "Epoch 367/400: 100%|██████████| 125/125 [01:28<00:00,  1.42it/s, loss=0.011]\n"
          ]
        },
        {
          "output_type": "stream",
          "name": "stdout",
          "text": [
            "     OD_Dice: 0.9183,     cup_Dice: 0.8581\n",
            " max_OD_Dice: 0.9373,     cup_Dice: 0.8514\n",
            "     OD_Dice: 0.9183, max_cup_Dice: 0.8581\n",
            "learning rate: 0.0001\n"
          ]
        },
        {
          "output_type": "stream",
          "name": "stderr",
          "text": [
            "Epoch 368/400: 100%|██████████| 125/125 [01:28<00:00,  1.42it/s, loss=0.011]\n"
          ]
        },
        {
          "output_type": "stream",
          "name": "stdout",
          "text": [
            "     OD_Dice: 0.9343,     cup_Dice: 0.8582\n",
            " max_OD_Dice: 0.9373,     cup_Dice: 0.8514\n",
            "     OD_Dice: 0.9343, max_cup_Dice: 0.8582\n",
            "learning rate: 0.0001\n"
          ]
        },
        {
          "output_type": "stream",
          "name": "stderr",
          "text": [
            "Epoch 369/400: 100%|██████████| 125/125 [01:28<00:00,  1.42it/s, loss=0.015]\n"
          ]
        },
        {
          "output_type": "stream",
          "name": "stdout",
          "text": [
            "     OD_Dice: 0.8725,     cup_Dice: 0.8593\n",
            " max_OD_Dice: 0.9373,     cup_Dice: 0.8514\n",
            "     OD_Dice: 0.8725, max_cup_Dice: 0.8593\n",
            "learning rate: 0.0001\n"
          ]
        },
        {
          "output_type": "stream",
          "name": "stderr",
          "text": [
            "Epoch 370/400: 100%|██████████| 125/125 [01:28<00:00,  1.42it/s, loss=0.012]\n"
          ]
        },
        {
          "output_type": "stream",
          "name": "stdout",
          "text": [
            "     OD_Dice: 0.9318,     cup_Dice: 0.8525\n",
            " max_OD_Dice: 0.9373,     cup_Dice: 0.8514\n",
            "     OD_Dice: 0.8725, max_cup_Dice: 0.8593\n",
            "learning rate: 0.0001\n"
          ]
        },
        {
          "output_type": "stream",
          "name": "stderr",
          "text": [
            "Epoch 371/400: 100%|██████████| 125/125 [01:28<00:00,  1.42it/s, loss=0.011]\n"
          ]
        },
        {
          "output_type": "stream",
          "name": "stdout",
          "text": [
            "     OD_Dice: 0.9309,     cup_Dice: 0.8628\n",
            " max_OD_Dice: 0.9373,     cup_Dice: 0.8514\n",
            "     OD_Dice: 0.9309, max_cup_Dice: 0.8628\n",
            "learning rate: 0.0001\n"
          ]
        },
        {
          "output_type": "stream",
          "name": "stderr",
          "text": [
            "Epoch 372/400: 100%|██████████| 125/125 [01:28<00:00,  1.42it/s, loss=0.011]\n"
          ]
        },
        {
          "output_type": "stream",
          "name": "stdout",
          "text": [
            "     OD_Dice: 0.9371,     cup_Dice: 0.8609\n",
            " max_OD_Dice: 0.9373,     cup_Dice: 0.8514\n",
            "     OD_Dice: 0.9309, max_cup_Dice: 0.8628\n",
            "learning rate: 0.0001\n"
          ]
        },
        {
          "output_type": "stream",
          "name": "stderr",
          "text": [
            "Epoch 373/400: 100%|██████████| 125/125 [01:28<00:00,  1.42it/s, loss=0.012]\n"
          ]
        },
        {
          "output_type": "stream",
          "name": "stdout",
          "text": [
            "     OD_Dice: 0.9295,     cup_Dice: 0.8477\n",
            " max_OD_Dice: 0.9373,     cup_Dice: 0.8514\n",
            "     OD_Dice: 0.9309, max_cup_Dice: 0.8628\n",
            "learning rate: 0.0001\n"
          ]
        },
        {
          "output_type": "stream",
          "name": "stderr",
          "text": [
            "Epoch 374/400: 100%|██████████| 125/125 [01:28<00:00,  1.42it/s, loss=0.012]\n"
          ]
        },
        {
          "output_type": "stream",
          "name": "stdout",
          "text": [
            "     OD_Dice: 0.9362,     cup_Dice: 0.8537\n",
            " max_OD_Dice: 0.9373,     cup_Dice: 0.8514\n",
            "     OD_Dice: 0.9309, max_cup_Dice: 0.8628\n",
            "learning rate: 0.0001\n"
          ]
        },
        {
          "output_type": "stream",
          "name": "stderr",
          "text": [
            "Epoch 375/400: 100%|██████████| 125/125 [01:28<00:00,  1.42it/s, loss=0.011]\n"
          ]
        },
        {
          "output_type": "stream",
          "name": "stdout",
          "text": [
            "     OD_Dice: 0.9326,     cup_Dice: 0.8599\n",
            " max_OD_Dice: 0.9373,     cup_Dice: 0.8514\n",
            "     OD_Dice: 0.9309, max_cup_Dice: 0.8628\n",
            "learning rate: 0.0001\n"
          ]
        },
        {
          "output_type": "stream",
          "name": "stderr",
          "text": [
            "Epoch 376/400: 100%|██████████| 125/125 [01:28<00:00,  1.42it/s, loss=0.011]\n"
          ]
        },
        {
          "output_type": "stream",
          "name": "stdout",
          "text": [
            "     OD_Dice: 0.9399,     cup_Dice: 0.8637\n",
            " max_OD_Dice: 0.9399,     cup_Dice: 0.8637\n",
            "     OD_Dice: 0.9399, max_cup_Dice: 0.8637\n",
            "learning rate: 0.0001\n"
          ]
        },
        {
          "output_type": "stream",
          "name": "stderr",
          "text": [
            "Epoch 377/400: 100%|██████████| 125/125 [01:28<00:00,  1.42it/s, loss=0.011]\n"
          ]
        },
        {
          "output_type": "stream",
          "name": "stdout",
          "text": [
            "     OD_Dice: 0.9324,     cup_Dice: 0.8553\n",
            " max_OD_Dice: 0.9399,     cup_Dice: 0.8637\n",
            "     OD_Dice: 0.9399, max_cup_Dice: 0.8637\n",
            "learning rate: 0.0001\n"
          ]
        },
        {
          "output_type": "stream",
          "name": "stderr",
          "text": [
            "Epoch 378/400: 100%|██████████| 125/125 [01:28<00:00,  1.42it/s, loss=0.012]\n"
          ]
        },
        {
          "output_type": "stream",
          "name": "stdout",
          "text": [
            "     OD_Dice: 0.9360,     cup_Dice: 0.8576\n",
            " max_OD_Dice: 0.9399,     cup_Dice: 0.8637\n",
            "     OD_Dice: 0.9399, max_cup_Dice: 0.8637\n",
            "learning rate: 0.0001\n"
          ]
        },
        {
          "output_type": "stream",
          "name": "stderr",
          "text": [
            "Epoch 379/400: 100%|██████████| 125/125 [01:28<00:00,  1.42it/s, loss=0.011]\n"
          ]
        },
        {
          "output_type": "stream",
          "name": "stdout",
          "text": [
            "     OD_Dice: 0.9362,     cup_Dice: 0.8611\n",
            " max_OD_Dice: 0.9399,     cup_Dice: 0.8637\n",
            "     OD_Dice: 0.9399, max_cup_Dice: 0.8637\n",
            "learning rate: 0.0001\n"
          ]
        },
        {
          "output_type": "stream",
          "name": "stderr",
          "text": [
            "Epoch 380/400: 100%|██████████| 125/125 [01:28<00:00,  1.42it/s, loss=0.012]\n"
          ]
        },
        {
          "output_type": "stream",
          "name": "stdout",
          "text": [
            "     OD_Dice: 0.9384,     cup_Dice: 0.8589\n",
            " max_OD_Dice: 0.9399,     cup_Dice: 0.8637\n",
            "     OD_Dice: 0.9399, max_cup_Dice: 0.8637\n",
            "learning rate: 0.0001\n"
          ]
        },
        {
          "output_type": "stream",
          "name": "stderr",
          "text": [
            "Epoch 381/400: 100%|██████████| 125/125 [01:28<00:00,  1.42it/s, loss=0.012]\n"
          ]
        },
        {
          "output_type": "stream",
          "name": "stdout",
          "text": [
            "     OD_Dice: 0.9313,     cup_Dice: 0.8564\n",
            " max_OD_Dice: 0.9399,     cup_Dice: 0.8637\n",
            "     OD_Dice: 0.9399, max_cup_Dice: 0.8637\n",
            "learning rate: 0.0001\n"
          ]
        },
        {
          "output_type": "stream",
          "name": "stderr",
          "text": [
            "Epoch 382/400: 100%|██████████| 125/125 [01:28<00:00,  1.42it/s, loss=0.012]\n"
          ]
        },
        {
          "output_type": "stream",
          "name": "stdout",
          "text": [
            "     OD_Dice: 0.9340,     cup_Dice: 0.8568\n",
            " max_OD_Dice: 0.9399,     cup_Dice: 0.8637\n",
            "     OD_Dice: 0.9399, max_cup_Dice: 0.8637\n",
            "learning rate: 0.0001\n"
          ]
        },
        {
          "output_type": "stream",
          "name": "stderr",
          "text": [
            "Epoch 383/400: 100%|██████████| 125/125 [01:28<00:00,  1.42it/s, loss=0.011]\n"
          ]
        },
        {
          "output_type": "stream",
          "name": "stdout",
          "text": [
            "     OD_Dice: 0.9315,     cup_Dice: 0.8500\n",
            " max_OD_Dice: 0.9399,     cup_Dice: 0.8637\n",
            "     OD_Dice: 0.9399, max_cup_Dice: 0.8637\n",
            "learning rate: 0.0001\n"
          ]
        },
        {
          "output_type": "stream",
          "name": "stderr",
          "text": [
            "Epoch 384/400: 100%|██████████| 125/125 [01:28<00:00,  1.42it/s, loss=0.012]\n"
          ]
        },
        {
          "output_type": "stream",
          "name": "stdout",
          "text": [
            "     OD_Dice: 0.9376,     cup_Dice: 0.8595\n",
            " max_OD_Dice: 0.9399,     cup_Dice: 0.8637\n",
            "     OD_Dice: 0.9399, max_cup_Dice: 0.8637\n",
            "learning rate: 0.0001\n"
          ]
        },
        {
          "output_type": "stream",
          "name": "stderr",
          "text": [
            "Epoch 385/400: 100%|██████████| 125/125 [01:28<00:00,  1.42it/s, loss=0.014]\n"
          ]
        },
        {
          "output_type": "stream",
          "name": "stdout",
          "text": [
            "     OD_Dice: 0.8181,     cup_Dice: 0.6558\n",
            " max_OD_Dice: 0.9399,     cup_Dice: 0.8637\n",
            "     OD_Dice: 0.9399, max_cup_Dice: 0.8637\n",
            "learning rate: 0.0001\n"
          ]
        },
        {
          "output_type": "stream",
          "name": "stderr",
          "text": [
            "Epoch 386/400: 100%|██████████| 125/125 [01:28<00:00,  1.42it/s, loss=0.019]\n"
          ]
        },
        {
          "output_type": "stream",
          "name": "stdout",
          "text": [
            "     OD_Dice: 0.9144,     cup_Dice: 0.8540\n",
            " max_OD_Dice: 0.9399,     cup_Dice: 0.8637\n",
            "     OD_Dice: 0.9399, max_cup_Dice: 0.8637\n",
            "learning rate: 0.0001\n"
          ]
        },
        {
          "output_type": "stream",
          "name": "stderr",
          "text": [
            "Epoch 387/400: 100%|██████████| 125/125 [01:28<00:00,  1.42it/s, loss=0.015]\n"
          ]
        },
        {
          "output_type": "stream",
          "name": "stdout",
          "text": [
            "     OD_Dice: 0.9314,     cup_Dice: 0.8505\n",
            " max_OD_Dice: 0.9399,     cup_Dice: 0.8637\n",
            "     OD_Dice: 0.9399, max_cup_Dice: 0.8637\n",
            "learning rate: 0.0001\n"
          ]
        },
        {
          "output_type": "stream",
          "name": "stderr",
          "text": [
            "Epoch 388/400: 100%|██████████| 125/125 [01:28<00:00,  1.42it/s, loss=0.015]\n"
          ]
        },
        {
          "output_type": "stream",
          "name": "stdout",
          "text": [
            "     OD_Dice: 0.9118,     cup_Dice: 0.8569\n",
            " max_OD_Dice: 0.9399,     cup_Dice: 0.8637\n",
            "     OD_Dice: 0.9399, max_cup_Dice: 0.8637\n",
            "learning rate: 0.0001\n"
          ]
        },
        {
          "output_type": "stream",
          "name": "stderr",
          "text": [
            "Epoch 389/400: 100%|██████████| 125/125 [01:28<00:00,  1.42it/s, loss=0.028]\n"
          ]
        },
        {
          "output_type": "stream",
          "name": "stdout",
          "text": [
            "     OD_Dice: 0.9163,     cup_Dice: 0.8560\n",
            " max_OD_Dice: 0.9399,     cup_Dice: 0.8637\n",
            "     OD_Dice: 0.9399, max_cup_Dice: 0.8637\n",
            "learning rate: 0.0001\n"
          ]
        },
        {
          "output_type": "stream",
          "name": "stderr",
          "text": [
            "Epoch 390/400: 100%|██████████| 125/125 [01:28<00:00,  1.42it/s, loss=0.015]\n"
          ]
        },
        {
          "output_type": "stream",
          "name": "stdout",
          "text": [
            "     OD_Dice: 0.9017,     cup_Dice: 0.8489\n",
            " max_OD_Dice: 0.9399,     cup_Dice: 0.8637\n",
            "     OD_Dice: 0.9399, max_cup_Dice: 0.8637\n",
            "learning rate: 0.0001\n"
          ]
        },
        {
          "output_type": "stream",
          "name": "stderr",
          "text": [
            "Epoch 391/400: 100%|██████████| 125/125 [01:28<00:00,  1.42it/s, loss=0.012]\n"
          ]
        },
        {
          "output_type": "stream",
          "name": "stdout",
          "text": [
            "     OD_Dice: 0.9155,     cup_Dice: 0.8510\n",
            " max_OD_Dice: 0.9399,     cup_Dice: 0.8637\n",
            "     OD_Dice: 0.9399, max_cup_Dice: 0.8637\n",
            "learning rate: 0.0001\n"
          ]
        },
        {
          "output_type": "stream",
          "name": "stderr",
          "text": [
            "Epoch 392/400: 100%|██████████| 125/125 [01:28<00:00,  1.42it/s, loss=0.012]\n"
          ]
        },
        {
          "output_type": "stream",
          "name": "stdout",
          "text": [
            "     OD_Dice: 0.9079,     cup_Dice: 0.8543\n",
            " max_OD_Dice: 0.9399,     cup_Dice: 0.8637\n",
            "     OD_Dice: 0.9399, max_cup_Dice: 0.8637\n",
            "learning rate: 0.0001\n"
          ]
        },
        {
          "output_type": "stream",
          "name": "stderr",
          "text": [
            "Epoch 393/400: 100%|██████████| 125/125 [01:28<00:00,  1.42it/s, loss=0.012]\n"
          ]
        },
        {
          "output_type": "stream",
          "name": "stdout",
          "text": [
            "     OD_Dice: 0.9299,     cup_Dice: 0.8514\n",
            " max_OD_Dice: 0.9399,     cup_Dice: 0.8637\n",
            "     OD_Dice: 0.9399, max_cup_Dice: 0.8637\n",
            "learning rate: 0.0001\n"
          ]
        },
        {
          "output_type": "stream",
          "name": "stderr",
          "text": [
            "Epoch 394/400: 100%|██████████| 125/125 [01:28<00:00,  1.42it/s, loss=0.012]\n"
          ]
        },
        {
          "output_type": "stream",
          "name": "stdout",
          "text": [
            "     OD_Dice: 0.9347,     cup_Dice: 0.8565\n",
            " max_OD_Dice: 0.9399,     cup_Dice: 0.8637\n",
            "     OD_Dice: 0.9399, max_cup_Dice: 0.8637\n",
            "learning rate: 0.0001\n"
          ]
        },
        {
          "output_type": "stream",
          "name": "stderr",
          "text": [
            "Epoch 395/400: 100%|██████████| 125/125 [01:28<00:00,  1.42it/s, loss=0.012]\n"
          ]
        },
        {
          "output_type": "stream",
          "name": "stdout",
          "text": [
            "     OD_Dice: 0.9271,     cup_Dice: 0.8548\n",
            " max_OD_Dice: 0.9399,     cup_Dice: 0.8637\n",
            "     OD_Dice: 0.9399, max_cup_Dice: 0.8637\n",
            "learning rate: 0.0001\n"
          ]
        },
        {
          "output_type": "stream",
          "name": "stderr",
          "text": [
            "Epoch 396/400: 100%|██████████| 125/125 [01:28<00:00,  1.42it/s, loss=0.011]\n"
          ]
        },
        {
          "output_type": "stream",
          "name": "stdout",
          "text": [
            "     OD_Dice: 0.9264,     cup_Dice: 0.8544\n",
            " max_OD_Dice: 0.9399,     cup_Dice: 0.8637\n",
            "     OD_Dice: 0.9399, max_cup_Dice: 0.8637\n",
            "learning rate: 0.0001\n"
          ]
        },
        {
          "output_type": "stream",
          "name": "stderr",
          "text": [
            "Epoch 397/400: 100%|██████████| 125/125 [01:28<00:00,  1.42it/s, loss=0.011]\n"
          ]
        },
        {
          "output_type": "stream",
          "name": "stdout",
          "text": [
            "     OD_Dice: 0.9305,     cup_Dice: 0.8563\n",
            " max_OD_Dice: 0.9399,     cup_Dice: 0.8637\n",
            "     OD_Dice: 0.9399, max_cup_Dice: 0.8637\n",
            "learning rate: 0.0001\n"
          ]
        },
        {
          "output_type": "stream",
          "name": "stderr",
          "text": [
            "Epoch 398/400: 100%|██████████| 125/125 [01:28<00:00,  1.42it/s, loss=0.011]\n"
          ]
        },
        {
          "output_type": "stream",
          "name": "stdout",
          "text": [
            "     OD_Dice: 0.9315,     cup_Dice: 0.8598\n",
            " max_OD_Dice: 0.9399,     cup_Dice: 0.8637\n",
            "     OD_Dice: 0.9399, max_cup_Dice: 0.8637\n",
            "learning rate: 0.0001\n"
          ]
        },
        {
          "output_type": "stream",
          "name": "stderr",
          "text": [
            "Epoch 399/400: 100%|██████████| 125/125 [01:28<00:00,  1.42it/s, loss=0.011]\n"
          ]
        },
        {
          "output_type": "stream",
          "name": "stdout",
          "text": [
            "     OD_Dice: 0.9354,     cup_Dice: 0.8608\n",
            " max_OD_Dice: 0.9399,     cup_Dice: 0.8637\n",
            "     OD_Dice: 0.9399, max_cup_Dice: 0.8637\n",
            "learning rate: 0.0001\n"
          ]
        },
        {
          "output_type": "stream",
          "name": "stderr",
          "text": [
            "Epoch 400/400: 100%|██████████| 125/125 [01:28<00:00,  1.42it/s, loss=0.011]\n"
          ]
        },
        {
          "output_type": "stream",
          "name": "stdout",
          "text": [
            "     OD_Dice: 0.9362,     cup_Dice: 0.8614\n",
            " max_OD_Dice: 0.9399,     cup_Dice: 0.8637\n",
            "     OD_Dice: 0.9399, max_cup_Dice: 0.8637\n",
            "learning rate: 0.0001\n"
          ]
        }
      ]
    },
    {
      "cell_type": "code",
      "metadata": {
        "colab": {
          "base_uri": "https://localhost:8080/"
        },
        "id": "pGAuafYwm9SN",
        "outputId": "d53bea38-0577-4f7d-944d-410cf541acd7"
      },
      "source": [
        "model_names = [\"CNN\",\"RFCN\"]\n",
        "\n",
        "parser = argparse.ArgumentParser(description='CNN')\n",
        "# use last save model\n",
        "parser.add_argument('--device', type=str, default='0', help='GPU device (default: 0)')\n",
        "parser.add_argument('--test_crop_size', type=str, default='700,750,800,850,900', help='input image size')\n",
        "parser.add_argument('--threshold_confusion', default=0.4, type=float, help='threshold_confusion')\n",
        "parser.add_argument('--check_path', type=str, default='/content/drive/MyDrive/Datasets/Drishti-GS1_files/LOG/399.pt', help='load model path')\n",
        "\n",
        "parser.add_argument('-f')\n",
        "args = vars(parser.parse_args())\n",
        "\n",
        "checkpoint = torch.load(args['check_path'])\n",
        "checkpoint['args']['device'] = args['device']\n",
        "checkpoint['args']['check_path'] = args['check_path']\n",
        "checkpoint['args']['test_crop_size'] = args['test_crop_size']\n",
        "checkpoint['args']['threshold_confusion'] = args['threshold_confusion']\n",
        "args = checkpoint['args']\n",
        "logs = checkpoint['logs']\n",
        "print(logs[-1])\n",
        "\n",
        "os.environ['CUDA_VISIBLE_DEVICES'] = args['device']\n",
        "cudnn.benchmark = True\n",
        "torch.cuda.is_available()\n",
        "torch.manual_seed(args['seed'])\n",
        "torch.cuda.manual_seed(args['seed'])\n",
        "threshold_confusion = args['threshold_confusion']\n",
        "\n",
        "path_arr = args['check_path'].split('/')\n",
        "data_save_path = mkdir_p(args['check_path'][:-3] + '_result/')\n",
        "\n",
        "disc_list = [int(test_crop_size) for test_crop_size in args['test_crop_size'].split(',')]\n",
        "\n",
        "\n",
        "net = RFCN(num_classes=3, layers=args['layers'], filters=32, inplanes=3)\n",
        "net.eval().cuda()\n",
        "net.load_state_dict(checkpoint['net'], strict=False)\n",
        "\n",
        "file = open(str(data_save_path) + 'performance.txt', 'w+')\n",
        "for disc_idx in range(len(disc_list)):\n",
        "    crop_size = disc_list[disc_idx]\n",
        "    locals()['OD_Dice_' + str(crop_size)] = []\n",
        "    locals()['cup_Dice_' + str(crop_size)] = []\n",
        "    test_set = testDataset(imgs_path='/content/drive/MyDrive/Datasets/Drishti-GS1_files/Test/Images/',\n",
        "                           gts_path='/content/drive/MyDrive/Datasets/Drishti-GS1_files/Test/Test_GT/',\n",
        "                           crop_size=[crop_size],\n",
        "                           input_size=args['input_size'],\n",
        "                           data_polar=args['data_polar'])\n",
        "\n",
        "    test_loader = DataLoader(test_set, batch_size=1, shuffle=False, num_workers=0)\n",
        "\n",
        "    with torch.no_grad():\n",
        "        OD_Dices = []\n",
        "        cup_Dices = []\n",
        "        for batch_idx, (test_input, test_target, test_disk_center, test_crop_point, test_gt_point) in enumerate(test_loader):\n",
        "            test_input = test_input.detach().cuda()\n",
        "            test_outputs = net(test_input)\n",
        "            disc_predict = torch.nn.functional.softmax(test_outputs[-1][:, (0, 1), :, :], dim=1).cpu().data.numpy()[0]\n",
        "            disc_map = (resize(disc_predict[1, :, :], (crop_size, crop_size), mode='constant') * 255).astype(np.uint8)\n",
        "            cup_predict = torch.nn.functional.softmax(test_outputs[-1][:, (0, 2), :, :], dim=1).cpu().data.numpy()[0]\n",
        "            cup_map = (resize(cup_predict[1, :, :], (crop_size, crop_size), mode='constant') * 255).astype(np.uint8)\n",
        "            if args['data_polar'] is True:\n",
        "                disc_map[-round(crop_size / 3):, :] = 0\n",
        "                cup_map[-round(crop_size / 2):, :] = 0\n",
        "                disc_map = cv2.linearPolar(rotate(disc_map, 90), (crop_size / 2, crop_size / 2),\n",
        "                                           crop_size / 2, cv2.WARP_FILL_OUTLIERS + cv2.WARP_INVERSE_MAP)\n",
        "                cup_map = cv2.linearPolar(rotate(cup_map, 90), (crop_size / 2, crop_size / 2),\n",
        "                                          crop_size / 2, cv2.WARP_FILL_OUTLIERS + cv2.WARP_INVERSE_MAP)\n",
        "\n",
        "            disc_map = np.array(BW_img(disc_map, threshold_confusion), dtype=int)\n",
        "            cup_map = np.array(BW_img(cup_map, threshold_confusion), dtype=int)\n",
        "            test_target = test_target[0].data.numpy()\n",
        "            img_result = np.zeros(test_target.shape, dtype=np.int8)\n",
        "            img_result[1, test_gt_point[0][0]:test_gt_point[0][1], test_gt_point[0][2]:test_gt_point[0][3]] = \\\n",
        "                disc_map[test_crop_point[0][0]:test_crop_point[0][1], test_crop_point[0][2]:test_crop_point[0][3]]\n",
        "            img_result[2, test_gt_point[0][0]:test_gt_point[0][1], test_gt_point[0][2]:test_gt_point[0][3]] = \\\n",
        "                cup_map[test_crop_point[0][0]:test_crop_point[0][1], test_crop_point[0][2]:test_crop_point[0][3]]\n",
        "\n",
        "            OD_Dice, cup_Dice = calc_dice(img_result, test_target)\n",
        "            eval('OD_Dice_' + str(crop_size)).append(OD_Dice)\n",
        "            eval('cup_Dice_' + str(crop_size)).append(cup_Dice)\n",
        "\n",
        "        print(\"%3s mean OD_Dice: %4f + %4f, mean cup_Dice: %4f + %4f\" % (crop_size,\n",
        "                                                                         np.mean(eval('OD_Dice_' + str(crop_size))),\n",
        "                                                                         np.std(eval('OD_Dice_' + str(crop_size))),\n",
        "                                                                         np.mean(eval('cup_Dice_' + str(crop_size))),\n",
        "                                                                         np.std(eval('cup_Dice_' + str(crop_size)))))\n",
        "        file.write(\"%3s,%4f,%4f,%4f,%4f\\n\" % (crop_size,\n",
        "                                                      np.mean(eval('OD_Dice_' + str(crop_size))),\n",
        "                                                      np.std(eval('OD_Dice_' + str(crop_size))),\n",
        "                                                      np.mean(eval('cup_Dice_' + str(crop_size))),\n",
        "                                                      np.std(eval('cup_Dice_' + str(crop_size)))))"
      ],
      "execution_count": 9,
      "outputs": [
        {
          "output_type": "stream",
          "name": "stdout",
          "text": [
            "[399, 0.9362217612288978, 0.9399288078286311, 0.8636579410654747, 0.8613787591102227, 0.8636579410654747, 0.9399288078286311]\n"
          ]
        },
        {
          "output_type": "stream",
          "name": "stderr",
          "text": [
            "/usr/local/lib/python3.7/dist-packages/numpy/core/_asarray.py:83: VisibleDeprecationWarning: Creating an ndarray from ragged nested sequences (which is a list-or-tuple of lists-or-tuples-or ndarrays with different lengths or shapes) is deprecated. If you meant to do this, you must specify 'dtype=object' when creating the ndarray\n",
            "  return array(a, dtype, copy=False, order=order)\n"
          ]
        },
        {
          "output_type": "stream",
          "name": "stdout",
          "text": [
            "700 mean OD_Dice: 0.936222 + 0.070652, mean cup_Dice: 0.861379 + 0.123767\n",
            "750 mean OD_Dice: 0.937347 + 0.075064, mean cup_Dice: 0.861878 + 0.119726\n",
            "800 mean OD_Dice: 0.903219 + 0.157381, mean cup_Dice: 0.790822 + 0.212251\n",
            "850 mean OD_Dice: 0.700915 + 0.371627, mean cup_Dice: 0.611540 + 0.356638\n",
            "900 mean OD_Dice: 0.501315 + 0.428304, mean cup_Dice: 0.451702 + 0.397977\n"
          ]
        }
      ]
    }
  ]
}